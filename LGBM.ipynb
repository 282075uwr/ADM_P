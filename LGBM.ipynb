{
  "nbformat": 4,
  "nbformat_minor": 0,
  "metadata": {
    "kernelspec": {
      "display_name": "Python 3",
      "language": "python",
      "name": "python3"
    },
    "language_info": {
      "codemirror_mode": {
        "name": "ipython",
        "version": 3
      },
      "file_extension": ".py",
      "mimetype": "text/x-python",
      "name": "python",
      "nbconvert_exporter": "python",
      "pygments_lexer": "ipython3",
      "version": "3.7.9"
    },
    "papermill": {
      "default_parameters": {},
      "duration": 2920.47093,
      "end_time": "2021-02-28T16:08:38.070003",
      "environment_variables": {},
      "exception": null,
      "input_path": "__notebook__.ipynb",
      "output_path": "__notebook__.ipynb",
      "parameters": {},
      "start_time": "2021-02-28T15:19:57.599073",
      "version": "2.2.2"
    },
    "colab": {
      "name": "LGBM_O.ipynb",
      "provenance": []
    }
  },
  "cells": [
    {
      "cell_type": "markdown",
      "metadata": {
        "papermill": {
          "duration": 0.010057,
          "end_time": "2021-02-28T15:20:03.268442",
          "exception": false,
          "start_time": "2021-02-28T15:20:03.258385",
          "status": "completed"
        },
        "tags": [],
        "id": "SSNBsQrzWuuO"
      },
      "source": [
        "## Using LightGBM regressor "
      ]
    },
    {
      "cell_type": "code",
      "metadata": {
        "execution": {
          "iopub.execute_input": "2021-02-28T15:20:03.292739Z",
          "iopub.status.busy": "2021-02-28T15:20:03.292085Z",
          "iopub.status.idle": "2021-02-28T15:20:04.303249Z",
          "shell.execute_reply": "2021-02-28T15:20:04.302619Z"
        },
        "papermill": {
          "duration": 1.026192,
          "end_time": "2021-02-28T15:20:04.303444",
          "exception": false,
          "start_time": "2021-02-28T15:20:03.277252",
          "status": "completed"
        },
        "tags": [],
        "id": "PmlRPQU3Wuud",
        "outputId": "2bb95b35-6329-4121-ddcd-7f9f5ca588b0"
      },
      "source": [
        "import numpy as np\n",
        "import pandas as pd\n",
        "import scipy.stats as stats\n",
        "from pathlib import Path\n",
        "import glob\n",
        "\n",
        "from sklearn.model_selection import KFold\n",
        "import lightgbm as lgb\n",
        "\n",
        "import psutil\n",
        "import random\n",
        "import os\n",
        "import time\n",
        "import sys\n",
        "import math\n",
        "from contextlib import contextmanager"
      ],
      "execution_count": null,
      "outputs": [
        {
          "output_type": "display_data",
          "data": {
            "text/html": [
              "<style type='text/css'>\n",
              ".datatable table.frame { margin-bottom: 0; }\n",
              ".datatable table.frame thead { border-bottom: none; }\n",
              ".datatable table.frame tr.coltypes td {  color: #FFFFFF;  line-height: 6px;  padding: 0 0.5em;}\n",
              ".datatable .bool    { background: #DDDD99; }\n",
              ".datatable .object  { background: #565656; }\n",
              ".datatable .int     { background: #5D9E5D; }\n",
              ".datatable .float   { background: #4040CC; }\n",
              ".datatable .str     { background: #CC4040; }\n",
              ".datatable .row_index {  background: var(--jp-border-color3);  border-right: 1px solid var(--jp-border-color0);  color: var(--jp-ui-font-color3);  font-size: 9px;}\n",
              ".datatable .frame tr.coltypes .row_index {  background: var(--jp-border-color0);}\n",
              ".datatable th:nth-child(2) { padding-left: 12px; }\n",
              ".datatable .hellipsis {  color: var(--jp-cell-editor-border-color);}\n",
              ".datatable .vellipsis {  background: var(--jp-layout-color0);  color: var(--jp-cell-editor-border-color);}\n",
              ".datatable .na {  color: var(--jp-cell-editor-border-color);  font-size: 80%;}\n",
              ".datatable .footer { font-size: 9px; }\n",
              ".datatable .frame_dimensions {  background: var(--jp-border-color3);  border-top: 1px solid var(--jp-border-color0);  color: var(--jp-ui-font-color3);  display: inline-block;  opacity: 0.6;  padding: 1px 10px 1px 5px;}\n",
              "</style>\n"
            ],
            "text/plain": [
              "<IPython.core.display.HTML object>"
            ]
          },
          "metadata": {
            "tags": []
          }
        }
      ]
    },
    {
      "cell_type": "code",
      "metadata": {
        "execution": {
          "iopub.execute_input": "2021-02-28T15:20:04.326972Z",
          "iopub.status.busy": "2021-02-28T15:20:04.326298Z",
          "iopub.status.idle": "2021-02-28T15:20:04.329143Z",
          "shell.execute_reply": "2021-02-28T15:20:04.328644Z"
        },
        "papermill": {
          "duration": 0.015923,
          "end_time": "2021-02-28T15:20:04.329277",
          "exception": false,
          "start_time": "2021-02-28T15:20:04.313354",
          "status": "completed"
        },
        "tags": [],
        "id": "BmWZt7swWuuq"
      },
      "source": [
        "N_SPLITS = 20\n",
        "SEED = 1234"
      ],
      "execution_count": null,
      "outputs": []
    },
    {
      "cell_type": "markdown",
      "metadata": {
        "papermill": {
          "duration": 0.008904,
          "end_time": "2021-02-28T15:20:04.347495",
          "exception": false,
          "start_time": "2021-02-28T15:20:04.338591",
          "status": "completed"
        },
        "tags": [],
        "id": "536WFPRkWuuu"
      },
      "source": [
        "Get file path from kaggle "
      ]
    },
    {
      "cell_type": "code",
      "metadata": {
        "execution": {
          "iopub.execute_input": "2021-02-28T15:20:04.370441Z",
          "iopub.status.busy": "2021-02-28T15:20:04.369828Z",
          "iopub.status.idle": "2021-02-28T15:20:04.372501Z",
          "shell.execute_reply": "2021-02-28T15:20:04.372019Z"
        },
        "papermill": {
          "duration": 0.016083,
          "end_time": "2021-02-28T15:20:04.372635",
          "exception": false,
          "start_time": "2021-02-28T15:20:04.356552",
          "status": "completed"
        },
        "tags": [],
        "id": "gNy-_OIuWuuz"
      },
      "source": [
        "LOG_PATH = Path(\"./log/\")\n",
        "LOG_PATH.mkdir(parents=True, exist_ok=True)"
      ],
      "execution_count": null,
      "outputs": []
    },
    {
      "cell_type": "markdown",
      "metadata": {
        "papermill": {
          "duration": 0.009576,
          "end_time": "2021-02-28T15:20:04.391588",
          "exception": false,
          "start_time": "2021-02-28T15:20:04.382012",
          "status": "completed"
        },
        "tags": [],
        "id": "_5K82cmJWuu6"
      },
      "source": [
        "Some utility code\n",
        "\n",
        "1. A timer\n",
        "2. A seed setter\n",
        "3. A intermediate metric finder\n",
        "4. A score logger"
      ]
    },
    {
      "cell_type": "code",
      "metadata": {
        "execution": {
          "iopub.execute_input": "2021-02-28T15:20:04.424291Z",
          "iopub.status.busy": "2021-02-28T15:20:04.423383Z",
          "iopub.status.idle": "2021-02-28T15:20:04.426813Z",
          "shell.execute_reply": "2021-02-28T15:20:04.426245Z"
        },
        "papermill": {
          "duration": 0.025637,
          "end_time": "2021-02-28T15:20:04.426961",
          "exception": false,
          "start_time": "2021-02-28T15:20:04.401324",
          "status": "completed"
        },
        "tags": [],
        "id": "QpZAxWMFWuu9"
      },
      "source": [
        "@contextmanager\n",
        "def timer(name: str):\n",
        "    t0 = time.time()\n",
        "    p = psutil.Process(os.getpid())\n",
        "    m0 = p.memory_info()[0] / 2. ** 30\n",
        "    try:\n",
        "        yield\n",
        "    finally:\n",
        "        m1 = p.memory_info()[0] / 2. ** 30\n",
        "        delta = m1 - m0\n",
        "        sign = '+' if delta >= 0 else '-'\n",
        "        delta = math.fabs(delta)\n",
        "        print(f\"[{m1:.1f}GB({sign}{delta:.1f}GB): {time.time() - t0:.3f}sec] {name}\", file=sys.stderr)\n",
        "\n",
        "\n",
        "def set_seed(seed=1234):\n",
        "    random.seed(seed)\n",
        "    os.environ[\"PYTHONHASHSEED\"] = str(seed)\n",
        "    np.random.seed(seed)\n",
        "\n",
        "    \n",
        "def comp_metric(xhat, yhat, fhat, x, y, f):\n",
        "    intermediate = np.sqrt(np.power(xhat-x, 2) + np.power(yhat-y, 2)) + 15 * np.abs(fhat-f)\n",
        "    return intermediate.sum()/xhat.shape[0]\n",
        "\n",
        "\n",
        "def score_log(df: pd.DataFrame, num_files: int, nam_file: str, data_shape: tuple, n_fold: int, seed: int, mpe: float):\n",
        "    score_dict = {'n_files': num_files, 'file_name': nam_file, 'shape': data_shape, 'fold': n_fold, 'seed': seed, 'score': mpe}\n",
        "    # noinspection PyTypeChecker\n",
        "    df = pd.concat([df, pd.DataFrame.from_dict([score_dict])])\n",
        "    df.to_csv(LOG_PATH / f\"log_score.csv\", index=False)\n",
        "    return df\n"
      ],
      "execution_count": null,
      "outputs": []
    },
    {
      "cell_type": "markdown",
      "metadata": {
        "papermill": {
          "duration": 0.009063,
          "end_time": "2021-02-28T15:20:04.445525",
          "exception": false,
          "start_time": "2021-02-28T15:20:04.436462",
          "status": "completed"
        },
        "tags": [],
        "id": "f96qCvfDWuvN"
      },
      "source": [
        "Get all the data in our nb env"
      ]
    },
    {
      "cell_type": "code",
      "metadata": {
        "execution": {
          "iopub.execute_input": "2021-02-28T15:20:04.470066Z",
          "iopub.status.busy": "2021-02-28T15:20:04.469394Z",
          "iopub.status.idle": "2021-02-28T15:20:04.528321Z",
          "shell.execute_reply": "2021-02-28T15:20:04.527697Z"
        },
        "papermill": {
          "duration": 0.073642,
          "end_time": "2021-02-28T15:20:04.528476",
          "exception": false,
          "start_time": "2021-02-28T15:20:04.454834",
          "status": "completed"
        },
        "tags": [],
        "id": "JGYJ8sIUWuvQ"
      },
      "source": [
        "set_seed(SEED)\n",
        "feature_dir = \"../input/indoor-navigation-and-location-wifi-features\"\n",
        "train_files = sorted(glob.glob(os.path.join(feature_dir, '*_train.csv')))\n",
        "test_files = sorted(glob.glob(os.path.join(feature_dir, '*_test.csv')))\n",
        "subm = pd.read_csv('../input/indoor-location-navigation/sample_submission.csv', index_col=0)"
      ],
      "execution_count": null,
      "outputs": []
    },
    {
      "cell_type": "markdown",
      "metadata": {
        "papermill": {
          "duration": 0.009267,
          "end_time": "2021-02-28T15:20:04.547461",
          "exception": false,
          "start_time": "2021-02-28T15:20:04.538194",
          "status": "completed"
        },
        "tags": [],
        "id": "b3N0snHKWuvT"
      },
      "source": [
        "Create some tuned paratmeters for the LGB ( These may be tweaked to get the best performance)"
      ]
    },
    {
      "cell_type": "code",
      "metadata": {
        "execution": {
          "iopub.execute_input": "2021-02-28T15:20:04.569603Z",
          "iopub.status.busy": "2021-02-28T15:20:04.569007Z",
          "iopub.status.idle": "2021-02-28T15:20:04.576431Z",
          "shell.execute_reply": "2021-02-28T15:20:04.576986Z"
        },
        "papermill": {
          "duration": 0.020095,
          "end_time": "2021-02-28T15:20:04.577149",
          "exception": false,
          "start_time": "2021-02-28T15:20:04.557054",
          "status": "completed"
        },
        "tags": [],
        "id": "YBKKEGtsWuvY"
      },
      "source": [
        "lgb_params_1 = {'objective': 'root_mean_squared_error',\n",
        "              'boosting_type': 'gbdt',\n",
        "              'n_estimators': 50000,\n",
        "              'learning_rate': 0.01,\n",
        "              'num_leaves': 90,\n",
        "              'colsample_bytree': 0.4,\n",
        "              'subsample': 0.6,\n",
        "              'subsample_freq': 2,\n",
        "              'bagging_seed': SEED,\n",
        "              'reg_alpha': 8,\n",
        "              'reg_lambda': 2,\n",
        "              'random_state': SEED,\n",
        "              'n_jobs': -1\n",
        "              }\n",
        "\n",
        "\n",
        "lgb_params_2 = {'objective': 'root_mean_squared_error',\n",
        "              'boosting_type': 'gbdt',\n",
        "              'n_estimators': 50000,\n",
        "              'learning_rate': 0.01,\n",
        "              'num_leaves': 90,\n",
        "              'colsample_bytree': 0.4,\n",
        "              'subsample': 0.6,\n",
        "              'subsample_freq': 2,\n",
        "              'bagging_seed': SEED,\n",
        "              'reg_alpha': 8,\n",
        "              'reg_lambda': 2,\n",
        "              'random_state': SEED,\n",
        "              'n_jobs': -1\n",
        "              }\n",
        "\n",
        "lgb_f_params = {'objective': 'multiclass',\n",
        "                'boosting_type': 'gbdt',\n",
        "                'n_estimators': 50000,\n",
        "                'learning_rate': 0.02,\n",
        "                'num_leaves': 90,\n",
        "                'colsample_bytree': 0.4,\n",
        "                'subsample': 0.6,\n",
        "                'subsample_freq': 2,\n",
        "                'bagging_seed': SEED,\n",
        "                'reg_alpha': 10,\n",
        "                'reg_lambda': 2,\n",
        "                'random_state': SEED,\n",
        "                'n_jobs': -1\n",
        "                }"
      ],
      "execution_count": null,
      "outputs": []
    },
    {
      "cell_type": "markdown",
      "metadata": {
        "papermill": {
          "duration": 0.010929,
          "end_time": "2021-02-28T15:20:04.598159",
          "exception": false,
          "start_time": "2021-02-28T15:20:04.587230",
          "status": "completed"
        },
        "tags": [],
        "id": "l2AghQwoWuvd"
      },
      "source": [
        "Splitting the data into train and validation and passed them through LGBm and then ssaving the predicitions into pred"
      ]
    },
    {
      "cell_type": "code",
      "metadata": {
        "execution": {
          "iopub.execute_input": "2021-02-28T15:20:04.621079Z",
          "iopub.status.busy": "2021-02-28T15:20:04.620481Z",
          "iopub.status.idle": "2021-02-28T15:20:04.624807Z",
          "shell.execute_reply": "2021-02-28T15:20:04.624198Z"
        },
        "papermill": {
          "duration": 0.016574,
          "end_time": "2021-02-28T15:20:04.624943",
          "exception": false,
          "start_time": "2021-02-28T15:20:04.608369",
          "status": "completed"
        },
        "tags": [],
        "id": "c56XHGG0Wuve"
      },
      "source": [
        "import joblib\n",
        "import pickle"
      ],
      "execution_count": null,
      "outputs": []
    },
    {
      "cell_type": "code",
      "metadata": {
        "execution": {
          "iopub.execute_input": "2021-02-28T15:20:04.647817Z",
          "iopub.status.busy": "2021-02-28T15:20:04.647176Z",
          "iopub.status.idle": "2021-02-28T16:08:36.945468Z",
          "shell.execute_reply": "2021-02-28T16:08:36.945977Z"
        },
        "papermill": {
          "duration": 2912.31131,
          "end_time": "2021-02-28T16:08:36.946269",
          "exception": false,
          "start_time": "2021-02-28T15:20:04.634959",
          "status": "completed"
        },
        "tags": [],
        "id": "w3W3ZlqcWuvh",
        "outputId": "62a81f0c-8b7f-4d4b-eaba-79f7c1f23ad5"
      },
      "source": [
        "score_df = pd.DataFrame()\n",
        "\n",
        "oof = list()\n",
        "\n",
        "predictions = list()\n",
        "\n",
        "for n_files, file in enumerate(train_files):\n",
        "    \n",
        "    if n_files != 19:\n",
        "        \n",
        "        continue\n",
        "    \n",
        "    data = pd.read_csv(file, index_col=0)\n",
        "    \n",
        "    test_data = pd.read_csv(test_files[n_files], index_col=0)\n",
        "\n",
        "    oof_x, oof_y, oof_f = np.zeros(data.shape[0]), np.zeros(data.shape[0]), np.zeros(data.shape[0])\n",
        "    preds_x, preds_y = 0, 0\n",
        "    preds_f_arr = np.zeros((test_data.shape[0], N_SPLITS))\n",
        "\n",
        "    kf = KFold(n_splits=N_SPLITS, shuffle=True, random_state=SEED)\n",
        "    \n",
        "    for fold, (trn_idx, val_idx) in enumerate(kf.split(data.iloc[:, :-4])):\n",
        "        \n",
        "        X_train = data.iloc[trn_idx, :-4]\n",
        "        y_trainx = data.iloc[trn_idx, -4]\n",
        "        y_trainy = data.iloc[trn_idx, -3]\n",
        "        y_trainf = data.iloc[trn_idx, -2]\n",
        "\n",
        "        X_valid = data.iloc[val_idx, :-4]\n",
        "        y_validx = data.iloc[val_idx, -4]\n",
        "        y_validy = data.iloc[val_idx, -3]\n",
        "        y_validf = data.iloc[val_idx, -2]\n",
        "\n",
        "        modelx = lgb.LGBMRegressor(**lgb_params_1)\n",
        "        \n",
        "        #modelx.save_model('lgb_x'+f'_{fold}', num_iteration=modelx.best_iteration) \n",
        "        #modely.save_model('lgb_y'+f'_{fold}', num_iteration=modely.best_iteration) \n",
        "        #modelf.save_model('lgb_f'+f'_{fold}', num_iteration=modef.best_iteration) \n",
        "        \n",
        "        with timer(\"fit X\"):\n",
        "            \n",
        "            modelx.fit(X_train, y_trainx,\n",
        "                       eval_set=[(X_valid, y_validx)],\n",
        "                       eval_metric='rmse',\n",
        "                       verbose=250,\n",
        "                       early_stopping_rounds=50\n",
        "                       )\n",
        "\n",
        "        modely = lgb.LGBMRegressor(**lgb_params_2)\n",
        "        \n",
        "        with timer(\"fit Y\"):\n",
        "            \n",
        "            modely.fit(X_train, y_trainy,\n",
        "                       eval_set=[(X_valid, y_validy)],\n",
        "                       eval_metric='rmse',\n",
        "                       verbose=250,\n",
        "                       early_stopping_rounds=50\n",
        "                       )\n",
        "            \n",
        "        modelf = lgb.LGBMClassifier(**lgb_f_params)\n",
        "        \n",
        "        with timer(\"fit F\"):\n",
        "            \n",
        "            modelf.fit(X_train, y_trainf,\n",
        "                       eval_set=[(X_valid, y_validf)],\n",
        "                       eval_metric='multi_logloss',\n",
        "                       verbose=250,\n",
        "                       early_stopping_rounds=50\n",
        "                       )\n",
        "            \n",
        "        plh_x = 'lgbx'+ '_' + str(fold) + '_' +'.pkl'\n",
        "        plh_y = 'lgby'+ '_' + str(fold) + '_' +'.pkl'\n",
        "        plh_f = 'lgbf'+ '_' + str(fold) + '_' +'.pkl'\n",
        "            \n",
        "        joblib.dump(modelx, plh_x)\n",
        "        joblib.dump(modely, plh_y)\n",
        "        joblib.dump(modelf, plh_f)\n",
        "\n",
        "        oof_x[val_idx] = modelx.predict(X_valid)\n",
        "        oof_y[val_idx] = modely.predict(X_valid)\n",
        "        oof_f[val_idx] = modelf.predict(X_valid).astype(int)\n",
        "\n",
        "        preds_x += modelx.predict(test_data.iloc[:, :-1]) / N_SPLITS\n",
        "        preds_y += modely.predict(test_data.iloc[:, :-1]) / N_SPLITS\n",
        "        preds_f_arr[:, fold] = modelf.predict(test_data.iloc[:, :-1]).astype(int)\n",
        "\n",
        "        score = comp_metric(oof_x[val_idx], oof_y[val_idx], oof_f[val_idx],\n",
        "                            y_validx.to_numpy(), y_validy.to_numpy(), y_validf.to_numpy())\n",
        "        print(f\"fold {fold}: mean position error {score}\")\n",
        "        score_df = score_log(score_df, n_files, os.path.basename(file), data.shape, fold, SEED, score)\n",
        "\n",
        "    print(\"*+\"*40)\n",
        "    print(f\"file #{n_files}, shape={data.shape}, name={os.path.basename(file)}\")\n",
        "    score = comp_metric(oof_x, oof_y, oof_f,\n",
        "                        data.iloc[:, -4].to_numpy(), data.iloc[:, -3].to_numpy(), data.iloc[:, -2].to_numpy())\n",
        "    oof.append(score)\n",
        "    print(f\"mean position error {score}\")\n",
        "    print(\"*+\"*40)\n",
        "    score_df = score_log(score_df, n_files, os.path.basename(file), data.shape, 999, SEED, score)\n",
        "\n",
        "    preds_f_mode = stats.mode(preds_f_arr, axis=1)\n",
        "    preds_f = preds_f_mode[0].astype(int).reshape(-1)\n",
        "    test_preds = pd.DataFrame(np.stack((preds_f, preds_x, preds_y))).T\n",
        "    test_preds.columns = subm.columns\n",
        "    test_preds.index = test_data[\"site_path_timestamp\"]\n",
        "    test_preds[\"floor\"] = test_preds[\"floor\"].astype(int)\n",
        "    predictions.append(test_preds)"
      ],
      "execution_count": null,
      "outputs": [
        {
          "output_type": "stream",
          "text": [
            "Training until validation scores don't improve for 50 rounds\n",
            "[250]\tvalid_0's rmse: 6.09353\n",
            "[500]\tvalid_0's rmse: 3.35968\n",
            "[750]\tvalid_0's rmse: 3.04734\n",
            "[1000]\tvalid_0's rmse: 2.89739\n",
            "[1250]\tvalid_0's rmse: 2.79644\n",
            "[1500]\tvalid_0's rmse: 2.73825\n",
            "[1750]\tvalid_0's rmse: 2.69349\n",
            "[2000]\tvalid_0's rmse: 2.65794\n",
            "[2250]\tvalid_0's rmse: 2.63244\n",
            "[2500]\tvalid_0's rmse: 2.60824\n",
            "[2750]\tvalid_0's rmse: 2.58642\n",
            "Early stopping, best iteration is:\n",
            "[2846]\tvalid_0's rmse: 2.5825\n"
          ],
          "name": "stdout"
        },
        {
          "output_type": "stream",
          "text": [
            "[0.5GB(+0.1GB): 35.854sec] fit X\n"
          ],
          "name": "stderr"
        },
        {
          "output_type": "stream",
          "text": [
            "Training until validation scores don't improve for 50 rounds\n",
            "[250]\tvalid_0's rmse: 5.50205\n",
            "[500]\tvalid_0's rmse: 3.43106\n",
            "[750]\tvalid_0's rmse: 3.02702\n",
            "[1000]\tvalid_0's rmse: 2.8613\n",
            "[1250]\tvalid_0's rmse: 2.77004\n",
            "[1500]\tvalid_0's rmse: 2.70445\n",
            "[1750]\tvalid_0's rmse: 2.65588\n",
            "[2000]\tvalid_0's rmse: 2.62825\n",
            "[2250]\tvalid_0's rmse: 2.60135\n",
            "[2500]\tvalid_0's rmse: 2.57954\n",
            "[2750]\tvalid_0's rmse: 2.56159\n",
            "Early stopping, best iteration is:\n",
            "[2792]\tvalid_0's rmse: 2.55734\n"
          ],
          "name": "stdout"
        },
        {
          "output_type": "stream",
          "text": [
            "[0.5GB(+0.0GB): 34.362sec] fit Y\n"
          ],
          "name": "stderr"
        },
        {
          "output_type": "stream",
          "text": [
            "Training until validation scores don't improve for 50 rounds\n",
            "[250]\tvalid_0's multi_logloss: 0.0583965\n",
            "[500]\tvalid_0's multi_logloss: 0.0502752\n",
            "[750]\tvalid_0's multi_logloss: 0.0488314\n",
            "[1000]\tvalid_0's multi_logloss: 0.0478793\n",
            "[1250]\tvalid_0's multi_logloss: 0.0470219\n",
            "[1500]\tvalid_0's multi_logloss: 0.0466792\n",
            "[1750]\tvalid_0's multi_logloss: 0.0462707\n",
            "[2000]\tvalid_0's multi_logloss: 0.0459415\n",
            "[2250]\tvalid_0's multi_logloss: 0.0456856\n",
            "[2500]\tvalid_0's multi_logloss: 0.045264\n",
            "[2750]\tvalid_0's multi_logloss: 0.0449907\n",
            "[3000]\tvalid_0's multi_logloss: 0.0446813\n",
            "[3250]\tvalid_0's multi_logloss: 0.0444745\n",
            "[3500]\tvalid_0's multi_logloss: 0.0442799\n",
            "[3750]\tvalid_0's multi_logloss: 0.0440772\n",
            "[4000]\tvalid_0's multi_logloss: 0.0438043\n",
            "Early stopping, best iteration is:\n",
            "[3972]\tvalid_0's multi_logloss: 0.0438028\n"
          ],
          "name": "stdout"
        },
        {
          "output_type": "stream",
          "text": [
            "[0.5GB(+0.0GB): 58.925sec] fit F\n"
          ],
          "name": "stderr"
        },
        {
          "output_type": "stream",
          "text": [
            "fold 0: mean position error 2.9413699471945827\n",
            "Training until validation scores don't improve for 50 rounds\n",
            "[250]\tvalid_0's rmse: 7.06529\n",
            "[500]\tvalid_0's rmse: 3.77992\n",
            "[750]\tvalid_0's rmse: 3.45538\n",
            "[1000]\tvalid_0's rmse: 3.25367\n",
            "[1250]\tvalid_0's rmse: 3.12209\n",
            "[1500]\tvalid_0's rmse: 3.02881\n",
            "[1750]\tvalid_0's rmse: 2.95453\n",
            "[2000]\tvalid_0's rmse: 2.89953\n",
            "[2250]\tvalid_0's rmse: 2.85056\n",
            "[2500]\tvalid_0's rmse: 2.81716\n",
            "[2750]\tvalid_0's rmse: 2.79132\n",
            "[3000]\tvalid_0's rmse: 2.76587\n",
            "[3250]\tvalid_0's rmse: 2.74655\n",
            "[3500]\tvalid_0's rmse: 2.72983\n",
            "[3750]\tvalid_0's rmse: 2.71247\n",
            "Early stopping, best iteration is:\n",
            "[3834]\tvalid_0's rmse: 2.70663\n"
          ],
          "name": "stdout"
        },
        {
          "output_type": "stream",
          "text": [
            "[0.5GB(-0.0GB): 47.938sec] fit X\n"
          ],
          "name": "stderr"
        },
        {
          "output_type": "stream",
          "text": [
            "Training until validation scores don't improve for 50 rounds\n",
            "[250]\tvalid_0's rmse: 5.38898\n",
            "[500]\tvalid_0's rmse: 3.4358\n",
            "[750]\tvalid_0's rmse: 3.04166\n",
            "[1000]\tvalid_0's rmse: 2.86773\n",
            "[1250]\tvalid_0's rmse: 2.76356\n",
            "[1500]\tvalid_0's rmse: 2.69266\n",
            "[1750]\tvalid_0's rmse: 2.65258\n",
            "[2000]\tvalid_0's rmse: 2.62012\n",
            "[2250]\tvalid_0's rmse: 2.59122\n",
            "[2500]\tvalid_0's rmse: 2.57282\n",
            "[2750]\tvalid_0's rmse: 2.55797\n",
            "[3000]\tvalid_0's rmse: 2.54967\n",
            "[3250]\tvalid_0's rmse: 2.53981\n",
            "Early stopping, best iteration is:\n",
            "[3363]\tvalid_0's rmse: 2.53417\n"
          ],
          "name": "stdout"
        },
        {
          "output_type": "stream",
          "text": [
            "[0.5GB(+0.0GB): 42.518sec] fit Y\n"
          ],
          "name": "stderr"
        },
        {
          "output_type": "stream",
          "text": [
            "Training until validation scores don't improve for 50 rounds\n",
            "[250]\tvalid_0's multi_logloss: 0.0575812\n",
            "[500]\tvalid_0's multi_logloss: 0.0504159\n",
            "[750]\tvalid_0's multi_logloss: 0.0488885\n",
            "[1000]\tvalid_0's multi_logloss: 0.0480656\n",
            "[1250]\tvalid_0's multi_logloss: 0.0472036\n",
            "[1500]\tvalid_0's multi_logloss: 0.046682\n",
            "Early stopping, best iteration is:\n",
            "[1640]\tvalid_0's multi_logloss: 0.0465597\n"
          ],
          "name": "stdout"
        },
        {
          "output_type": "stream",
          "text": [
            "[0.6GB(+0.0GB): 25.623sec] fit F\n"
          ],
          "name": "stderr"
        },
        {
          "output_type": "stream",
          "text": [
            "fold 1: mean position error 2.8047008662496893\n",
            "Training until validation scores don't improve for 50 rounds\n",
            "[250]\tvalid_0's rmse: 6.45276\n",
            "[500]\tvalid_0's rmse: 3.44216\n",
            "[750]\tvalid_0's rmse: 3.13628\n",
            "[1000]\tvalid_0's rmse: 3.03967\n",
            "Early stopping, best iteration is:\n",
            "[1198]\tvalid_0's rmse: 2.98928\n"
          ],
          "name": "stdout"
        },
        {
          "output_type": "stream",
          "text": [
            "[0.6GB(+0.0GB): 16.875sec] fit X\n"
          ],
          "name": "stderr"
        },
        {
          "output_type": "stream",
          "text": [
            "Training until validation scores don't improve for 50 rounds\n",
            "[250]\tvalid_0's rmse: 5.49503\n",
            "[500]\tvalid_0's rmse: 3.61075\n",
            "[750]\tvalid_0's rmse: 3.21397\n",
            "[1000]\tvalid_0's rmse: 3.05437\n",
            "[1250]\tvalid_0's rmse: 2.94118\n",
            "[1500]\tvalid_0's rmse: 2.86704\n",
            "[1750]\tvalid_0's rmse: 2.80887\n",
            "[2000]\tvalid_0's rmse: 2.76679\n",
            "[2250]\tvalid_0's rmse: 2.72967\n",
            "[2500]\tvalid_0's rmse: 2.69608\n",
            "[2750]\tvalid_0's rmse: 2.67094\n",
            "[3000]\tvalid_0's rmse: 2.64798\n",
            "[3250]\tvalid_0's rmse: 2.62771\n",
            "[3500]\tvalid_0's rmse: 2.61386\n",
            "[3750]\tvalid_0's rmse: 2.59692\n",
            "[4000]\tvalid_0's rmse: 2.58378\n",
            "[4250]\tvalid_0's rmse: 2.57108\n",
            "[4500]\tvalid_0's rmse: 2.56166\n",
            "[4750]\tvalid_0's rmse: 2.55362\n",
            "[5000]\tvalid_0's rmse: 2.54591\n",
            "[5250]\tvalid_0's rmse: 2.53726\n",
            "[5500]\tvalid_0's rmse: 2.53057\n",
            "Early stopping, best iteration is:\n",
            "[5565]\tvalid_0's rmse: 2.53009\n"
          ],
          "name": "stdout"
        },
        {
          "output_type": "stream",
          "text": [
            "[0.6GB(+0.0GB): 67.345sec] fit Y\n"
          ],
          "name": "stderr"
        },
        {
          "output_type": "stream",
          "text": [
            "Training until validation scores don't improve for 50 rounds\n",
            "[250]\tvalid_0's multi_logloss: 0.0678861\n",
            "[500]\tvalid_0's multi_logloss: 0.0597007\n",
            "[750]\tvalid_0's multi_logloss: 0.0580024\n",
            "[1000]\tvalid_0's multi_logloss: 0.0567244\n",
            "[1250]\tvalid_0's multi_logloss: 0.0561004\n",
            "[1500]\tvalid_0's multi_logloss: 0.0554534\n",
            "[1750]\tvalid_0's multi_logloss: 0.0549866\n",
            "[2000]\tvalid_0's multi_logloss: 0.0547095\n",
            "[2250]\tvalid_0's multi_logloss: 0.0544489\n",
            "[2500]\tvalid_0's multi_logloss: 0.0540195\n",
            "[2750]\tvalid_0's multi_logloss: 0.0536739\n",
            "[3000]\tvalid_0's multi_logloss: 0.0534521\n",
            "[3250]\tvalid_0's multi_logloss: 0.0531596\n",
            "[3500]\tvalid_0's multi_logloss: 0.0529101\n",
            "[3750]\tvalid_0's multi_logloss: 0.0527204\n",
            "[4000]\tvalid_0's multi_logloss: 0.0526068\n",
            "[4250]\tvalid_0's multi_logloss: 0.0524825\n",
            "[4500]\tvalid_0's multi_logloss: 0.0523374\n",
            "[4750]\tvalid_0's multi_logloss: 0.0521928\n",
            "[5000]\tvalid_0's multi_logloss: 0.0520395\n",
            "[5250]\tvalid_0's multi_logloss: 0.0517931\n",
            "[5500]\tvalid_0's multi_logloss: 0.0516199\n",
            "[5750]\tvalid_0's multi_logloss: 0.0515729\n",
            "[6000]\tvalid_0's multi_logloss: 0.0514137\n",
            "Early stopping, best iteration is:\n",
            "[6064]\tvalid_0's multi_logloss: 0.0513915\n"
          ],
          "name": "stdout"
        },
        {
          "output_type": "stream",
          "text": [
            "[0.6GB(+0.0GB): 93.891sec] fit F\n"
          ],
          "name": "stderr"
        },
        {
          "output_type": "stream",
          "text": [
            "fold 2: mean position error 3.0511081073981843\n",
            "Training until validation scores don't improve for 50 rounds\n",
            "[250]\tvalid_0's rmse: 6.54578\n",
            "[500]\tvalid_0's rmse: 3.62254\n",
            "[750]\tvalid_0's rmse: 3.14908\n",
            "[1000]\tvalid_0's rmse: 2.9267\n",
            "[1250]\tvalid_0's rmse: 2.78984\n",
            "[1500]\tvalid_0's rmse: 2.7005\n",
            "[1750]\tvalid_0's rmse: 2.6321\n",
            "[2000]\tvalid_0's rmse: 2.58567\n",
            "[2250]\tvalid_0's rmse: 2.54915\n",
            "[2500]\tvalid_0's rmse: 2.52537\n",
            "[2750]\tvalid_0's rmse: 2.50264\n",
            "[3000]\tvalid_0's rmse: 2.48312\n",
            "[3250]\tvalid_0's rmse: 2.46764\n",
            "[3500]\tvalid_0's rmse: 2.4516\n",
            "[3750]\tvalid_0's rmse: 2.44347\n",
            "Early stopping, best iteration is:\n",
            "[3872]\tvalid_0's rmse: 2.43907\n"
          ],
          "name": "stdout"
        },
        {
          "output_type": "stream",
          "text": [
            "[0.6GB(+0.0GB): 49.749sec] fit X\n"
          ],
          "name": "stderr"
        },
        {
          "output_type": "stream",
          "text": [
            "Training until validation scores don't improve for 50 rounds\n",
            "[250]\tvalid_0's rmse: 4.87203\n",
            "[500]\tvalid_0's rmse: 3.11651\n",
            "[750]\tvalid_0's rmse: 2.81729\n",
            "[1000]\tvalid_0's rmse: 2.66111\n",
            "[1250]\tvalid_0's rmse: 2.56207\n",
            "[1500]\tvalid_0's rmse: 2.49659\n",
            "[1750]\tvalid_0's rmse: 2.44906\n",
            "[2000]\tvalid_0's rmse: 2.41464\n",
            "[2250]\tvalid_0's rmse: 2.38861\n",
            "[2500]\tvalid_0's rmse: 2.36815\n",
            "[2750]\tvalid_0's rmse: 2.35345\n",
            "[3000]\tvalid_0's rmse: 2.34123\n",
            "Early stopping, best iteration is:\n",
            "[3132]\tvalid_0's rmse: 2.33521\n"
          ],
          "name": "stdout"
        },
        {
          "output_type": "stream",
          "text": [
            "[0.6GB(+0.0GB): 38.718sec] fit Y\n"
          ],
          "name": "stderr"
        },
        {
          "output_type": "stream",
          "text": [
            "Training until validation scores don't improve for 50 rounds\n",
            "[250]\tvalid_0's multi_logloss: 0.0517263\n",
            "[500]\tvalid_0's multi_logloss: 0.0444408\n",
            "[750]\tvalid_0's multi_logloss: 0.0429545\n",
            "[1000]\tvalid_0's multi_logloss: 0.0419447\n",
            "[1250]\tvalid_0's multi_logloss: 0.0411909\n",
            "[1500]\tvalid_0's multi_logloss: 0.0406912\n",
            "[1750]\tvalid_0's multi_logloss: 0.0402582\n",
            "[2000]\tvalid_0's multi_logloss: 0.0399221\n",
            "[2250]\tvalid_0's multi_logloss: 0.0397956\n",
            "[2500]\tvalid_0's multi_logloss: 0.039569\n",
            "[2750]\tvalid_0's multi_logloss: 0.0393215\n",
            "[3000]\tvalid_0's multi_logloss: 0.0390362\n",
            "[3250]\tvalid_0's multi_logloss: 0.0388556\n",
            "[3500]\tvalid_0's multi_logloss: 0.0386404\n",
            "[3750]\tvalid_0's multi_logloss: 0.0385372\n",
            "[4000]\tvalid_0's multi_logloss: 0.0384374\n",
            "[4250]\tvalid_0's multi_logloss: 0.0383196\n",
            "[4500]\tvalid_0's multi_logloss: 0.0381\n",
            "Early stopping, best iteration is:\n",
            "[4638]\tvalid_0's multi_logloss: 0.0380324\n"
          ],
          "name": "stdout"
        },
        {
          "output_type": "stream",
          "text": [
            "[0.6GB(+0.0GB): 71.282sec] fit F\n"
          ],
          "name": "stderr"
        },
        {
          "output_type": "stream",
          "text": [
            "fold 3: mean position error 2.711602150644666\n",
            "Training until validation scores don't improve for 50 rounds\n",
            "[250]\tvalid_0's rmse: 8.05749\n",
            "[500]\tvalid_0's rmse: 4.49542\n",
            "[750]\tvalid_0's rmse: 3.93823\n",
            "[1000]\tvalid_0's rmse: 3.67747\n",
            "[1250]\tvalid_0's rmse: 3.51781\n",
            "[1500]\tvalid_0's rmse: 3.39727\n",
            "[1750]\tvalid_0's rmse: 3.3547\n",
            "[2000]\tvalid_0's rmse: 3.30805\n",
            "Early stopping, best iteration is:\n",
            "[1974]\tvalid_0's rmse: 3.30384\n"
          ],
          "name": "stdout"
        },
        {
          "output_type": "stream",
          "text": [
            "[0.6GB(+0.0GB): 27.304sec] fit X\n"
          ],
          "name": "stderr"
        },
        {
          "output_type": "stream",
          "text": [
            "Training until validation scores don't improve for 50 rounds\n",
            "[250]\tvalid_0's rmse: 5.31507\n",
            "[500]\tvalid_0's rmse: 3.2493\n",
            "[750]\tvalid_0's rmse: 2.87882\n",
            "[1000]\tvalid_0's rmse: 2.72962\n",
            "[1250]\tvalid_0's rmse: 2.65401\n",
            "[1500]\tvalid_0's rmse: 2.60693\n",
            "[1750]\tvalid_0's rmse: 2.57953\n",
            "[2000]\tvalid_0's rmse: 2.55721\n",
            "[2250]\tvalid_0's rmse: 2.5393\n",
            "[2500]\tvalid_0's rmse: 2.52718\n",
            "[2750]\tvalid_0's rmse: 2.51682\n",
            "[3000]\tvalid_0's rmse: 2.51062\n",
            "[3250]\tvalid_0's rmse: 2.50515\n",
            "[3500]\tvalid_0's rmse: 2.5011\n",
            "Early stopping, best iteration is:\n",
            "[3554]\tvalid_0's rmse: 2.49902\n"
          ],
          "name": "stdout"
        },
        {
          "output_type": "stream",
          "text": [
            "[0.6GB(-0.0GB): 46.297sec] fit Y\n"
          ],
          "name": "stderr"
        },
        {
          "output_type": "stream",
          "text": [
            "Training until validation scores don't improve for 50 rounds\n",
            "[250]\tvalid_0's multi_logloss: 0.0662322\n",
            "[500]\tvalid_0's multi_logloss: 0.0585129\n",
            "[750]\tvalid_0's multi_logloss: 0.056959\n",
            "[1000]\tvalid_0's multi_logloss: 0.0559644\n",
            "[1250]\tvalid_0's multi_logloss: 0.0552217\n",
            "[1500]\tvalid_0's multi_logloss: 0.0545868\n",
            "[1750]\tvalid_0's multi_logloss: 0.0539717\n",
            "[2000]\tvalid_0's multi_logloss: 0.05351\n",
            "[2250]\tvalid_0's multi_logloss: 0.0532745\n",
            "[2500]\tvalid_0's multi_logloss: 0.0530488\n",
            "Early stopping, best iteration is:\n",
            "[2497]\tvalid_0's multi_logloss: 0.0530488\n"
          ],
          "name": "stdout"
        },
        {
          "output_type": "stream",
          "text": [
            "[0.6GB(+0.0GB): 37.903sec] fit F\n"
          ],
          "name": "stderr"
        },
        {
          "output_type": "stream",
          "text": [
            "fold 4: mean position error 3.0766476239600506\n",
            "Training until validation scores don't improve for 50 rounds\n",
            "[250]\tvalid_0's rmse: 6.49801\n",
            "[500]\tvalid_0's rmse: 3.57528\n",
            "[750]\tvalid_0's rmse: 3.17856\n",
            "[1000]\tvalid_0's rmse: 3.01375\n",
            "[1250]\tvalid_0's rmse: 2.92487\n",
            "[1500]\tvalid_0's rmse: 2.85252\n",
            "[1750]\tvalid_0's rmse: 2.81219\n",
            "[2000]\tvalid_0's rmse: 2.79161\n",
            "[2250]\tvalid_0's rmse: 2.77918\n",
            "[2500]\tvalid_0's rmse: 2.76745\n",
            "Early stopping, best iteration is:\n",
            "[2592]\tvalid_0's rmse: 2.76196\n"
          ],
          "name": "stdout"
        },
        {
          "output_type": "stream",
          "text": [
            "[0.6GB(+0.0GB): 34.936sec] fit X\n"
          ],
          "name": "stderr"
        },
        {
          "output_type": "stream",
          "text": [
            "Training until validation scores don't improve for 50 rounds\n",
            "[250]\tvalid_0's rmse: 5.67582\n",
            "[500]\tvalid_0's rmse: 3.40812\n",
            "[750]\tvalid_0's rmse: 2.95031\n",
            "[1000]\tvalid_0's rmse: 2.76262\n",
            "[1250]\tvalid_0's rmse: 2.65908\n",
            "[1500]\tvalid_0's rmse: 2.60018\n",
            "[1750]\tvalid_0's rmse: 2.563\n",
            "[2000]\tvalid_0's rmse: 2.53388\n",
            "[2250]\tvalid_0's rmse: 2.51417\n",
            "[2500]\tvalid_0's rmse: 2.49669\n",
            "[2750]\tvalid_0's rmse: 2.48353\n",
            "[3000]\tvalid_0's rmse: 2.47533\n",
            "[3250]\tvalid_0's rmse: 2.46733\n",
            "[3500]\tvalid_0's rmse: 2.46055\n",
            "Early stopping, best iteration is:\n",
            "[3660]\tvalid_0's rmse: 2.45543\n"
          ],
          "name": "stdout"
        },
        {
          "output_type": "stream",
          "text": [
            "[0.6GB(+0.0GB): 45.721sec] fit Y\n"
          ],
          "name": "stderr"
        },
        {
          "output_type": "stream",
          "text": [
            "Training until validation scores don't improve for 50 rounds\n",
            "[250]\tvalid_0's multi_logloss: 0.0699102\n",
            "[500]\tvalid_0's multi_logloss: 0.0612837\n",
            "[750]\tvalid_0's multi_logloss: 0.0594947\n",
            "[1000]\tvalid_0's multi_logloss: 0.0586922\n",
            "[1250]\tvalid_0's multi_logloss: 0.0579163\n",
            "[1500]\tvalid_0's multi_logloss: 0.0571\n",
            "[1750]\tvalid_0's multi_logloss: 0.0565305\n",
            "[2000]\tvalid_0's multi_logloss: 0.0560892\n",
            "[2250]\tvalid_0's multi_logloss: 0.0556176\n",
            "[2500]\tvalid_0's multi_logloss: 0.0552498\n",
            "[2750]\tvalid_0's multi_logloss: 0.0550485\n",
            "Early stopping, best iteration is:\n",
            "[2732]\tvalid_0's multi_logloss: 0.0550485\n"
          ],
          "name": "stdout"
        },
        {
          "output_type": "stream",
          "text": [
            "[0.6GB(+0.0GB): 41.314sec] fit F\n"
          ],
          "name": "stderr"
        },
        {
          "output_type": "stream",
          "text": [
            "fold 5: mean position error 2.949960920540711\n",
            "Training until validation scores don't improve for 50 rounds\n",
            "[250]\tvalid_0's rmse: 5.47883\n",
            "[500]\tvalid_0's rmse: 3.33258\n",
            "[750]\tvalid_0's rmse: 3.05036\n",
            "[1000]\tvalid_0's rmse: 2.92344\n",
            "[1250]\tvalid_0's rmse: 2.83816\n",
            "[1500]\tvalid_0's rmse: 2.79638\n",
            "[1750]\tvalid_0's rmse: 2.75697\n",
            "[2000]\tvalid_0's rmse: 2.7294\n",
            "[2250]\tvalid_0's rmse: 2.71358\n",
            "Early stopping, best iteration is:\n",
            "[2220]\tvalid_0's rmse: 2.71235\n"
          ],
          "name": "stdout"
        },
        {
          "output_type": "stream",
          "text": [
            "[0.6GB(+0.0GB): 29.644sec] fit X\n"
          ],
          "name": "stderr"
        },
        {
          "output_type": "stream",
          "text": [
            "Training until validation scores don't improve for 50 rounds\n",
            "[250]\tvalid_0's rmse: 5.25702\n",
            "[500]\tvalid_0's rmse: 3.027\n",
            "[750]\tvalid_0's rmse: 2.59109\n",
            "[1000]\tvalid_0's rmse: 2.41166\n",
            "[1250]\tvalid_0's rmse: 2.30506\n",
            "[1500]\tvalid_0's rmse: 2.23086\n",
            "[1750]\tvalid_0's rmse: 2.18377\n",
            "[2000]\tvalid_0's rmse: 2.14959\n",
            "[2250]\tvalid_0's rmse: 2.12364\n",
            "[2500]\tvalid_0's rmse: 2.11077\n",
            "[2750]\tvalid_0's rmse: 2.09682\n",
            "[3000]\tvalid_0's rmse: 2.08576\n",
            "[3250]\tvalid_0's rmse: 2.07324\n",
            "[3500]\tvalid_0's rmse: 2.06464\n",
            "[3750]\tvalid_0's rmse: 2.05959\n",
            "[4000]\tvalid_0's rmse: 2.05497\n",
            "[4250]\tvalid_0's rmse: 2.049\n",
            "[4500]\tvalid_0's rmse: 2.04366\n",
            "Early stopping, best iteration is:\n",
            "[4633]\tvalid_0's rmse: 2.04168\n"
          ],
          "name": "stdout"
        },
        {
          "output_type": "stream",
          "text": [
            "[0.6GB(+0.0GB): 58.133sec] fit Y\n"
          ],
          "name": "stderr"
        },
        {
          "output_type": "stream",
          "text": [
            "Training until validation scores don't improve for 50 rounds\n",
            "[250]\tvalid_0's multi_logloss: 0.0645962\n",
            "[500]\tvalid_0's multi_logloss: 0.0558245\n",
            "[750]\tvalid_0's multi_logloss: 0.0539169\n",
            "[1000]\tvalid_0's multi_logloss: 0.0532391\n",
            "[1250]\tvalid_0's multi_logloss: 0.0524292\n",
            "[1500]\tvalid_0's multi_logloss: 0.0518343\n",
            "[1750]\tvalid_0's multi_logloss: 0.0515208\n",
            "[2000]\tvalid_0's multi_logloss: 0.0510991\n",
            "[2250]\tvalid_0's multi_logloss: 0.0507553\n",
            "[2500]\tvalid_0's multi_logloss: 0.0504665\n",
            "[2750]\tvalid_0's multi_logloss: 0.0500221\n",
            "[3000]\tvalid_0's multi_logloss: 0.049807\n",
            "[3250]\tvalid_0's multi_logloss: 0.0496682\n",
            "[3500]\tvalid_0's multi_logloss: 0.0494347\n",
            "[3750]\tvalid_0's multi_logloss: 0.0493231\n",
            "[4000]\tvalid_0's multi_logloss: 0.0491837\n",
            "[4250]\tvalid_0's multi_logloss: 0.0488285\n",
            "[4500]\tvalid_0's multi_logloss: 0.0486661\n",
            "[4750]\tvalid_0's multi_logloss: 0.0485746\n",
            "[5000]\tvalid_0's multi_logloss: 0.0483923\n",
            "[5250]\tvalid_0's multi_logloss: 0.0482949\n",
            "[5500]\tvalid_0's multi_logloss: 0.0481706\n",
            "[5750]\tvalid_0's multi_logloss: 0.0480431\n",
            "[6000]\tvalid_0's multi_logloss: 0.0478438\n",
            "Early stopping, best iteration is:\n",
            "[5979]\tvalid_0's multi_logloss: 0.0478438\n"
          ],
          "name": "stdout"
        },
        {
          "output_type": "stream",
          "text": [
            "[0.6GB(+0.0GB): 92.229sec] fit F\n"
          ],
          "name": "stderr"
        },
        {
          "output_type": "stream",
          "text": [
            "fold 6: mean position error 2.7702041032692724\n",
            "Training until validation scores don't improve for 50 rounds\n",
            "[250]\tvalid_0's rmse: 11.5887\n",
            "[500]\tvalid_0's rmse: 9.13309\n",
            "[750]\tvalid_0's rmse: 8.54222\n",
            "[1000]\tvalid_0's rmse: 8.20263\n",
            "[1250]\tvalid_0's rmse: 7.87631\n",
            "[1500]\tvalid_0's rmse: 7.66376\n",
            "[1750]\tvalid_0's rmse: 7.44476\n",
            "[2000]\tvalid_0's rmse: 7.29559\n",
            "[2250]\tvalid_0's rmse: 7.13153\n",
            "[2500]\tvalid_0's rmse: 6.96141\n",
            "[2750]\tvalid_0's rmse: 6.80589\n",
            "[3000]\tvalid_0's rmse: 6.66908\n",
            "[3250]\tvalid_0's rmse: 6.55352\n",
            "[3500]\tvalid_0's rmse: 6.41906\n",
            "[3750]\tvalid_0's rmse: 6.31815\n",
            "[4000]\tvalid_0's rmse: 6.22829\n",
            "[4250]\tvalid_0's rmse: 6.14382\n",
            "[4500]\tvalid_0's rmse: 6.07087\n",
            "[4750]\tvalid_0's rmse: 6.00946\n",
            "[5000]\tvalid_0's rmse: 5.94516\n",
            "[5250]\tvalid_0's rmse: 5.85607\n",
            "[5500]\tvalid_0's rmse: 5.78756\n",
            "[5750]\tvalid_0's rmse: 5.73307\n",
            "[6000]\tvalid_0's rmse: 5.6679\n",
            "[6250]\tvalid_0's rmse: 5.604\n",
            "[6500]\tvalid_0's rmse: 5.55413\n",
            "[6750]\tvalid_0's rmse: 5.49027\n",
            "[7000]\tvalid_0's rmse: 5.44415\n",
            "[7250]\tvalid_0's rmse: 5.40309\n",
            "[7500]\tvalid_0's rmse: 5.37136\n",
            "[7750]\tvalid_0's rmse: 5.32214\n",
            "[8000]\tvalid_0's rmse: 5.28454\n",
            "Early stopping, best iteration is:\n",
            "[8116]\tvalid_0's rmse: 5.27096\n"
          ],
          "name": "stdout"
        },
        {
          "output_type": "stream",
          "text": [
            "[0.6GB(+0.0GB): 98.149sec] fit X\n"
          ],
          "name": "stderr"
        },
        {
          "output_type": "stream",
          "text": [
            "Training until validation scores don't improve for 50 rounds\n",
            "[250]\tvalid_0's rmse: 6.83855\n",
            "[500]\tvalid_0's rmse: 5.13395\n",
            "[750]\tvalid_0's rmse: 4.63331\n",
            "[1000]\tvalid_0's rmse: 4.39325\n",
            "[1250]\tvalid_0's rmse: 4.2469\n",
            "[1500]\tvalid_0's rmse: 4.14474\n",
            "[1750]\tvalid_0's rmse: 4.07811\n",
            "[2000]\tvalid_0's rmse: 4.02483\n",
            "[2250]\tvalid_0's rmse: 3.97715\n",
            "[2500]\tvalid_0's rmse: 3.94\n",
            "[2750]\tvalid_0's rmse: 3.89646\n",
            "[3000]\tvalid_0's rmse: 3.87155\n",
            "[3250]\tvalid_0's rmse: 3.84427\n",
            "[3500]\tvalid_0's rmse: 3.81751\n",
            "[3750]\tvalid_0's rmse: 3.79871\n",
            "[4000]\tvalid_0's rmse: 3.77988\n",
            "[4250]\tvalid_0's rmse: 3.76205\n",
            "[4500]\tvalid_0's rmse: 3.74627\n",
            "[4750]\tvalid_0's rmse: 3.7344\n",
            "[5000]\tvalid_0's rmse: 3.72068\n",
            "[5250]\tvalid_0's rmse: 3.70515\n",
            "[5500]\tvalid_0's rmse: 3.69116\n",
            "[5750]\tvalid_0's rmse: 3.68298\n",
            "[6000]\tvalid_0's rmse: 3.673\n",
            "Early stopping, best iteration is:\n",
            "[6040]\tvalid_0's rmse: 3.67203\n"
          ],
          "name": "stdout"
        },
        {
          "output_type": "stream",
          "text": [
            "[0.6GB(+0.1GB): 75.090sec] fit Y\n"
          ],
          "name": "stderr"
        },
        {
          "output_type": "stream",
          "text": [
            "Training until validation scores don't improve for 50 rounds\n",
            "[250]\tvalid_0's multi_logloss: 0.0765621\n",
            "[500]\tvalid_0's multi_logloss: 0.0685325\n",
            "[750]\tvalid_0's multi_logloss: 0.0667489\n",
            "[1000]\tvalid_0's multi_logloss: 0.0655376\n",
            "[1250]\tvalid_0's multi_logloss: 0.064912\n",
            "[1500]\tvalid_0's multi_logloss: 0.0642157\n",
            "[1750]\tvalid_0's multi_logloss: 0.0637302\n",
            "[2000]\tvalid_0's multi_logloss: 0.0632467\n",
            "Early stopping, best iteration is:\n",
            "[2168]\tvalid_0's multi_logloss: 0.0630731\n"
          ],
          "name": "stdout"
        },
        {
          "output_type": "stream",
          "text": [
            "[0.6GB(-0.1GB): 33.061sec] fit F\n"
          ],
          "name": "stderr"
        },
        {
          "output_type": "stream",
          "text": [
            "fold 7: mean position error 3.7789239387048865\n",
            "Training until validation scores don't improve for 50 rounds\n",
            "[250]\tvalid_0's rmse: 6.32359\n",
            "[500]\tvalid_0's rmse: 3.34406\n",
            "[750]\tvalid_0's rmse: 2.97728\n",
            "[1000]\tvalid_0's rmse: 2.80001\n",
            "[1250]\tvalid_0's rmse: 2.68893\n",
            "[1500]\tvalid_0's rmse: 2.61484\n",
            "[1750]\tvalid_0's rmse: 2.57738\n",
            "Early stopping, best iteration is:\n",
            "[1880]\tvalid_0's rmse: 2.54839\n"
          ],
          "name": "stdout"
        },
        {
          "output_type": "stream",
          "text": [
            "[0.6GB(+0.0GB): 25.058sec] fit X\n"
          ],
          "name": "stderr"
        },
        {
          "output_type": "stream",
          "text": [
            "Training until validation scores don't improve for 50 rounds\n",
            "[250]\tvalid_0's rmse: 4.92486\n",
            "[500]\tvalid_0's rmse: 2.87258\n",
            "[750]\tvalid_0's rmse: 2.53105\n",
            "[1000]\tvalid_0's rmse: 2.40106\n",
            "[1250]\tvalid_0's rmse: 2.33966\n",
            "[1500]\tvalid_0's rmse: 2.30005\n",
            "[1750]\tvalid_0's rmse: 2.27965\n",
            "[2000]\tvalid_0's rmse: 2.26379\n",
            "[2250]\tvalid_0's rmse: 2.24968\n",
            "Early stopping, best iteration is:\n",
            "[2423]\tvalid_0's rmse: 2.24538\n"
          ],
          "name": "stdout"
        },
        {
          "output_type": "stream",
          "text": [
            "[0.6GB(-0.0GB): 31.985sec] fit Y\n"
          ],
          "name": "stderr"
        },
        {
          "output_type": "stream",
          "text": [
            "Training until validation scores don't improve for 50 rounds\n",
            "[250]\tvalid_0's multi_logloss: 0.067834\n",
            "[500]\tvalid_0's multi_logloss: 0.0588128\n",
            "[750]\tvalid_0's multi_logloss: 0.0572391\n",
            "[1000]\tvalid_0's multi_logloss: 0.0556064\n",
            "[1250]\tvalid_0's multi_logloss: 0.0551129\n",
            "[1500]\tvalid_0's multi_logloss: 0.0545158\n",
            "[1750]\tvalid_0's multi_logloss: 0.0540188\n",
            "[2000]\tvalid_0's multi_logloss: 0.0535841\n",
            "[2250]\tvalid_0's multi_logloss: 0.0533144\n",
            "[2500]\tvalid_0's multi_logloss: 0.0528022\n",
            "[2750]\tvalid_0's multi_logloss: 0.0525327\n",
            "[3000]\tvalid_0's multi_logloss: 0.0522748\n",
            "[3250]\tvalid_0's multi_logloss: 0.0520238\n",
            "[3500]\tvalid_0's multi_logloss: 0.0516073\n",
            "[3750]\tvalid_0's multi_logloss: 0.0514344\n",
            "[4000]\tvalid_0's multi_logloss: 0.0512936\n",
            "[4250]\tvalid_0's multi_logloss: 0.0510751\n",
            "[4500]\tvalid_0's multi_logloss: 0.0509495\n",
            "Early stopping, best iteration is:\n",
            "[4461]\tvalid_0's multi_logloss: 0.0509471\n"
          ],
          "name": "stdout"
        },
        {
          "output_type": "stream",
          "text": [
            "[0.6GB(+0.0GB): 68.157sec] fit F\n"
          ],
          "name": "stderr"
        },
        {
          "output_type": "stream",
          "text": [
            "fold 8: mean position error 2.8865541817410256\n",
            "Training until validation scores don't improve for 50 rounds\n",
            "[250]\tvalid_0's rmse: 7.4765\n",
            "[500]\tvalid_0's rmse: 4.78922\n",
            "[750]\tvalid_0's rmse: 4.29819\n",
            "[1000]\tvalid_0's rmse: 4.04237\n",
            "[1250]\tvalid_0's rmse: 3.90325\n",
            "[1500]\tvalid_0's rmse: 3.77406\n",
            "[1750]\tvalid_0's rmse: 3.68478\n",
            "[2000]\tvalid_0's rmse: 3.62957\n",
            "[2250]\tvalid_0's rmse: 3.58215\n",
            "[2500]\tvalid_0's rmse: 3.54139\n",
            "[2750]\tvalid_0's rmse: 3.51257\n",
            "Early stopping, best iteration is:\n",
            "[2857]\tvalid_0's rmse: 3.49282\n"
          ],
          "name": "stdout"
        },
        {
          "output_type": "stream",
          "text": [
            "[0.6GB(-0.0GB): 39.311sec] fit X\n"
          ],
          "name": "stderr"
        },
        {
          "output_type": "stream",
          "text": [
            "Training until validation scores don't improve for 50 rounds\n",
            "[250]\tvalid_0's rmse: 5.67721\n",
            "[500]\tvalid_0's rmse: 3.8732\n",
            "[750]\tvalid_0's rmse: 3.55637\n",
            "[1000]\tvalid_0's rmse: 3.4029\n",
            "[1250]\tvalid_0's rmse: 3.29171\n",
            "[1500]\tvalid_0's rmse: 3.21914\n",
            "[1750]\tvalid_0's rmse: 3.14995\n",
            "[2000]\tvalid_0's rmse: 3.09444\n",
            "[2250]\tvalid_0's rmse: 3.05405\n",
            "[2500]\tvalid_0's rmse: 3.01434\n",
            "[2750]\tvalid_0's rmse: 2.97955\n",
            "[3000]\tvalid_0's rmse: 2.95052\n",
            "[3250]\tvalid_0's rmse: 2.9211\n",
            "[3500]\tvalid_0's rmse: 2.90058\n",
            "[3750]\tvalid_0's rmse: 2.87734\n",
            "[4000]\tvalid_0's rmse: 2.8537\n",
            "[4250]\tvalid_0's rmse: 2.83622\n",
            "[4500]\tvalid_0's rmse: 2.82307\n",
            "[4750]\tvalid_0's rmse: 2.80807\n",
            "[5000]\tvalid_0's rmse: 2.79045\n",
            "[5250]\tvalid_0's rmse: 2.77909\n",
            "[5500]\tvalid_0's rmse: 2.76641\n",
            "[5750]\tvalid_0's rmse: 2.75752\n",
            "[6000]\tvalid_0's rmse: 2.74503\n",
            "[6250]\tvalid_0's rmse: 2.73627\n",
            "[6500]\tvalid_0's rmse: 2.72244\n",
            "[6750]\tvalid_0's rmse: 2.71183\n",
            "[7000]\tvalid_0's rmse: 2.70236\n",
            "[7250]\tvalid_0's rmse: 2.69329\n",
            "Early stopping, best iteration is:\n",
            "[7350]\tvalid_0's rmse: 2.68903\n"
          ],
          "name": "stdout"
        },
        {
          "output_type": "stream",
          "text": [
            "[0.6GB(+0.0GB): 87.241sec] fit Y\n"
          ],
          "name": "stderr"
        },
        {
          "output_type": "stream",
          "text": [
            "Training until validation scores don't improve for 50 rounds\n",
            "[250]\tvalid_0's multi_logloss: 0.0775467\n",
            "[500]\tvalid_0's multi_logloss: 0.0697283\n",
            "[750]\tvalid_0's multi_logloss: 0.0679289\n",
            "[1000]\tvalid_0's multi_logloss: 0.0670369\n",
            "[1250]\tvalid_0's multi_logloss: 0.0664085\n",
            "[1500]\tvalid_0's multi_logloss: 0.0658952\n",
            "[1750]\tvalid_0's multi_logloss: 0.0654409\n",
            "[2000]\tvalid_0's multi_logloss: 0.0651064\n",
            "[2250]\tvalid_0's multi_logloss: 0.0647685\n",
            "[2500]\tvalid_0's multi_logloss: 0.0644264\n",
            "[2750]\tvalid_0's multi_logloss: 0.0640599\n",
            "[3000]\tvalid_0's multi_logloss: 0.063842\n",
            "[3250]\tvalid_0's multi_logloss: 0.0636764\n",
            "[3500]\tvalid_0's multi_logloss: 0.0635043\n",
            "[3750]\tvalid_0's multi_logloss: 0.0632952\n",
            "[4000]\tvalid_0's multi_logloss: 0.0631526\n",
            "[4250]\tvalid_0's multi_logloss: 0.062905\n",
            "Early stopping, best iteration is:\n",
            "[4417]\tvalid_0's multi_logloss: 0.0626958\n"
          ],
          "name": "stdout"
        },
        {
          "output_type": "stream",
          "text": [
            "[0.6GB(-0.0GB): 69.371sec] fit F\n"
          ],
          "name": "stderr"
        },
        {
          "output_type": "stream",
          "text": [
            "fold 9: mean position error 3.030299618682388\n",
            "Training until validation scores don't improve for 50 rounds\n",
            "[250]\tvalid_0's rmse: 6.83568\n",
            "[500]\tvalid_0's rmse: 4.00008\n",
            "[750]\tvalid_0's rmse: 3.73379\n",
            "[1000]\tvalid_0's rmse: 3.54858\n",
            "[1250]\tvalid_0's rmse: 3.4399\n",
            "[1500]\tvalid_0's rmse: 3.36994\n",
            "[1750]\tvalid_0's rmse: 3.31093\n",
            "[2000]\tvalid_0's rmse: 3.25815\n",
            "[2250]\tvalid_0's rmse: 3.22344\n",
            "[2500]\tvalid_0's rmse: 3.18682\n",
            "[2750]\tvalid_0's rmse: 3.16086\n",
            "[3000]\tvalid_0's rmse: 3.13906\n",
            "Early stopping, best iteration is:\n",
            "[2995]\tvalid_0's rmse: 3.13871\n"
          ],
          "name": "stdout"
        },
        {
          "output_type": "stream",
          "text": [
            "[0.6GB(-0.0GB): 40.222sec] fit X\n"
          ],
          "name": "stderr"
        },
        {
          "output_type": "stream",
          "text": [
            "Training until validation scores don't improve for 50 rounds\n",
            "[250]\tvalid_0's rmse: 5.75416\n",
            "[500]\tvalid_0's rmse: 3.80826\n",
            "[750]\tvalid_0's rmse: 3.33044\n",
            "[1000]\tvalid_0's rmse: 3.0866\n",
            "[1250]\tvalid_0's rmse: 2.93225\n",
            "[1500]\tvalid_0's rmse: 2.82908\n",
            "[1750]\tvalid_0's rmse: 2.75763\n",
            "[2000]\tvalid_0's rmse: 2.70922\n",
            "[2250]\tvalid_0's rmse: 2.67003\n",
            "[2500]\tvalid_0's rmse: 2.63898\n",
            "[2750]\tvalid_0's rmse: 2.61618\n",
            "[3000]\tvalid_0's rmse: 2.59643\n",
            "[3250]\tvalid_0's rmse: 2.5817\n",
            "[3500]\tvalid_0's rmse: 2.57006\n",
            "[3750]\tvalid_0's rmse: 2.56019\n",
            "[4000]\tvalid_0's rmse: 2.55172\n",
            "[4250]\tvalid_0's rmse: 2.54688\n",
            "[4500]\tvalid_0's rmse: 2.53908\n",
            "Early stopping, best iteration is:\n",
            "[4573]\tvalid_0's rmse: 2.53758\n"
          ],
          "name": "stdout"
        },
        {
          "output_type": "stream",
          "text": [
            "[0.6GB(+0.0GB): 75.398sec] fit Y\n"
          ],
          "name": "stderr"
        },
        {
          "output_type": "stream",
          "text": [
            "Training until validation scores don't improve for 50 rounds\n",
            "[250]\tvalid_0's multi_logloss: 0.0770215\n",
            "[500]\tvalid_0's multi_logloss: 0.068548\n",
            "[750]\tvalid_0's multi_logloss: 0.0668385\n",
            "[1000]\tvalid_0's multi_logloss: 0.0656273\n",
            "[1250]\tvalid_0's multi_logloss: 0.0647906\n",
            "[1500]\tvalid_0's multi_logloss: 0.0642605\n",
            "[1750]\tvalid_0's multi_logloss: 0.0637969\n",
            "[2000]\tvalid_0's multi_logloss: 0.0634819\n",
            "Early stopping, best iteration is:\n",
            "[2067]\tvalid_0's multi_logloss: 0.0633802\n"
          ],
          "name": "stdout"
        },
        {
          "output_type": "stream",
          "text": [
            "[0.6GB(+0.0GB): 32.057sec] fit F\n"
          ],
          "name": "stderr"
        },
        {
          "output_type": "stream",
          "text": [
            "fold 10: mean position error 3.1809170308502956\n",
            "Training until validation scores don't improve for 50 rounds\n",
            "[250]\tvalid_0's rmse: 7.43849\n",
            "[500]\tvalid_0's rmse: 4.09262\n",
            "[750]\tvalid_0's rmse: 3.6602\n",
            "[1000]\tvalid_0's rmse: 3.41397\n",
            "[1250]\tvalid_0's rmse: 3.26234\n",
            "[1500]\tvalid_0's rmse: 3.16018\n",
            "[1750]\tvalid_0's rmse: 3.09313\n",
            "[2000]\tvalid_0's rmse: 3.03804\n",
            "[2250]\tvalid_0's rmse: 2.99902\n",
            "[2500]\tvalid_0's rmse: 2.96936\n",
            "[2750]\tvalid_0's rmse: 2.94736\n",
            "[3000]\tvalid_0's rmse: 2.92723\n",
            "Early stopping, best iteration is:\n",
            "[3176]\tvalid_0's rmse: 2.91777\n"
          ],
          "name": "stdout"
        },
        {
          "output_type": "stream",
          "text": [
            "[0.6GB(+0.0GB): 41.239sec] fit X\n"
          ],
          "name": "stderr"
        },
        {
          "output_type": "stream",
          "text": [
            "Training until validation scores don't improve for 50 rounds\n",
            "[250]\tvalid_0's rmse: 5.392\n",
            "[500]\tvalid_0's rmse: 3.35828\n",
            "[750]\tvalid_0's rmse: 2.94094\n",
            "[1000]\tvalid_0's rmse: 2.76369\n",
            "[1250]\tvalid_0's rmse: 2.65683\n",
            "[1500]\tvalid_0's rmse: 2.59934\n",
            "[1750]\tvalid_0's rmse: 2.56089\n",
            "[2000]\tvalid_0's rmse: 2.53487\n",
            "[2250]\tvalid_0's rmse: 2.51254\n",
            "[2500]\tvalid_0's rmse: 2.49562\n",
            "[2750]\tvalid_0's rmse: 2.48129\n",
            "Early stopping, best iteration is:\n",
            "[2867]\tvalid_0's rmse: 2.47351\n"
          ],
          "name": "stdout"
        },
        {
          "output_type": "stream",
          "text": [
            "[0.6GB(+0.0GB): 37.997sec] fit Y\n"
          ],
          "name": "stderr"
        },
        {
          "output_type": "stream",
          "text": [
            "Training until validation scores don't improve for 50 rounds\n",
            "[250]\tvalid_0's multi_logloss: 0.0658914\n",
            "[500]\tvalid_0's multi_logloss: 0.0579301\n",
            "[750]\tvalid_0's multi_logloss: 0.0560388\n",
            "[1000]\tvalid_0's multi_logloss: 0.055082\n",
            "[1250]\tvalid_0's multi_logloss: 0.0542601\n",
            "Early stopping, best iteration is:\n",
            "[1444]\tvalid_0's multi_logloss: 0.0537973\n"
          ],
          "name": "stdout"
        },
        {
          "output_type": "stream",
          "text": [
            "[0.6GB(+0.0GB): 22.161sec] fit F\n"
          ],
          "name": "stderr"
        },
        {
          "output_type": "stream",
          "text": [
            "fold 11: mean position error 3.059781841371024\n",
            "Training until validation scores don't improve for 50 rounds\n",
            "[250]\tvalid_0's rmse: 6.33117\n",
            "[500]\tvalid_0's rmse: 3.49942\n",
            "[750]\tvalid_0's rmse: 3.11908\n",
            "[1000]\tvalid_0's rmse: 2.96188\n",
            "[1250]\tvalid_0's rmse: 2.84407\n",
            "[1500]\tvalid_0's rmse: 2.75816\n",
            "[1750]\tvalid_0's rmse: 2.7051\n",
            "[2000]\tvalid_0's rmse: 2.67701\n",
            "[2250]\tvalid_0's rmse: 2.65072\n",
            "Early stopping, best iteration is:\n",
            "[2448]\tvalid_0's rmse: 2.62479\n"
          ],
          "name": "stdout"
        },
        {
          "output_type": "stream",
          "text": [
            "[0.6GB(+0.0GB): 32.719sec] fit X\n"
          ],
          "name": "stderr"
        },
        {
          "output_type": "stream",
          "text": [
            "Training until validation scores don't improve for 50 rounds\n",
            "[250]\tvalid_0's rmse: 5.31394\n",
            "[500]\tvalid_0's rmse: 3.32915\n",
            "[750]\tvalid_0's rmse: 2.91892\n",
            "[1000]\tvalid_0's rmse: 2.75376\n",
            "[1250]\tvalid_0's rmse: 2.66297\n",
            "[1500]\tvalid_0's rmse: 2.6095\n",
            "[1750]\tvalid_0's rmse: 2.57526\n",
            "[2000]\tvalid_0's rmse: 2.54975\n",
            "[2250]\tvalid_0's rmse: 2.53108\n",
            "[2500]\tvalid_0's rmse: 2.52023\n",
            "[2750]\tvalid_0's rmse: 2.50613\n",
            "[3000]\tvalid_0's rmse: 2.49791\n",
            "[3250]\tvalid_0's rmse: 2.48842\n",
            "Early stopping, best iteration is:\n",
            "[3318]\tvalid_0's rmse: 2.48738\n"
          ],
          "name": "stdout"
        },
        {
          "output_type": "stream",
          "text": [
            "[0.6GB(-0.0GB): 43.030sec] fit Y\n"
          ],
          "name": "stderr"
        },
        {
          "output_type": "stream",
          "text": [
            "Training until validation scores don't improve for 50 rounds\n",
            "[250]\tvalid_0's multi_logloss: 0.0675963\n",
            "[500]\tvalid_0's multi_logloss: 0.06029\n",
            "[750]\tvalid_0's multi_logloss: 0.0588983\n",
            "Early stopping, best iteration is:\n",
            "[866]\tvalid_0's multi_logloss: 0.0584529\n"
          ],
          "name": "stdout"
        },
        {
          "output_type": "stream",
          "text": [
            "[0.6GB(+0.0GB): 14.644sec] fit F\n"
          ],
          "name": "stderr"
        },
        {
          "output_type": "stream",
          "text": [
            "fold 12: mean position error 2.9497120106839607\n",
            "Training until validation scores don't improve for 50 rounds\n",
            "[250]\tvalid_0's rmse: 7.523\n",
            "[500]\tvalid_0's rmse: 4.76913\n",
            "[750]\tvalid_0's rmse: 4.29749\n",
            "[1000]\tvalid_0's rmse: 4.07504\n",
            "[1250]\tvalid_0's rmse: 3.94464\n",
            "[1500]\tvalid_0's rmse: 3.83458\n",
            "[1750]\tvalid_0's rmse: 3.78119\n",
            "[2000]\tvalid_0's rmse: 3.72115\n",
            "[2250]\tvalid_0's rmse: 3.68157\n",
            "[2500]\tvalid_0's rmse: 3.65301\n",
            "[2750]\tvalid_0's rmse: 3.6264\n",
            "Early stopping, best iteration is:\n",
            "[2744]\tvalid_0's rmse: 3.62385\n"
          ],
          "name": "stdout"
        },
        {
          "output_type": "stream",
          "text": [
            "[0.6GB(+0.1GB): 36.005sec] fit X\n"
          ],
          "name": "stderr"
        },
        {
          "output_type": "stream",
          "text": [
            "Training until validation scores don't improve for 50 rounds\n",
            "[250]\tvalid_0's rmse: 5.79403\n",
            "[500]\tvalid_0's rmse: 3.63932\n",
            "[750]\tvalid_0's rmse: 3.17694\n",
            "[1000]\tvalid_0's rmse: 2.96104\n",
            "[1250]\tvalid_0's rmse: 2.82318\n",
            "[1500]\tvalid_0's rmse: 2.72813\n",
            "[1750]\tvalid_0's rmse: 2.66047\n",
            "[2000]\tvalid_0's rmse: 2.60985\n",
            "[2250]\tvalid_0's rmse: 2.56946\n",
            "[2500]\tvalid_0's rmse: 2.53663\n",
            "[2750]\tvalid_0's rmse: 2.50354\n",
            "[3000]\tvalid_0's rmse: 2.47861\n",
            "[3250]\tvalid_0's rmse: 2.46\n",
            "[3500]\tvalid_0's rmse: 2.44412\n",
            "[3750]\tvalid_0's rmse: 2.42453\n",
            "[4000]\tvalid_0's rmse: 2.41067\n",
            "[4250]\tvalid_0's rmse: 2.39896\n",
            "[4500]\tvalid_0's rmse: 2.38896\n",
            "[4750]\tvalid_0's rmse: 2.3775\n",
            "[5000]\tvalid_0's rmse: 2.36846\n",
            "Early stopping, best iteration is:\n",
            "[5031]\tvalid_0's rmse: 2.36746\n"
          ],
          "name": "stdout"
        },
        {
          "output_type": "stream",
          "text": [
            "[0.6GB(-0.1GB): 62.061sec] fit Y\n"
          ],
          "name": "stderr"
        },
        {
          "output_type": "stream",
          "text": [
            "Training until validation scores don't improve for 50 rounds\n",
            "[250]\tvalid_0's multi_logloss: 0.0783955\n",
            "[500]\tvalid_0's multi_logloss: 0.0717426\n",
            "[750]\tvalid_0's multi_logloss: 0.0703573\n",
            "[1000]\tvalid_0's multi_logloss: 0.0694532\n",
            "[1250]\tvalid_0's multi_logloss: 0.0687937\n",
            "[1500]\tvalid_0's multi_logloss: 0.068419\n",
            "[1750]\tvalid_0's multi_logloss: 0.0680733\n",
            "Early stopping, best iteration is:\n",
            "[1885]\tvalid_0's multi_logloss: 0.067855\n"
          ],
          "name": "stdout"
        },
        {
          "output_type": "stream",
          "text": [
            "[0.6GB(+0.0GB): 29.221sec] fit F\n"
          ],
          "name": "stderr"
        },
        {
          "output_type": "stream",
          "text": [
            "fold 13: mean position error 3.0628465908747557\n",
            "Training until validation scores don't improve for 50 rounds\n",
            "[250]\tvalid_0's rmse: 7.6925\n",
            "[500]\tvalid_0's rmse: 5.1102\n",
            "[750]\tvalid_0's rmse: 4.77958\n",
            "Early stopping, best iteration is:\n",
            "[886]\tvalid_0's rmse: 4.71113\n"
          ],
          "name": "stdout"
        },
        {
          "output_type": "stream",
          "text": [
            "[0.6GB(+0.0GB): 12.080sec] fit X\n"
          ],
          "name": "stderr"
        },
        {
          "output_type": "stream",
          "text": [
            "Training until validation scores don't improve for 50 rounds\n",
            "[250]\tvalid_0's rmse: 4.99069\n",
            "[500]\tvalid_0's rmse: 3.29257\n",
            "[750]\tvalid_0's rmse: 2.98057\n",
            "[1000]\tvalid_0's rmse: 2.86636\n",
            "[1250]\tvalid_0's rmse: 2.79608\n",
            "[1500]\tvalid_0's rmse: 2.74757\n",
            "[1750]\tvalid_0's rmse: 2.72264\n",
            "[2000]\tvalid_0's rmse: 2.69319\n",
            "[2250]\tvalid_0's rmse: 2.66658\n",
            "[2500]\tvalid_0's rmse: 2.64357\n",
            "Early stopping, best iteration is:\n",
            "[2592]\tvalid_0's rmse: 2.63421\n"
          ],
          "name": "stdout"
        },
        {
          "output_type": "stream",
          "text": [
            "[0.6GB(+0.0GB): 32.343sec] fit Y\n"
          ],
          "name": "stderr"
        },
        {
          "output_type": "stream",
          "text": [
            "Training until validation scores don't improve for 50 rounds\n",
            "[250]\tvalid_0's multi_logloss: 0.0595331\n",
            "[500]\tvalid_0's multi_logloss: 0.0520138\n",
            "[750]\tvalid_0's multi_logloss: 0.0501713\n",
            "[1000]\tvalid_0's multi_logloss: 0.0491157\n",
            "[1250]\tvalid_0's multi_logloss: 0.0484869\n",
            "[1500]\tvalid_0's multi_logloss: 0.0478435\n",
            "[1750]\tvalid_0's multi_logloss: 0.0473667\n",
            "[2000]\tvalid_0's multi_logloss: 0.0469127\n",
            "[2250]\tvalid_0's multi_logloss: 0.0465566\n",
            "[2500]\tvalid_0's multi_logloss: 0.0463507\n",
            "[2750]\tvalid_0's multi_logloss: 0.0460739\n",
            "[3000]\tvalid_0's multi_logloss: 0.0458167\n",
            "[3250]\tvalid_0's multi_logloss: 0.0456397\n",
            "[3500]\tvalid_0's multi_logloss: 0.0453649\n",
            "[3750]\tvalid_0's multi_logloss: 0.0451791\n",
            "[4000]\tvalid_0's multi_logloss: 0.0449338\n",
            "[4250]\tvalid_0's multi_logloss: 0.0448629\n",
            "Early stopping, best iteration is:\n",
            "[4441]\tvalid_0's multi_logloss: 0.0446707\n"
          ],
          "name": "stdout"
        },
        {
          "output_type": "stream",
          "text": [
            "[0.6GB(-0.0GB): 67.840sec] fit F\n"
          ],
          "name": "stderr"
        },
        {
          "output_type": "stream",
          "text": [
            "fold 14: mean position error 3.0790408856435945\n",
            "Training until validation scores don't improve for 50 rounds\n",
            "[250]\tvalid_0's rmse: 9.0071\n",
            "[500]\tvalid_0's rmse: 5.58061\n",
            "[750]\tvalid_0's rmse: 4.98321\n",
            "[1000]\tvalid_0's rmse: 4.69496\n",
            "[1250]\tvalid_0's rmse: 4.55509\n",
            "[1500]\tvalid_0's rmse: 4.42413\n",
            "[1750]\tvalid_0's rmse: 4.34875\n",
            "[2000]\tvalid_0's rmse: 4.29351\n",
            "[2250]\tvalid_0's rmse: 4.24528\n",
            "[2500]\tvalid_0's rmse: 4.20925\n",
            "[2750]\tvalid_0's rmse: 4.1914\n",
            "[3000]\tvalid_0's rmse: 4.16699\n",
            "[3250]\tvalid_0's rmse: 4.12996\n",
            "Early stopping, best iteration is:\n",
            "[3313]\tvalid_0's rmse: 4.12083\n"
          ],
          "name": "stdout"
        },
        {
          "output_type": "stream",
          "text": [
            "[0.6GB(-0.1GB): 43.501sec] fit X\n"
          ],
          "name": "stderr"
        },
        {
          "output_type": "stream",
          "text": [
            "Training until validation scores don't improve for 50 rounds\n",
            "[250]\tvalid_0's rmse: 5.44105\n",
            "[500]\tvalid_0's rmse: 3.24844\n",
            "[750]\tvalid_0's rmse: 2.80465\n",
            "[1000]\tvalid_0's rmse: 2.61795\n",
            "[1250]\tvalid_0's rmse: 2.51908\n",
            "[1500]\tvalid_0's rmse: 2.45687\n",
            "[1750]\tvalid_0's rmse: 2.4125\n",
            "[2000]\tvalid_0's rmse: 2.37569\n",
            "[2250]\tvalid_0's rmse: 2.35403\n",
            "Early stopping, best iteration is:\n",
            "[2251]\tvalid_0's rmse: 2.35393\n"
          ],
          "name": "stdout"
        },
        {
          "output_type": "stream",
          "text": [
            "[0.6GB(+0.0GB): 30.574sec] fit Y\n"
          ],
          "name": "stderr"
        },
        {
          "output_type": "stream",
          "text": [
            "Training until validation scores don't improve for 50 rounds\n",
            "[250]\tvalid_0's multi_logloss: 0.0655278\n",
            "[500]\tvalid_0's multi_logloss: 0.0565592\n",
            "[750]\tvalid_0's multi_logloss: 0.0549278\n",
            "Early stopping, best iteration is:\n",
            "[723]\tvalid_0's multi_logloss: 0.0549278\n"
          ],
          "name": "stdout"
        },
        {
          "output_type": "stream",
          "text": [
            "[0.6GB(-0.0GB): 28.939sec] fit F\n"
          ],
          "name": "stderr"
        },
        {
          "output_type": "stream",
          "text": [
            "fold 15: mean position error 3.1271820419242653\n",
            "Training until validation scores don't improve for 50 rounds\n",
            "[250]\tvalid_0's rmse: 7.00229\n",
            "[500]\tvalid_0's rmse: 3.94484\n",
            "[750]\tvalid_0's rmse: 3.53791\n",
            "[1000]\tvalid_0's rmse: 3.28083\n",
            "[1250]\tvalid_0's rmse: 3.12098\n",
            "[1500]\tvalid_0's rmse: 2.99712\n",
            "[1750]\tvalid_0's rmse: 2.92206\n",
            "[2000]\tvalid_0's rmse: 2.86979\n",
            "[2250]\tvalid_0's rmse: 2.80422\n",
            "[2500]\tvalid_0's rmse: 2.77188\n",
            "Early stopping, best iteration is:\n",
            "[2457]\tvalid_0's rmse: 2.77092\n"
          ],
          "name": "stdout"
        },
        {
          "output_type": "stream",
          "text": [
            "[0.6GB(+0.0GB): 33.017sec] fit X\n"
          ],
          "name": "stderr"
        },
        {
          "output_type": "stream",
          "text": [
            "Training until validation scores don't improve for 50 rounds\n",
            "[250]\tvalid_0's rmse: 5.47444\n",
            "[500]\tvalid_0's rmse: 3.41985\n",
            "[750]\tvalid_0's rmse: 3.04115\n",
            "[1000]\tvalid_0's rmse: 2.88065\n",
            "[1250]\tvalid_0's rmse: 2.79199\n",
            "[1500]\tvalid_0's rmse: 2.74074\n",
            "[1750]\tvalid_0's rmse: 2.69735\n",
            "[2000]\tvalid_0's rmse: 2.66097\n",
            "[2250]\tvalid_0's rmse: 2.63759\n",
            "[2500]\tvalid_0's rmse: 2.61835\n",
            "[2750]\tvalid_0's rmse: 2.60177\n",
            "[3000]\tvalid_0's rmse: 2.59038\n",
            "[3250]\tvalid_0's rmse: 2.583\n",
            "[3500]\tvalid_0's rmse: 2.57563\n",
            "[3750]\tvalid_0's rmse: 2.56875\n",
            "[4000]\tvalid_0's rmse: 2.5626\n",
            "[4250]\tvalid_0's rmse: 2.55638\n",
            "Early stopping, best iteration is:\n",
            "[4394]\tvalid_0's rmse: 2.55306\n"
          ],
          "name": "stdout"
        },
        {
          "output_type": "stream",
          "text": [
            "[0.6GB(-0.0GB): 56.163sec] fit Y\n"
          ],
          "name": "stderr"
        },
        {
          "output_type": "stream",
          "text": [
            "Training until validation scores don't improve for 50 rounds\n",
            "[250]\tvalid_0's multi_logloss: 0.070456\n",
            "[500]\tvalid_0's multi_logloss: 0.0627069\n",
            "[750]\tvalid_0's multi_logloss: 0.0608579\n",
            "[1000]\tvalid_0's multi_logloss: 0.0596704\n",
            "[1250]\tvalid_0's multi_logloss: 0.0590349\n",
            "[1500]\tvalid_0's multi_logloss: 0.0585293\n",
            "[1750]\tvalid_0's multi_logloss: 0.0581958\n",
            "[2000]\tvalid_0's multi_logloss: 0.0578288\n",
            "[2250]\tvalid_0's multi_logloss: 0.0574518\n",
            "[2500]\tvalid_0's multi_logloss: 0.0572152\n",
            "[2750]\tvalid_0's multi_logloss: 0.0569262\n",
            "[3000]\tvalid_0's multi_logloss: 0.0566834\n",
            "Early stopping, best iteration is:\n",
            "[3015]\tvalid_0's multi_logloss: 0.0566656\n"
          ],
          "name": "stdout"
        },
        {
          "output_type": "stream",
          "text": [
            "[0.6GB(+0.0GB): 46.293sec] fit F\n"
          ],
          "name": "stderr"
        },
        {
          "output_type": "stream",
          "text": [
            "fold 16: mean position error 3.024250470758414\n",
            "Training until validation scores don't improve for 50 rounds\n",
            "[250]\tvalid_0's rmse: 9.41399\n",
            "[500]\tvalid_0's rmse: 7.95532\n",
            "[750]\tvalid_0's rmse: 7.6912\n",
            "[1000]\tvalid_0's rmse: 7.53528\n",
            "[1250]\tvalid_0's rmse: 7.4169\n",
            "[1500]\tvalid_0's rmse: 7.34015\n",
            "[1750]\tvalid_0's rmse: 7.2542\n",
            "[2000]\tvalid_0's rmse: 7.20092\n",
            "[2250]\tvalid_0's rmse: 7.13946\n",
            "[2500]\tvalid_0's rmse: 7.09053\n",
            "[2750]\tvalid_0's rmse: 7.04084\n",
            "[3000]\tvalid_0's rmse: 6.99538\n",
            "[3250]\tvalid_0's rmse: 6.9699\n",
            "[3500]\tvalid_0's rmse: 6.93618\n",
            "[3750]\tvalid_0's rmse: 6.90353\n",
            "[4000]\tvalid_0's rmse: 6.87394\n",
            "[4250]\tvalid_0's rmse: 6.85034\n",
            "[4500]\tvalid_0's rmse: 6.82976\n",
            "Early stopping, best iteration is:\n",
            "[4630]\tvalid_0's rmse: 6.82133\n"
          ],
          "name": "stdout"
        },
        {
          "output_type": "stream",
          "text": [
            "[0.6GB(+0.0GB): 57.188sec] fit X\n"
          ],
          "name": "stderr"
        },
        {
          "output_type": "stream",
          "text": [
            "Training until validation scores don't improve for 50 rounds\n",
            "[250]\tvalid_0's rmse: 5.71499\n",
            "[500]\tvalid_0's rmse: 3.84189\n",
            "[750]\tvalid_0's rmse: 3.46407\n",
            "[1000]\tvalid_0's rmse: 3.2827\n",
            "[1250]\tvalid_0's rmse: 3.16817\n",
            "[1500]\tvalid_0's rmse: 3.08648\n",
            "[1750]\tvalid_0's rmse: 3.01985\n",
            "[2000]\tvalid_0's rmse: 2.97702\n",
            "[2250]\tvalid_0's rmse: 2.94167\n",
            "[2500]\tvalid_0's rmse: 2.91467\n",
            "[2750]\tvalid_0's rmse: 2.8928\n",
            "[3000]\tvalid_0's rmse: 2.87153\n",
            "Early stopping, best iteration is:\n",
            "[3088]\tvalid_0's rmse: 2.86725\n"
          ],
          "name": "stdout"
        },
        {
          "output_type": "stream",
          "text": [
            "[0.6GB(+0.0GB): 38.698sec] fit Y\n"
          ],
          "name": "stderr"
        },
        {
          "output_type": "stream",
          "text": [
            "Training until validation scores don't improve for 50 rounds\n",
            "[250]\tvalid_0's multi_logloss: 0.0632919\n",
            "[500]\tvalid_0's multi_logloss: 0.0562833\n",
            "[750]\tvalid_0's multi_logloss: 0.0546256\n",
            "[1000]\tvalid_0's multi_logloss: 0.0534744\n",
            "[1250]\tvalid_0's multi_logloss: 0.0528885\n",
            "[1500]\tvalid_0's multi_logloss: 0.0524762\n",
            "[1750]\tvalid_0's multi_logloss: 0.0520852\n",
            "[2000]\tvalid_0's multi_logloss: 0.0516893\n",
            "[2250]\tvalid_0's multi_logloss: 0.0514416\n",
            "[2500]\tvalid_0's multi_logloss: 0.0510847\n",
            "[2750]\tvalid_0's multi_logloss: 0.0507958\n",
            "[3000]\tvalid_0's multi_logloss: 0.0505543\n",
            "[3250]\tvalid_0's multi_logloss: 0.0503131\n",
            "Early stopping, best iteration is:\n",
            "[3373]\tvalid_0's multi_logloss: 0.0501995\n"
          ],
          "name": "stdout"
        },
        {
          "output_type": "stream",
          "text": [
            "[0.6GB(+0.0GB): 51.383sec] fit F\n"
          ],
          "name": "stderr"
        },
        {
          "output_type": "stream",
          "text": [
            "fold 17: mean position error 3.2814208924023727\n",
            "Training until validation scores don't improve for 50 rounds\n",
            "[250]\tvalid_0's rmse: 7.90577\n",
            "[500]\tvalid_0's rmse: 4.73372\n",
            "[750]\tvalid_0's rmse: 4.17228\n",
            "[1000]\tvalid_0's rmse: 3.8902\n",
            "[1250]\tvalid_0's rmse: 3.7401\n",
            "[1500]\tvalid_0's rmse: 3.64136\n",
            "[1750]\tvalid_0's rmse: 3.56158\n",
            "[2000]\tvalid_0's rmse: 3.50334\n",
            "Early stopping, best iteration is:\n",
            "[2029]\tvalid_0's rmse: 3.49683\n"
          ],
          "name": "stdout"
        },
        {
          "output_type": "stream",
          "text": [
            "[0.6GB(+0.0GB): 27.112sec] fit X\n"
          ],
          "name": "stderr"
        },
        {
          "output_type": "stream",
          "text": [
            "Training until validation scores don't improve for 50 rounds\n",
            "[250]\tvalid_0's rmse: 6.04275\n",
            "[500]\tvalid_0's rmse: 4.13506\n",
            "[750]\tvalid_0's rmse: 3.69565\n",
            "[1000]\tvalid_0's rmse: 3.48259\n",
            "[1250]\tvalid_0's rmse: 3.34437\n",
            "[1500]\tvalid_0's rmse: 3.24857\n",
            "[1750]\tvalid_0's rmse: 3.17229\n",
            "[2000]\tvalid_0's rmse: 3.12021\n",
            "[2250]\tvalid_0's rmse: 3.07129\n",
            "[2500]\tvalid_0's rmse: 3.04155\n",
            "[2750]\tvalid_0's rmse: 3.00493\n",
            "[3000]\tvalid_0's rmse: 2.97786\n",
            "[3250]\tvalid_0's rmse: 2.95388\n",
            "[3500]\tvalid_0's rmse: 2.93167\n",
            "[3750]\tvalid_0's rmse: 2.90859\n",
            "[4000]\tvalid_0's rmse: 2.89198\n",
            "[4250]\tvalid_0's rmse: 2.87788\n",
            "[4500]\tvalid_0's rmse: 2.85968\n",
            "[4750]\tvalid_0's rmse: 2.84819\n",
            "[5000]\tvalid_0's rmse: 2.83544\n",
            "[5250]\tvalid_0's rmse: 2.82346\n",
            "[5500]\tvalid_0's rmse: 2.81235\n",
            "[5750]\tvalid_0's rmse: 2.80219\n",
            "[6000]\tvalid_0's rmse: 2.79308\n",
            "[6250]\tvalid_0's rmse: 2.78409\n",
            "[6500]\tvalid_0's rmse: 2.7776\n",
            "[6750]\tvalid_0's rmse: 2.7711\n",
            "Early stopping, best iteration is:\n",
            "[6726]\tvalid_0's rmse: 2.77088\n"
          ],
          "name": "stdout"
        },
        {
          "output_type": "stream",
          "text": [
            "[0.6GB(-0.0GB): 82.215sec] fit Y\n"
          ],
          "name": "stderr"
        },
        {
          "output_type": "stream",
          "text": [
            "Training until validation scores don't improve for 50 rounds\n",
            "[250]\tvalid_0's multi_logloss: 0.069459\n",
            "[500]\tvalid_0's multi_logloss: 0.0607713\n",
            "[750]\tvalid_0's multi_logloss: 0.058946\n",
            "[1000]\tvalid_0's multi_logloss: 0.0581041\n",
            "[1250]\tvalid_0's multi_logloss: 0.0573507\n",
            "[1500]\tvalid_0's multi_logloss: 0.0568524\n",
            "[1750]\tvalid_0's multi_logloss: 0.0563113\n",
            "[2000]\tvalid_0's multi_logloss: 0.0558712\n",
            "[2250]\tvalid_0's multi_logloss: 0.0554779\n",
            "[2500]\tvalid_0's multi_logloss: 0.0549323\n",
            "[2750]\tvalid_0's multi_logloss: 0.0547218\n",
            "[3000]\tvalid_0's multi_logloss: 0.0545139\n",
            "[3250]\tvalid_0's multi_logloss: 0.0543864\n",
            "[3500]\tvalid_0's multi_logloss: 0.0541497\n",
            "[3750]\tvalid_0's multi_logloss: 0.0539499\n",
            "[4000]\tvalid_0's multi_logloss: 0.0537937\n",
            "[4250]\tvalid_0's multi_logloss: 0.0536583\n",
            "[4500]\tvalid_0's multi_logloss: 0.0534053\n",
            "[4750]\tvalid_0's multi_logloss: 0.053322\n",
            "[5000]\tvalid_0's multi_logloss: 0.0532027\n",
            "[5250]\tvalid_0's multi_logloss: 0.0528062\n",
            "[5500]\tvalid_0's multi_logloss: 0.0527151\n",
            "[5750]\tvalid_0's multi_logloss: 0.0526773\n",
            "[6000]\tvalid_0's multi_logloss: 0.0524906\n",
            "[6250]\tvalid_0's multi_logloss: 0.0524559\n",
            "[6500]\tvalid_0's multi_logloss: 0.0524316\n",
            "[6750]\tvalid_0's multi_logloss: 0.052338\n",
            "[7000]\tvalid_0's multi_logloss: 0.0522399\n",
            "Early stopping, best iteration is:\n",
            "[7116]\tvalid_0's multi_logloss: 0.0521575\n"
          ],
          "name": "stdout"
        },
        {
          "output_type": "stream",
          "text": [
            "[0.6GB(+0.0GB): 113.438sec] fit F\n"
          ],
          "name": "stderr"
        },
        {
          "output_type": "stream",
          "text": [
            "fold 18: mean position error 3.346171066172864\n",
            "Training until validation scores don't improve for 50 rounds\n",
            "[250]\tvalid_0's rmse: 7.99108\n",
            "[500]\tvalid_0's rmse: 4.69905\n",
            "[750]\tvalid_0's rmse: 4.26317\n",
            "[1000]\tvalid_0's rmse: 4.09428\n",
            "Early stopping, best iteration is:\n",
            "[1011]\tvalid_0's rmse: 4.08571\n"
          ],
          "name": "stdout"
        },
        {
          "output_type": "stream",
          "text": [
            "[0.6GB(-0.0GB): 14.265sec] fit X\n"
          ],
          "name": "stderr"
        },
        {
          "output_type": "stream",
          "text": [
            "Training until validation scores don't improve for 50 rounds\n",
            "[250]\tvalid_0's rmse: 5.37214\n",
            "[500]\tvalid_0's rmse: 3.41029\n",
            "[750]\tvalid_0's rmse: 3.02754\n",
            "[1000]\tvalid_0's rmse: 2.87018\n",
            "[1250]\tvalid_0's rmse: 2.78775\n",
            "[1500]\tvalid_0's rmse: 2.73789\n",
            "[1750]\tvalid_0's rmse: 2.70324\n",
            "[2000]\tvalid_0's rmse: 2.67328\n",
            "[2250]\tvalid_0's rmse: 2.65517\n",
            "[2500]\tvalid_0's rmse: 2.64325\n",
            "[2750]\tvalid_0's rmse: 2.63168\n",
            "[3000]\tvalid_0's rmse: 2.61994\n",
            "[3250]\tvalid_0's rmse: 2.61365\n",
            "[3500]\tvalid_0's rmse: 2.60706\n",
            "[3750]\tvalid_0's rmse: 2.60298\n",
            "Early stopping, best iteration is:\n",
            "[3716]\tvalid_0's rmse: 2.60235\n"
          ],
          "name": "stdout"
        },
        {
          "output_type": "stream",
          "text": [
            "[0.6GB(-0.0GB): 48.804sec] fit Y\n"
          ],
          "name": "stderr"
        },
        {
          "output_type": "stream",
          "text": [
            "Training until validation scores don't improve for 50 rounds\n",
            "[250]\tvalid_0's multi_logloss: 0.0622501\n",
            "[500]\tvalid_0's multi_logloss: 0.0539045\n",
            "[750]\tvalid_0's multi_logloss: 0.0522154\n",
            "[1000]\tvalid_0's multi_logloss: 0.0513948\n",
            "[1250]\tvalid_0's multi_logloss: 0.0506624\n",
            "[1500]\tvalid_0's multi_logloss: 0.049848\n",
            "[1750]\tvalid_0's multi_logloss: 0.0495122\n",
            "[2000]\tvalid_0's multi_logloss: 0.0492027\n",
            "[2250]\tvalid_0's multi_logloss: 0.0489025\n",
            "[2500]\tvalid_0's multi_logloss: 0.0485206\n",
            "[2750]\tvalid_0's multi_logloss: 0.0481459\n",
            "[3000]\tvalid_0's multi_logloss: 0.0478174\n",
            "[3250]\tvalid_0's multi_logloss: 0.0476446\n",
            "[3500]\tvalid_0's multi_logloss: 0.0474785\n",
            "[3750]\tvalid_0's multi_logloss: 0.0473658\n",
            "[4000]\tvalid_0's multi_logloss: 0.0471584\n",
            "Early stopping, best iteration is:\n",
            "[4008]\tvalid_0's multi_logloss: 0.0471509\n"
          ],
          "name": "stdout"
        },
        {
          "output_type": "stream",
          "text": [
            "[0.6GB(+0.0GB): 62.486sec] fit F\n"
          ],
          "name": "stderr"
        },
        {
          "output_type": "stream",
          "text": [
            "fold 19: mean position error 3.2412703692434484\n",
            "*+*+*+*+*+*+*+*+*+*+*+*+*+*+*+*+*+*+*+*+*+*+*+*+*+*+*+*+*+*+*+*+*+*+*+*+*+*+*+*+\n",
            "file #19, shape=(6312, 1025), name=5da1389e4db8ce0c98bd0547_train.csv\n",
            "mean position error 3.0676078798634983\n",
            "*+*+*+*+*+*+*+*+*+*+*+*+*+*+*+*+*+*+*+*+*+*+*+*+*+*+*+*+*+*+*+*+*+*+*+*+*+*+*+*+\n"
          ],
          "name": "stdout"
        }
      ]
    }
  ]
}