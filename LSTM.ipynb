{
  "nbformat": 4,
  "nbformat_minor": 5,
  "metadata": {
    "kernelspec": {
      "display_name": "Python 3",
      "language": "python",
      "name": "python3"
    },
    "language_info": {
      "codemirror_mode": {
        "name": "ipython",
        "version": 3
      },
      "file_extension": ".py",
      "mimetype": "text/x-python",
      "name": "python",
      "nbconvert_exporter": "python",
      "pygments_lexer": "ipython3",
      "version": "3.7.9"
    },
    "papermill": {
      "default_parameters": {},
      "duration": 23788.75161,
      "end_time": "2021-05-08T17:18:17.548290",
      "environment_variables": {},
      "exception": null,
      "input_path": "__notebook__.ipynb",
      "output_path": "__notebook__.ipynb",
      "parameters": {},
      "start_time": "2021-05-08T10:41:48.796680",
      "version": "2.3.2"
    },
    "colab": {
      "name": "LSTM_O.ipynb",
      "provenance": []
    }
  },
  "cells": [
    {
      "cell_type": "code",
      "metadata": {
        "execution": {
          "iopub.execute_input": "2021-05-08T10:41:54.786231Z",
          "iopub.status.busy": "2021-05-08T10:41:54.785476Z",
          "iopub.status.idle": "2021-05-08T10:42:01.955309Z",
          "shell.execute_reply": "2021-05-08T10:42:01.954672Z"
        },
        "papermill": {
          "duration": 7.189094,
          "end_time": "2021-05-08T10:42:01.955475",
          "exception": false,
          "start_time": "2021-05-08T10:41:54.766381",
          "status": "completed"
        },
        "tags": [],
        "id": "curious-feeding"
      },
      "source": [
        "import numpy as np\n",
        "import pandas as pd\n",
        "import scipy.stats as stats\n",
        "from pathlib import Path\n",
        "import glob\n",
        "import pickle\n",
        "\n",
        "import random\n",
        "import os\n",
        "\n",
        "from sklearn.model_selection import StratifiedKFold\n",
        "from sklearn.preprocessing import StandardScaler, LabelEncoder\n",
        "\n",
        "import tensorflow as tf\n",
        "import tensorflow.keras.layers as L\n",
        "import tensorflow.keras.models as M\n",
        "import tensorflow.keras.backend as K\n",
        "import tensorflow_addons as tfa\n",
        "from tensorflow_addons.layers import WeightNormalization\n",
        "from tensorflow.keras.callbacks import ReduceLROnPlateau, ModelCheckpoint, EarlyStopping"
      ],
      "id": "curious-feeding",
      "execution_count": null,
      "outputs": []
    },
    {
      "cell_type": "markdown",
      "metadata": {
        "papermill": {
          "duration": 0.011158,
          "end_time": "2021-05-08T10:42:01.978576",
          "exception": false,
          "start_time": "2021-05-08T10:42:01.967418",
          "status": "completed"
        },
        "tags": [],
        "id": "comic-fairy"
      },
      "source": [
        "NUM_FEATS determines how many features are used in the training. <br>\n",
        "We have 100 Wi-Fi features in the dataset, but 100th Wi-Fi signal sounds not important, right? <br>\n",
        "So we can use top Wi-Fi signals if we think we need to. "
      ],
      "id": "comic-fairy"
    },
    {
      "cell_type": "code",
      "metadata": {
        "execution": {
          "iopub.execute_input": "2021-05-08T10:42:02.005299Z",
          "iopub.status.busy": "2021-05-08T10:42:02.004600Z",
          "iopub.status.idle": "2021-05-08T10:42:02.008350Z",
          "shell.execute_reply": "2021-05-08T10:42:02.008804Z"
        },
        "papermill": {
          "duration": 0.019006,
          "end_time": "2021-05-08T10:42:02.008979",
          "exception": false,
          "start_time": "2021-05-08T10:42:01.989973",
          "status": "completed"
        },
        "tags": [],
        "id": "unlike-princeton"
      },
      "source": [
        "# options\n",
        "\n",
        "N_SPLITS = 5\n",
        "\n",
        "SEED = 2021\n",
        "\n",
        "NUM_FEATS = 60 # number of features that we use. there are 100 feats but we don't need to use all of them\n",
        "\n",
        "base_path = '/kaggle'"
      ],
      "id": "unlike-princeton",
      "execution_count": null,
      "outputs": []
    },
    {
      "cell_type": "code",
      "metadata": {
        "_cell_guid": "b1076dfc-b9ad-4769-8c92-a6c4dae69d19",
        "_uuid": "8f2839f25d086af736a60e9eeb907d3b93b6e0e5",
        "execution": {
          "iopub.execute_input": "2021-05-08T10:42:02.035778Z",
          "iopub.status.busy": "2021-05-08T10:42:02.035068Z",
          "iopub.status.idle": "2021-05-08T10:42:02.043108Z",
          "shell.execute_reply": "2021-05-08T10:42:02.042377Z"
        },
        "papermill": {
          "duration": 0.022312,
          "end_time": "2021-05-08T10:42:02.043263",
          "exception": false,
          "start_time": "2021-05-08T10:42:02.020951",
          "status": "completed"
        },
        "tags": [],
        "id": "corrected-village"
      },
      "source": [
        "def set_seed(seed=42):\n",
        "    random.seed(seed)\n",
        "    os.environ['PYTHONHASHSEED'] = str(seed)\n",
        "    np.random.seed(seed)\n",
        "    tf.random.set_seed(seed)\n",
        "    session_conf = tf.compat.v1.ConfigProto(\n",
        "        intra_op_parallelism_threads=1,\n",
        "        inter_op_parallelism_threads=1\n",
        "    )\n",
        "    sess = tf.compat.v1.Session(graph=tf.compat.v1.get_default_graph(), config=session_conf)\n",
        "    tf.compat.v1.keras.backend.set_session(sess)\n",
        "    \n",
        "def comp_metric(xhat, yhat, fhat, x, y, f):\n",
        "    intermediate = np.sqrt(np.power(xhat-x, 2) + np.power(yhat-y, 2)) + 15 * np.abs(fhat-f)\n",
        "    return intermediate.sum()/xhat.shape[0]"
      ],
      "id": "corrected-village",
      "execution_count": null,
      "outputs": []
    },
    {
      "cell_type": "code",
      "metadata": {
        "execution": {
          "iopub.execute_input": "2021-05-08T10:42:02.073334Z",
          "iopub.status.busy": "2021-05-08T10:42:02.072604Z",
          "iopub.status.idle": "2021-05-08T10:42:02.157769Z",
          "shell.execute_reply": "2021-05-08T10:42:02.157069Z"
        },
        "papermill": {
          "duration": 0.102623,
          "end_time": "2021-05-08T10:42:02.157915",
          "exception": false,
          "start_time": "2021-05-08T10:42:02.055292",
          "status": "completed"
        },
        "tags": [],
        "id": "outdoor-reverse"
      },
      "source": [
        "feature_dir = f\"{base_path}/input/indoorunifiedwifids\"\n",
        "train_files = sorted(glob.glob(os.path.join(feature_dir, '*_train.csv')))\n",
        "test_files = sorted(glob.glob(os.path.join(feature_dir, '*_test.csv')))\n",
        "subm = pd.read_csv(f'{base_path}/input/indoor-location-navigation/sample_submission.csv', index_col=0)"
      ],
      "id": "outdoor-reverse",
      "execution_count": null,
      "outputs": []
    },
    {
      "cell_type": "code",
      "metadata": {
        "execution": {
          "iopub.execute_input": "2021-05-08T10:42:02.187772Z",
          "iopub.status.busy": "2021-05-08T10:42:02.187129Z",
          "iopub.status.idle": "2021-05-08T10:42:20.913229Z",
          "shell.execute_reply": "2021-05-08T10:42:20.912704Z"
        },
        "papermill": {
          "duration": 18.742156,
          "end_time": "2021-05-08T10:42:20.913362",
          "exception": false,
          "start_time": "2021-05-08T10:42:02.171206",
          "status": "completed"
        },
        "tags": [],
        "id": "proprietary-palmer"
      },
      "source": [
        "with open(f'{feature_dir}/train_all.pkl', 'rb') as f:\n",
        "  data = pickle.load( f)\n",
        "\n",
        "with open(f'{feature_dir}/test_all.pkl', 'rb') as f:\n",
        "  test_data = pickle.load(f)"
      ],
      "id": "proprietary-palmer",
      "execution_count": null,
      "outputs": []
    },
    {
      "cell_type": "code",
      "metadata": {
        "execution": {
          "iopub.execute_input": "2021-05-08T10:42:20.942447Z",
          "iopub.status.busy": "2021-05-08T10:42:20.941707Z",
          "iopub.status.idle": "2021-05-08T10:42:20.944808Z",
          "shell.execute_reply": "2021-05-08T10:42:20.944201Z"
        },
        "papermill": {
          "duration": 0.019732,
          "end_time": "2021-05-08T10:42:20.944944",
          "exception": false,
          "start_time": "2021-05-08T10:42:20.925212",
          "status": "completed"
        },
        "tags": [],
        "id": "novel-maintenance"
      },
      "source": [
        "# training target features\n",
        "\n",
        "BSSID_FEATS = [f'bssid_{i}' for i in range(NUM_FEATS)]\n",
        "RSSI_FEATS  = [f'rssi_{i}' for i in range(NUM_FEATS)]"
      ],
      "id": "novel-maintenance",
      "execution_count": null,
      "outputs": []
    },
    {
      "cell_type": "code",
      "metadata": {
        "execution": {
          "iopub.execute_input": "2021-05-08T10:42:21.003423Z",
          "iopub.status.busy": "2021-05-08T10:42:21.002723Z",
          "iopub.status.idle": "2021-05-08T10:42:25.027026Z",
          "shell.execute_reply": "2021-05-08T10:42:25.027484Z"
        },
        "papermill": {
          "duration": 4.070508,
          "end_time": "2021-05-08T10:42:25.027684",
          "exception": false,
          "start_time": "2021-05-08T10:42:20.957176",
          "status": "completed"
        },
        "tags": [],
        "id": "muslim-colors",
        "outputId": "69e1d2c0-e147-4baa-e58a-2e0e7b1490e6"
      },
      "source": [
        "# get numbers of bssids to embed them in a layer\n",
        "\n",
        "wifi_bssids = []\n",
        "for i in range(100):\n",
        "    wifi_bssids.extend(data.iloc[:,i].values.tolist())\n",
        "wifi_bssids = list(set(wifi_bssids))\n",
        "\n",
        "wifi_bssids_size = len(wifi_bssids)\n",
        "print(f'BSSID TYPES: {wifi_bssids_size}')\n",
        "\n",
        "wifi_bssids_test = []\n",
        "for i in range(100):\n",
        "    wifi_bssids_test.extend(test_data.iloc[:,i].values.tolist())\n",
        "wifi_bssids_test = list(set(wifi_bssids_test))\n",
        "\n",
        "wifi_bssids_size = len(wifi_bssids_test)\n",
        "print(f'BSSID TYPES: {wifi_bssids_size}')\n",
        "\n",
        "wifi_bssids.extend(wifi_bssids_test)\n",
        "wifi_bssids_size = len(wifi_bssids)"
      ],
      "id": "muslim-colors",
      "execution_count": null,
      "outputs": [
        {
          "output_type": "stream",
          "text": [
            "BSSID TYPES: 61206\n",
            "BSSID TYPES: 33042\n"
          ],
          "name": "stdout"
        }
      ]
    },
    {
      "cell_type": "code",
      "metadata": {
        "execution": {
          "iopub.execute_input": "2021-05-08T10:42:25.086996Z",
          "iopub.status.busy": "2021-05-08T10:42:25.085905Z",
          "iopub.status.idle": "2021-05-08T10:42:29.916526Z",
          "shell.execute_reply": "2021-05-08T10:42:29.915505Z"
        },
        "papermill": {
          "duration": 4.876222,
          "end_time": "2021-05-08T10:42:29.916692",
          "exception": false,
          "start_time": "2021-05-08T10:42:25.040470",
          "status": "completed"
        },
        "tags": [],
        "id": "muslim-invention",
        "outputId": "cccbba0d-06b3-4c5b-fa31-fce7785e890c"
      },
      "source": [
        "# preprocess\n",
        "\n",
        "le = LabelEncoder()\n",
        "le.fit(wifi_bssids)\n",
        "le_site = LabelEncoder()\n",
        "le_site.fit(data['site_id'])\n",
        "\n",
        "ss = StandardScaler()\n",
        "ss.fit(data.loc[:,RSSI_FEATS])"
      ],
      "id": "muslim-invention",
      "execution_count": null,
      "outputs": [
        {
          "output_type": "execute_result",
          "data": {
            "text/plain": [
              "StandardScaler()"
            ]
          },
          "metadata": {
            "tags": []
          },
          "execution_count": 8
        }
      ]
    },
    {
      "cell_type": "code",
      "metadata": {
        "execution": {
          "iopub.execute_input": "2021-05-08T10:42:29.945263Z",
          "iopub.status.busy": "2021-05-08T10:42:29.944653Z",
          "iopub.status.idle": "2021-05-08T10:44:30.795896Z",
          "shell.execute_reply": "2021-05-08T10:44:30.796648Z"
        },
        "papermill": {
          "duration": 120.867569,
          "end_time": "2021-05-08T10:44:30.797193",
          "exception": false,
          "start_time": "2021-05-08T10:42:29.929624",
          "status": "completed"
        },
        "tags": [],
        "id": "lovely-capture"
      },
      "source": [
        "data.loc[:,RSSI_FEATS] = ss.transform(data.loc[:,RSSI_FEATS])\n",
        "for i in BSSID_FEATS:\n",
        "    data.loc[:,i] = le.transform(data.loc[:,i])\n",
        "    data.loc[:,i] = data.loc[:,i] + 1\n",
        "    \n",
        "data.loc[:, 'site_id'] = le_site.transform(data.loc[:, 'site_id'])\n",
        "\n",
        "data.loc[:,RSSI_FEATS] = ss.transform(data.loc[:,RSSI_FEATS])"
      ],
      "id": "lovely-capture",
      "execution_count": null,
      "outputs": []
    },
    {
      "cell_type": "code",
      "metadata": {
        "execution": {
          "iopub.execute_input": "2021-05-08T10:44:30.830925Z",
          "iopub.status.busy": "2021-05-08T10:44:30.830283Z",
          "iopub.status.idle": "2021-05-08T10:44:38.697940Z",
          "shell.execute_reply": "2021-05-08T10:44:38.697095Z"
        },
        "papermill": {
          "duration": 7.884029,
          "end_time": "2021-05-08T10:44:38.698087",
          "exception": false,
          "start_time": "2021-05-08T10:44:30.814058",
          "status": "completed"
        },
        "tags": [],
        "id": "realistic-screw"
      },
      "source": [
        "test_data.loc[:,RSSI_FEATS] = ss.transform(test_data.loc[:,RSSI_FEATS])\n",
        "for i in BSSID_FEATS:\n",
        "    test_data.loc[:,i] = le.transform(test_data.loc[:,i])\n",
        "    test_data.loc[:,i] = test_data.loc[:,i] + 1\n",
        "    \n",
        "test_data.loc[:, 'site_id'] = le_site.transform(test_data.loc[:, 'site_id'])\n",
        "\n",
        "test_data.loc[:,RSSI_FEATS] = ss.transform(test_data.loc[:,RSSI_FEATS])"
      ],
      "id": "realistic-screw",
      "execution_count": null,
      "outputs": []
    },
    {
      "cell_type": "code",
      "metadata": {
        "execution": {
          "iopub.execute_input": "2021-05-08T10:44:38.731150Z",
          "iopub.status.busy": "2021-05-08T10:44:38.730501Z",
          "iopub.status.idle": "2021-05-08T10:44:38.735917Z",
          "shell.execute_reply": "2021-05-08T10:44:38.735202Z"
        },
        "papermill": {
          "duration": 0.02467,
          "end_time": "2021-05-08T10:44:38.736056",
          "exception": false,
          "start_time": "2021-05-08T10:44:38.711386",
          "status": "completed"
        },
        "tags": [],
        "id": "human-occurrence"
      },
      "source": [
        "site_count = len(data['site_id'].unique())\n",
        "data.reset_index(drop=True, inplace=True)"
      ],
      "id": "human-occurrence",
      "execution_count": null,
      "outputs": []
    },
    {
      "cell_type": "code",
      "metadata": {
        "execution": {
          "iopub.execute_input": "2021-05-08T10:44:38.769640Z",
          "iopub.status.busy": "2021-05-08T10:44:38.768952Z",
          "iopub.status.idle": "2021-05-08T10:44:38.800315Z",
          "shell.execute_reply": "2021-05-08T10:44:38.799523Z"
        },
        "papermill": {
          "duration": 0.051169,
          "end_time": "2021-05-08T10:44:38.800480",
          "exception": false,
          "start_time": "2021-05-08T10:44:38.749311",
          "status": "completed"
        },
        "tags": [],
        "id": "intimate-street"
      },
      "source": [
        "set_seed(SEED)"
      ],
      "id": "intimate-street",
      "execution_count": null,
      "outputs": []
    },
    {
      "cell_type": "markdown",
      "metadata": {
        "papermill": {
          "duration": 0.014311,
          "end_time": "2021-05-08T10:44:38.828740",
          "exception": false,
          "start_time": "2021-05-08T10:44:38.814429",
          "status": "completed"
        },
        "tags": [],
        "id": "lesser-ideal"
      },
      "source": [
        "## The model\n",
        "The first Embedding layer is very important. <br>\n",
        "Thanks to the layer, we can make sense of these BSSID features. <br>\n",
        "<br>\n",
        "We concatenate all the features and put them into LSTM. <br>"
      ],
      "id": "lesser-ideal"
    },
    {
      "cell_type": "code",
      "metadata": {
        "execution": {
          "iopub.execute_input": "2021-05-08T10:44:38.866766Z",
          "iopub.status.busy": "2021-05-08T10:44:38.864208Z",
          "iopub.status.idle": "2021-05-08T10:44:38.869756Z",
          "shell.execute_reply": "2021-05-08T10:44:38.870225Z"
        },
        "papermill": {
          "duration": 0.02817,
          "end_time": "2021-05-08T10:44:38.870398",
          "exception": false,
          "start_time": "2021-05-08T10:44:38.842228",
          "status": "completed"
        },
        "tags": [],
        "id": "grateful-villa"
      },
      "source": [
        "def create_model(input_data):\n",
        "\n",
        "    # bssid feats\n",
        "    input_dim = input_data[0].shape[1]\n",
        "\n",
        "    input_embd_layer = L.Input(shape=(input_dim,))\n",
        "    x1 = L.Embedding(wifi_bssids_size, 64)(input_embd_layer)\n",
        "    x1 = L.Flatten()(x1)\n",
        "\n",
        "    # rssi feats\n",
        "    input_dim = input_data[1].shape[1]\n",
        "\n",
        "    input_layer = L.Input(input_dim, )\n",
        "    x2 = L.BatchNormalization()(input_layer)\n",
        "    x2 = L.Dense(NUM_FEATS * 64, activation='swish')(x2)\n",
        "\n",
        "    # site\n",
        "    input_site_layer = L.Input(shape=(1,))\n",
        "    x3 = L.Embedding(site_count, 2)(input_site_layer)\n",
        "    x3 = L.Flatten()(x3)\n",
        "\n",
        "\n",
        "    # main stream\n",
        "    x = L.Concatenate(axis=1)([x1, x3, x2])\n",
        "\n",
        "    x = L.BatchNormalization()(x)\n",
        "    x = L.Dropout(0.2)(x)\n",
        "    x = L.Dense(256, activation='swish')(x)\n",
        "\n",
        "    x = L.Reshape((1, -1))(x)\n",
        "    x = L.BatchNormalization()(x)\n",
        "    x = L.Dropout(0.2)(x)\n",
        "    #x = L.LSTM(128, dropout=0.03, recurrent_dropout=0.03, return_sequences=True, activation='swish')(x)\n",
        "    x = L.LSTM(64, dropout=0.2, return_sequences=False, activation='swish')(x)\n",
        "    \n",
        "    output_layer_1 = L.Dense(2, name='xy')(x)\n",
        "    output_layer_2 = L.Dense(1, activation='softmax', name='floor')(x)\n",
        "\n",
        "    model = M.Model([input_embd_layer, input_layer, input_site_layer], \n",
        "                    [output_layer_1, output_layer_2])\n",
        "\n",
        "    model.compile(optimizer=tf.optimizers.Adam(lr=0.005),\n",
        "                  loss='mse', metrics=['mse'])\n",
        "\n",
        "    return model"
      ],
      "id": "grateful-villa",
      "execution_count": null,
      "outputs": []
    },
    {
      "cell_type": "code",
      "metadata": {
        "execution": {
          "iopub.execute_input": "2021-05-08T10:44:38.928366Z",
          "iopub.status.busy": "2021-05-08T10:44:38.900576Z",
          "iopub.status.idle": "2021-05-08T17:08:05.047699Z",
          "shell.execute_reply": "2021-05-08T17:08:05.048244Z"
        },
        "papermill": {
          "duration": 23006.164718,
          "end_time": "2021-05-08T17:08:05.048469",
          "exception": false,
          "start_time": "2021-05-08T10:44:38.883751",
          "status": "completed"
        },
        "tags": [],
        "id": "provincial-adrian",
        "outputId": "1fc00b24-fb19-483f-b484-b620227ef314"
      },
      "source": [
        "score_df = pd.DataFrame()\n",
        "oof = list()\n",
        "predictions = list()\n",
        "\n",
        "oof_x, oof_y, oof_f = np.zeros(data.shape[0]), np.zeros(data.shape[0]), np.zeros(data.shape[0])\n",
        "preds_x, preds_y = 0, 0\n",
        "preds_f_arr = np.zeros((test_data.shape[0], N_SPLITS))\n",
        "\n",
        "buba = 0\n",
        "\n",
        "for fold, (trn_idx, val_idx) in enumerate(StratifiedKFold(n_splits=N_SPLITS, shuffle=True, \n",
        "                                                          random_state=SEED).split(data.loc[:, 'path'], \n",
        "                                                                                   data.loc[:, 'path'])):\n",
        "    \n",
        "    buba = buba + 1\n",
        "    \n",
        "    X_train = data.loc[trn_idx, BSSID_FEATS + RSSI_FEATS + ['site_id']]\n",
        "    y_trainx = data.loc[trn_idx, 'x']\n",
        "    y_trainy = data.loc[trn_idx, 'y']\n",
        "    y_trainf = data.loc[trn_idx, 'floor']\n",
        "\n",
        "    tmp = pd.concat([y_trainx, y_trainy], axis=1)\n",
        "    y_train = [tmp, y_trainf]\n",
        "\n",
        "    X_valid = data.loc[val_idx, BSSID_FEATS + RSSI_FEATS + ['site_id']]\n",
        "    y_validx = data.loc[val_idx, 'x']\n",
        "    y_validy = data.loc[val_idx, 'y']\n",
        "    y_validf = data.loc[val_idx, 'floor']\n",
        "\n",
        "    tmp = pd.concat([y_validx, y_validy], axis=1)\n",
        "    y_valid = [tmp, y_validf]\n",
        "\n",
        "    model = create_model([X_train.loc[:,BSSID_FEATS], X_train.loc[:,RSSI_FEATS], X_train.loc[:,'site_id']])\n",
        "    model.fit([X_train.loc[:,BSSID_FEATS], X_train.loc[:,RSSI_FEATS], X_train.loc[:,'site_id']], y_train, \n",
        "                validation_data=([X_valid.loc[:,BSSID_FEATS], X_valid.loc[:,RSSI_FEATS], X_valid.loc[:,'site_id']], y_valid), \n",
        "                batch_size=128, epochs=1000,\n",
        "                callbacks=[\n",
        "                ReduceLROnPlateau(monitor='val_loss', factor=0.3, patience=3, verbose=1, min_delta=1e-4, mode='min')\n",
        "                , ModelCheckpoint(f'{base_path}/RNN_{SEED}_{fold}.hdf5', monitor='val_loss', verbose=0, save_best_only=True, save_weights_only=True, mode='min')\n",
        "                , EarlyStopping(monitor='val_loss', min_delta=1e-5, patience=7, mode='min', baseline=None, restore_best_weights=True)\n",
        "            ])\n",
        "\n",
        "    model.load_weights(f'{base_path}/RNN_{SEED}_{fold}.hdf5')\n",
        "    val_pred = model.predict([X_valid.loc[:,BSSID_FEATS], X_valid.loc[:,RSSI_FEATS], X_valid.loc[:,'site_id']])\n",
        "\n",
        "    oof_x[val_idx] = val_pred[0][:,0]\n",
        "    oof_y[val_idx] = val_pred[0][:,1]\n",
        "    oof_f[val_idx] = val_pred[1][:,0].astype(int)\n",
        "\n",
        "    pred = model.predict([test_data.loc[:,BSSID_FEATS], test_data.loc[:,RSSI_FEATS], test_data.loc[:,'site_id']]) # test_data.iloc[:, :-1])\n",
        "    preds_x += pred[0][:,0]\n",
        "    preds_y += pred[0][:,1]\n",
        "    preds_f_arr[:, fold] = pred[1][:,0].astype(int)\n",
        "\n",
        "    score = comp_metric(oof_x[val_idx], oof_y[val_idx], oof_f[val_idx],\n",
        "                        y_validx.to_numpy(), y_validy.to_numpy(), y_validf.to_numpy())\n",
        "    print(f\"fold {fold}: mean position error {score}\")\n",
        "    \n",
        "    stringg = str(buba) + 'my_model_weights.h5'\n",
        "    \n",
        "    model.save(stringg)\n",
        "    \n",
        "    if buba == 4:\n",
        "        \n",
        "        break # for demonstration, run just one fold as it takes much time.\n",
        "\n",
        "preds_x /= (fold + 1)\n",
        "preds_y /= (fold + 1)\n",
        "    \n",
        "print(\"*+\"*40)\n",
        "# as it breaks in the middle of cross-validation, the score is not accurate at all.\n",
        "score = comp_metric(oof_x, oof_y, oof_f, data.iloc[:, -5].to_numpy(), data.iloc[:, -4].to_numpy(), data.iloc[:, -3].to_numpy())\n",
        "oof.append(score)\n",
        "print(f\"mean position error {score}\")\n",
        "print(\"*+\"*40)\n",
        "\n",
        "preds_f_mode = stats.mode(preds_f_arr, axis=1)\n",
        "preds_f = preds_f_mode[0].astype(int).reshape(-1)\n",
        "test_preds = pd.DataFrame(np.stack((preds_f, preds_x, preds_y))).T\n",
        "test_preds.columns = subm.columns\n",
        "test_preds.index = test_data[\"site_path_timestamp\"]\n",
        "test_preds[\"floor\"] = test_preds[\"floor\"].astype(int)\n",
        "predictions.append(test_preds)"
      ],
      "id": "provincial-adrian",
      "execution_count": null,
      "outputs": [
        {
          "output_type": "stream",
          "text": [
            "/opt/conda/lib/python3.7/site-packages/sklearn/model_selection/_split.py:668: UserWarning: The least populated class in y has only 1 members, which is less than n_splits=5.\n",
            "  % (min_groups, self.n_splits)), UserWarning)\n"
          ],
          "name": "stderr"
        },
        {
          "output_type": "stream",
          "text": [
            "Epoch 1/1000\n",
            "1614/1614 [==============================] - 175s 107ms/step - loss: 1871.9990 - xy_loss: 1868.4626 - floor_loss: 3.5364 - xy_mse: 1868.4626 - floor_mse: 3.5364 - val_loss: 76.5427 - val_xy_loss: 73.0068 - val_floor_loss: 3.5360 - val_xy_mse: 73.0068 - val_floor_mse: 3.5360\n",
            "Epoch 2/1000\n",
            "1614/1614 [==============================] - 164s 101ms/step - loss: 166.1711 - xy_loss: 162.6316 - floor_loss: 3.5395 - xy_mse: 162.6316 - floor_mse: 3.5395 - val_loss: 61.7639 - val_xy_loss: 58.2279 - val_floor_loss: 3.5360 - val_xy_mse: 58.2279 - val_floor_mse: 3.5360\n",
            "Epoch 3/1000\n",
            "1614/1614 [==============================] - 164s 102ms/step - loss: 131.7864 - xy_loss: 128.2566 - floor_loss: 3.5298 - xy_mse: 128.2566 - floor_mse: 3.5298 - val_loss: 52.3429 - val_xy_loss: 48.8069 - val_floor_loss: 3.5360 - val_xy_mse: 48.8069 - val_floor_mse: 3.5360\n",
            "Epoch 4/1000\n",
            "1614/1614 [==============================] - 167s 103ms/step - loss: 109.9079 - xy_loss: 106.3936 - floor_loss: 3.5143 - xy_mse: 106.3936 - floor_mse: 3.5143 - val_loss: 47.9674 - val_xy_loss: 44.4314 - val_floor_loss: 3.5360 - val_xy_mse: 44.4314 - val_floor_mse: 3.5360\n",
            "Epoch 5/1000\n",
            "1614/1614 [==============================] - 162s 100ms/step - loss: 90.9078 - xy_loss: 87.3519 - floor_loss: 3.5559 - xy_mse: 87.3519 - floor_mse: 3.5559 - val_loss: 44.5877 - val_xy_loss: 41.0517 - val_floor_loss: 3.5360 - val_xy_mse: 41.0517 - val_floor_mse: 3.5360\n",
            "Epoch 6/1000\n",
            "1614/1614 [==============================] - 164s 101ms/step - loss: 74.3493 - xy_loss: 70.8197 - floor_loss: 3.5296 - xy_mse: 70.8197 - floor_mse: 3.5296 - val_loss: 41.6332 - val_xy_loss: 38.0972 - val_floor_loss: 3.5360 - val_xy_mse: 38.0972 - val_floor_mse: 3.5360\n",
            "Epoch 7/1000\n",
            "1614/1614 [==============================] - 165s 102ms/step - loss: 57.7299 - xy_loss: 54.1842 - floor_loss: 3.5456 - xy_mse: 54.1842 - floor_mse: 3.5456 - val_loss: 35.6476 - val_xy_loss: 32.1116 - val_floor_loss: 3.5360 - val_xy_mse: 32.1116 - val_floor_mse: 3.5360\n",
            "Epoch 8/1000\n",
            "1614/1614 [==============================] - 163s 101ms/step - loss: 47.5093 - xy_loss: 43.9827 - floor_loss: 3.5267 - xy_mse: 43.9827 - floor_mse: 3.5267 - val_loss: 31.8149 - val_xy_loss: 28.2789 - val_floor_loss: 3.5360 - val_xy_mse: 28.2789 - val_floor_mse: 3.5360\n",
            "Epoch 9/1000\n",
            "1614/1614 [==============================] - 164s 101ms/step - loss: 40.3639 - xy_loss: 36.8316 - floor_loss: 3.5322 - xy_mse: 36.8316 - floor_mse: 3.5322 - val_loss: 30.0347 - val_xy_loss: 26.4987 - val_floor_loss: 3.5360 - val_xy_mse: 26.4987 - val_floor_mse: 3.5360\n",
            "Epoch 10/1000\n",
            "1614/1614 [==============================] - 165s 102ms/step - loss: 35.2182 - xy_loss: 31.6917 - floor_loss: 3.5265 - xy_mse: 31.6917 - floor_mse: 3.5265 - val_loss: 29.7402 - val_xy_loss: 26.2042 - val_floor_loss: 3.5360 - val_xy_mse: 26.2042 - val_floor_mse: 3.5360\n",
            "Epoch 11/1000\n",
            "1614/1614 [==============================] - 165s 102ms/step - loss: 31.7209 - xy_loss: 28.1909 - floor_loss: 3.5300 - xy_mse: 28.1909 - floor_mse: 3.5300 - val_loss: 39.2619 - val_xy_loss: 35.7260 - val_floor_loss: 3.5360 - val_xy_mse: 35.7260 - val_floor_mse: 3.5360\n",
            "Epoch 12/1000\n",
            "1614/1614 [==============================] - 164s 102ms/step - loss: 30.0520 - xy_loss: 26.5072 - floor_loss: 3.5448 - xy_mse: 26.5072 - floor_mse: 3.5448 - val_loss: 25.7975 - val_xy_loss: 22.2616 - val_floor_loss: 3.5360 - val_xy_mse: 22.2616 - val_floor_mse: 3.5360\n",
            "Epoch 13/1000\n",
            "1614/1614 [==============================] - 163s 101ms/step - loss: 26.9864 - xy_loss: 23.4350 - floor_loss: 3.5514 - xy_mse: 23.4350 - floor_mse: 3.5514 - val_loss: 28.0248 - val_xy_loss: 24.4889 - val_floor_loss: 3.5360 - val_xy_mse: 24.4889 - val_floor_mse: 3.5360\n",
            "Epoch 14/1000\n",
            "1614/1614 [==============================] - 162s 100ms/step - loss: 25.5392 - xy_loss: 22.0377 - floor_loss: 3.5016 - xy_mse: 22.0377 - floor_mse: 3.5016 - val_loss: 25.6148 - val_xy_loss: 22.0789 - val_floor_loss: 3.5360 - val_xy_mse: 22.0789 - val_floor_mse: 3.5360\n",
            "Epoch 15/1000\n",
            "1614/1614 [==============================] - 160s 99ms/step - loss: 24.2763 - xy_loss: 20.7501 - floor_loss: 3.5263 - xy_mse: 20.7501 - floor_mse: 3.5263 - val_loss: 25.1091 - val_xy_loss: 21.5732 - val_floor_loss: 3.5360 - val_xy_mse: 21.5732 - val_floor_mse: 3.5360\n",
            "Epoch 16/1000\n",
            "1614/1614 [==============================] - 160s 99ms/step - loss: 23.1403 - xy_loss: 19.6034 - floor_loss: 3.5369 - xy_mse: 19.6034 - floor_mse: 3.5369 - val_loss: 26.2017 - val_xy_loss: 22.6657 - val_floor_loss: 3.5360 - val_xy_mse: 22.6657 - val_floor_mse: 3.5360\n",
            "Epoch 17/1000\n",
            "1614/1614 [==============================] - 159s 99ms/step - loss: 21.7726 - xy_loss: 18.2282 - floor_loss: 3.5444 - xy_mse: 18.2282 - floor_mse: 3.5444 - val_loss: 24.4709 - val_xy_loss: 20.9349 - val_floor_loss: 3.5360 - val_xy_mse: 20.9349 - val_floor_mse: 3.5360\n",
            "Epoch 18/1000\n",
            "1614/1614 [==============================] - 165s 102ms/step - loss: 21.5713 - xy_loss: 18.0225 - floor_loss: 3.5488 - xy_mse: 18.0225 - floor_mse: 3.5488 - val_loss: 30.5822 - val_xy_loss: 27.0462 - val_floor_loss: 3.5360 - val_xy_mse: 27.0462 - val_floor_mse: 3.5360\n",
            "Epoch 19/1000\n",
            "1614/1614 [==============================] - 160s 99ms/step - loss: 20.3999 - xy_loss: 16.8668 - floor_loss: 3.5332 - xy_mse: 16.8668 - floor_mse: 3.5332 - val_loss: 22.6646 - val_xy_loss: 19.1287 - val_floor_loss: 3.5360 - val_xy_mse: 19.1287 - val_floor_mse: 3.5360\n",
            "Epoch 20/1000\n",
            "1614/1614 [==============================] - 161s 100ms/step - loss: 19.6754 - xy_loss: 16.1381 - floor_loss: 3.5373 - xy_mse: 16.1381 - floor_mse: 3.5373 - val_loss: 25.6675 - val_xy_loss: 22.1315 - val_floor_loss: 3.5360 - val_xy_mse: 22.1315 - val_floor_mse: 3.5360\n",
            "Epoch 21/1000\n",
            "1614/1614 [==============================] - 163s 101ms/step - loss: 19.2744 - xy_loss: 15.7239 - floor_loss: 3.5506 - xy_mse: 15.7239 - floor_mse: 3.5506 - val_loss: 27.5718 - val_xy_loss: 24.0358 - val_floor_loss: 3.5360 - val_xy_mse: 24.0358 - val_floor_mse: 3.5360\n",
            "Epoch 22/1000\n",
            "1614/1614 [==============================] - 165s 102ms/step - loss: 18.7321 - xy_loss: 15.1630 - floor_loss: 3.5691 - xy_mse: 15.1630 - floor_mse: 3.5691 - val_loss: 25.1199 - val_xy_loss: 21.5839 - val_floor_loss: 3.5360 - val_xy_mse: 21.5839 - val_floor_mse: 3.5360\n",
            "\n",
            "Epoch 00022: ReduceLROnPlateau reducing learning rate to 0.0014999999664723873.\n",
            "Epoch 23/1000\n",
            "1614/1614 [==============================] - 164s 102ms/step - loss: 16.2249 - xy_loss: 12.6844 - floor_loss: 3.5405 - xy_mse: 12.6844 - floor_mse: 3.5405 - val_loss: 22.0549 - val_xy_loss: 18.5189 - val_floor_loss: 3.5360 - val_xy_mse: 18.5189 - val_floor_mse: 3.5360\n",
            "Epoch 24/1000\n",
            "1614/1614 [==============================] - 164s 101ms/step - loss: 15.1439 - xy_loss: 11.6010 - floor_loss: 3.5430 - xy_mse: 11.6010 - floor_mse: 3.5430 - val_loss: 22.0208 - val_xy_loss: 18.4849 - val_floor_loss: 3.5360 - val_xy_mse: 18.4849 - val_floor_mse: 3.5360\n",
            "Epoch 25/1000\n",
            "1614/1614 [==============================] - 164s 102ms/step - loss: 14.7303 - xy_loss: 11.1949 - floor_loss: 3.5354 - xy_mse: 11.1949 - floor_mse: 3.5354 - val_loss: 22.1338 - val_xy_loss: 18.5979 - val_floor_loss: 3.5360 - val_xy_mse: 18.5979 - val_floor_mse: 3.5360\n",
            "Epoch 26/1000\n",
            "1614/1614 [==============================] - 165s 102ms/step - loss: 14.3598 - xy_loss: 10.8416 - floor_loss: 3.5182 - xy_mse: 10.8416 - floor_mse: 3.5182 - val_loss: 21.4728 - val_xy_loss: 17.9368 - val_floor_loss: 3.5360 - val_xy_mse: 17.9368 - val_floor_mse: 3.5360\n",
            "Epoch 27/1000\n",
            "1614/1614 [==============================] - 164s 101ms/step - loss: 14.1279 - xy_loss: 10.6099 - floor_loss: 3.5180 - xy_mse: 10.6099 - floor_mse: 3.5180 - val_loss: 20.6616 - val_xy_loss: 17.1256 - val_floor_loss: 3.5360 - val_xy_mse: 17.1256 - val_floor_mse: 3.5360\n",
            "Epoch 28/1000\n",
            "1614/1614 [==============================] - 162s 100ms/step - loss: 14.0373 - xy_loss: 10.5023 - floor_loss: 3.5350 - xy_mse: 10.5023 - floor_mse: 3.5350 - val_loss: 21.5423 - val_xy_loss: 18.0064 - val_floor_loss: 3.5360 - val_xy_mse: 18.0064 - val_floor_mse: 3.5360\n",
            "Epoch 29/1000\n",
            "1614/1614 [==============================] - 162s 100ms/step - loss: 13.8746 - xy_loss: 10.3376 - floor_loss: 3.5369 - xy_mse: 10.3376 - floor_mse: 3.5369 - val_loss: 24.5046 - val_xy_loss: 20.9687 - val_floor_loss: 3.5360 - val_xy_mse: 20.9687 - val_floor_mse: 3.5360\n",
            "Epoch 30/1000\n",
            "1614/1614 [==============================] - 162s 100ms/step - loss: 13.5505 - xy_loss: 9.9934 - floor_loss: 3.5571 - xy_mse: 9.9934 - floor_mse: 3.5571 - val_loss: 20.9888 - val_xy_loss: 17.4528 - val_floor_loss: 3.5360 - val_xy_mse: 17.4528 - val_floor_mse: 3.5360\n",
            "\n",
            "Epoch 00030: ReduceLROnPlateau reducing learning rate to 0.00045000000391155477.\n",
            "Epoch 31/1000\n",
            "1614/1614 [==============================] - 164s 101ms/step - loss: 12.9383 - xy_loss: 9.4243 - floor_loss: 3.5140 - xy_mse: 9.4243 - floor_mse: 3.5140 - val_loss: 20.2854 - val_xy_loss: 16.7494 - val_floor_loss: 3.5360 - val_xy_mse: 16.7494 - val_floor_mse: 3.5360\n",
            "Epoch 32/1000\n",
            "1614/1614 [==============================] - 167s 104ms/step - loss: 12.6212 - xy_loss: 9.0817 - floor_loss: 3.5395 - xy_mse: 9.0817 - floor_mse: 3.5395 - val_loss: 23.0319 - val_xy_loss: 19.4960 - val_floor_loss: 3.5360 - val_xy_mse: 19.4960 - val_floor_mse: 3.5360\n",
            "Epoch 33/1000\n",
            "1614/1614 [==============================] - 165s 102ms/step - loss: 12.5119 - xy_loss: 8.9703 - floor_loss: 3.5416 - xy_mse: 8.9703 - floor_mse: 3.5416 - val_loss: 21.8212 - val_xy_loss: 18.2853 - val_floor_loss: 3.5360 - val_xy_mse: 18.2853 - val_floor_mse: 3.5360\n",
            "Epoch 34/1000\n",
            "1614/1614 [==============================] - 163s 101ms/step - loss: 12.3863 - xy_loss: 8.8665 - floor_loss: 3.5197 - xy_mse: 8.8665 - floor_mse: 3.5197 - val_loss: 21.1912 - val_xy_loss: 17.6552 - val_floor_loss: 3.5360 - val_xy_mse: 17.6552 - val_floor_mse: 3.5360\n",
            "\n",
            "Epoch 00034: ReduceLROnPlateau reducing learning rate to 0.00013499999768100678.\n",
            "Epoch 35/1000\n",
            "1614/1614 [==============================] - 164s 101ms/step - loss: 12.2308 - xy_loss: 8.6879 - floor_loss: 3.5428 - xy_mse: 8.6879 - floor_mse: 3.5428 - val_loss: 21.4925 - val_xy_loss: 17.9565 - val_floor_loss: 3.5360 - val_xy_mse: 17.9565 - val_floor_mse: 3.5360\n",
            "Epoch 36/1000\n",
            "1614/1614 [==============================] - 163s 101ms/step - loss: 12.3007 - xy_loss: 8.7513 - floor_loss: 3.5495 - xy_mse: 8.7513 - floor_mse: 3.5495 - val_loss: 21.1373 - val_xy_loss: 17.6013 - val_floor_loss: 3.5360 - val_xy_mse: 17.6013 - val_floor_mse: 3.5360\n",
            "Epoch 37/1000\n",
            "1614/1614 [==============================] - 165s 102ms/step - loss: 12.2189 - xy_loss: 8.6704 - floor_loss: 3.5485 - xy_mse: 8.6704 - floor_mse: 3.5485 - val_loss: 20.7535 - val_xy_loss: 17.2175 - val_floor_loss: 3.5360 - val_xy_mse: 17.2175 - val_floor_mse: 3.5360\n",
            "\n",
            "Epoch 00037: ReduceLROnPlateau reducing learning rate to 4.049999843118712e-05.\n",
            "Epoch 38/1000\n",
            "1614/1614 [==============================] - 167s 103ms/step - loss: 12.1236 - xy_loss: 8.5993 - floor_loss: 3.5243 - xy_mse: 8.5993 - floor_mse: 3.5243 - val_loss: 20.8342 - val_xy_loss: 17.2982 - val_floor_loss: 3.5360 - val_xy_mse: 17.2982 - val_floor_mse: 3.5360\n",
            "fold 0: mean position error 26.387222407523332\n",
            "Epoch 1/1000\n",
            "1614/1614 [==============================] - 168s 102ms/step - loss: 1706.6429 - xy_loss: 1703.1065 - floor_loss: 3.5364 - xy_mse: 1703.1065 - floor_mse: 3.5364 - val_loss: 78.6311 - val_xy_loss: 75.0952 - val_floor_loss: 3.5358 - val_xy_mse: 75.0952 - val_floor_mse: 3.5358\n",
            "Epoch 2/1000\n",
            "1614/1614 [==============================] - 162s 100ms/step - loss: 155.8640 - xy_loss: 152.3243 - floor_loss: 3.5398 - xy_mse: 152.3243 - floor_mse: 3.5398 - val_loss: 59.2099 - val_xy_loss: 55.6740 - val_floor_loss: 3.5358 - val_xy_mse: 55.6740 - val_floor_mse: 3.5358\n",
            "Epoch 3/1000\n",
            "1614/1614 [==============================] - 162s 100ms/step - loss: 125.8465 - xy_loss: 122.3164 - floor_loss: 3.5300 - xy_mse: 122.3164 - floor_mse: 3.5300 - val_loss: 51.9861 - val_xy_loss: 48.4502 - val_floor_loss: 3.5358 - val_xy_mse: 48.4502 - val_floor_mse: 3.5358\n",
            "Epoch 4/1000\n",
            "1614/1614 [==============================] - 162s 100ms/step - loss: 108.5787 - xy_loss: 105.0646 - floor_loss: 3.5142 - xy_mse: 105.0646 - floor_mse: 3.5142 - val_loss: 54.7830 - val_xy_loss: 51.2471 - val_floor_loss: 3.5358 - val_xy_mse: 51.2471 - val_floor_mse: 3.5358\n",
            "Epoch 5/1000\n",
            "1614/1614 [==============================] - 164s 102ms/step - loss: 87.4976 - xy_loss: 83.9413 - floor_loss: 3.5564 - xy_mse: 83.9413 - floor_mse: 3.5564 - val_loss: 41.2179 - val_xy_loss: 37.6821 - val_floor_loss: 3.5358 - val_xy_mse: 37.6821 - val_floor_mse: 3.5358\n",
            "Epoch 6/1000\n",
            "1614/1614 [==============================] - 165s 102ms/step - loss: 70.2979 - xy_loss: 66.7683 - floor_loss: 3.5296 - xy_mse: 66.7683 - floor_mse: 3.5296 - val_loss: 37.2207 - val_xy_loss: 33.6849 - val_floor_loss: 3.5358 - val_xy_mse: 33.6849 - val_floor_mse: 3.5358\n",
            "Epoch 7/1000\n",
            "1614/1614 [==============================] - 161s 99ms/step - loss: 54.6171 - xy_loss: 51.0713 - floor_loss: 3.5458 - xy_mse: 51.0713 - floor_mse: 3.5458 - val_loss: 39.4660 - val_xy_loss: 35.9302 - val_floor_loss: 3.5358 - val_xy_mse: 35.9302 - val_floor_mse: 3.5358\n",
            "Epoch 8/1000\n",
            "1614/1614 [==============================] - 160s 99ms/step - loss: 46.3663 - xy_loss: 42.8398 - floor_loss: 3.5266 - xy_mse: 42.8398 - floor_mse: 3.5266 - val_loss: 29.9396 - val_xy_loss: 26.4037 - val_floor_loss: 3.5358 - val_xy_mse: 26.4037 - val_floor_mse: 3.5358\n",
            "Epoch 9/1000\n",
            "1614/1614 [==============================] - 160s 99ms/step - loss: 40.3206 - xy_loss: 36.7882 - floor_loss: 3.5324 - xy_mse: 36.7882 - floor_mse: 3.5324 - val_loss: 35.3098 - val_xy_loss: 31.7740 - val_floor_loss: 3.5358 - val_xy_mse: 31.7740 - val_floor_mse: 3.5358\n",
            "Epoch 10/1000\n",
            "1614/1614 [==============================] - 158s 98ms/step - loss: 34.9787 - xy_loss: 31.4522 - floor_loss: 3.5265 - xy_mse: 31.4522 - floor_mse: 3.5265 - val_loss: 31.6114 - val_xy_loss: 28.0756 - val_floor_loss: 3.5358 - val_xy_mse: 28.0756 - val_floor_mse: 3.5358\n",
            "Epoch 11/1000\n",
            "1614/1614 [==============================] - 161s 100ms/step - loss: 32.1821 - xy_loss: 28.6520 - floor_loss: 3.5301 - xy_mse: 28.6520 - floor_mse: 3.5301 - val_loss: 26.7431 - val_xy_loss: 23.2073 - val_floor_loss: 3.5358 - val_xy_mse: 23.2073 - val_floor_mse: 3.5358\n",
            "Epoch 12/1000\n",
            "1614/1614 [==============================] - 159s 98ms/step - loss: 29.0408 - xy_loss: 25.4959 - floor_loss: 3.5449 - xy_mse: 25.4959 - floor_mse: 3.5449 - val_loss: 26.0770 - val_xy_loss: 22.5412 - val_floor_loss: 3.5358 - val_xy_mse: 22.5412 - val_floor_mse: 3.5358\n",
            "Epoch 13/1000\n",
            "1614/1614 [==============================] - 159s 99ms/step - loss: 27.0486 - xy_loss: 23.4971 - floor_loss: 3.5514 - xy_mse: 23.4971 - floor_mse: 3.5514 - val_loss: 28.2389 - val_xy_loss: 24.7030 - val_floor_loss: 3.5358 - val_xy_mse: 24.7030 - val_floor_mse: 3.5358\n",
            "Epoch 14/1000\n",
            "1614/1614 [==============================] - 159s 99ms/step - loss: 25.4261 - xy_loss: 21.9246 - floor_loss: 3.5014 - xy_mse: 21.9246 - floor_mse: 3.5014 - val_loss: 25.6961 - val_xy_loss: 22.1602 - val_floor_loss: 3.5358 - val_xy_mse: 22.1602 - val_floor_mse: 3.5358\n",
            "Epoch 15/1000\n",
            "1614/1614 [==============================] - 159s 99ms/step - loss: 24.1940 - xy_loss: 20.6678 - floor_loss: 3.5262 - xy_mse: 20.6678 - floor_mse: 3.5262 - val_loss: 24.2107 - val_xy_loss: 20.6748 - val_floor_loss: 3.5358 - val_xy_mse: 20.6748 - val_floor_mse: 3.5358\n",
            "Epoch 16/1000\n",
            "1614/1614 [==============================] - 160s 99ms/step - loss: 23.1241 - xy_loss: 19.5873 - floor_loss: 3.5368 - xy_mse: 19.5873 - floor_mse: 3.5368 - val_loss: 24.4081 - val_xy_loss: 20.8722 - val_floor_loss: 3.5358 - val_xy_mse: 20.8722 - val_floor_mse: 3.5358\n",
            "Epoch 17/1000\n",
            "1614/1614 [==============================] - 161s 99ms/step - loss: 22.2401 - xy_loss: 18.6958 - floor_loss: 3.5443 - xy_mse: 18.6958 - floor_mse: 3.5443 - val_loss: 24.6286 - val_xy_loss: 21.0927 - val_floor_loss: 3.5358 - val_xy_mse: 21.0927 - val_floor_mse: 3.5358\n",
            "Epoch 18/1000\n",
            "1614/1614 [==============================] - 157s 97ms/step - loss: 22.1497 - xy_loss: 18.6008 - floor_loss: 3.5489 - xy_mse: 18.6008 - floor_mse: 3.5489 - val_loss: 24.1097 - val_xy_loss: 20.5739 - val_floor_loss: 3.5358 - val_xy_mse: 20.5739 - val_floor_mse: 3.5358\n",
            "Epoch 19/1000\n",
            "1614/1614 [==============================] - 162s 100ms/step - loss: 20.4950 - xy_loss: 16.9620 - floor_loss: 3.5331 - xy_mse: 16.9620 - floor_mse: 3.5331 - val_loss: 22.2896 - val_xy_loss: 18.7537 - val_floor_loss: 3.5358 - val_xy_mse: 18.7537 - val_floor_mse: 3.5358\n",
            "Epoch 20/1000\n",
            "1614/1614 [==============================] - 158s 98ms/step - loss: 20.0296 - xy_loss: 16.4921 - floor_loss: 3.5375 - xy_mse: 16.4921 - floor_mse: 3.5375 - val_loss: 639588.1875 - val_xy_loss: 639584.6875 - val_floor_loss: 3.5358 - val_xy_mse: 639584.6875 - val_floor_mse: 3.5358\n",
            "Epoch 21/1000\n",
            "1614/1614 [==============================] - 163s 101ms/step - loss: 19.5293 - xy_loss: 15.9787 - floor_loss: 3.5506 - xy_mse: 15.9787 - floor_mse: 3.5506 - val_loss: 407048.6875 - val_xy_loss: 407045.1250 - val_floor_loss: 3.5358 - val_xy_mse: 407045.1250 - val_floor_mse: 3.5358\n",
            "Epoch 22/1000\n",
            "1614/1614 [==============================] - 161s 100ms/step - loss: 19.0441 - xy_loss: 15.4753 - floor_loss: 3.5688 - xy_mse: 15.4753 - floor_mse: 3.5688 - val_loss: 24.1317 - val_xy_loss: 20.5958 - val_floor_loss: 3.5358 - val_xy_mse: 20.5958 - val_floor_mse: 3.5358\n",
            "\n",
            "Epoch 00022: ReduceLROnPlateau reducing learning rate to 0.0014999999664723873.\n",
            "Epoch 23/1000\n",
            "1614/1614 [==============================] - 159s 99ms/step - loss: 16.2660 - xy_loss: 12.7258 - floor_loss: 3.5402 - xy_mse: 12.7258 - floor_mse: 3.5402 - val_loss: 2015.2509 - val_xy_loss: 2011.7150 - val_floor_loss: 3.5358 - val_xy_mse: 2011.7150 - val_floor_mse: 3.5358\n",
            "Epoch 24/1000\n",
            "1614/1614 [==============================] - 163s 101ms/step - loss: 15.3320 - xy_loss: 11.7892 - floor_loss: 3.5429 - xy_mse: 11.7892 - floor_mse: 3.5429 - val_loss: 42.3771 - val_xy_loss: 38.8412 - val_floor_loss: 3.5358 - val_xy_mse: 38.8412 - val_floor_mse: 3.5358\n",
            "Epoch 25/1000\n",
            "1614/1614 [==============================] - 158s 98ms/step - loss: 14.8744 - xy_loss: 11.3387 - floor_loss: 3.5356 - xy_mse: 11.3387 - floor_mse: 3.5356 - val_loss: 158869.4219 - val_xy_loss: 158865.7656 - val_floor_loss: 3.5358 - val_xy_mse: 158865.7656 - val_floor_mse: 3.5358\n",
            "\n",
            "Epoch 00025: ReduceLROnPlateau reducing learning rate to 0.00045000000391155477.\n",
            "Epoch 26/1000\n",
            "1614/1614 [==============================] - 164s 101ms/step - loss: 13.9137 - xy_loss: 10.3955 - floor_loss: 3.5182 - xy_mse: 10.3955 - floor_mse: 3.5182 - val_loss: 22561.2285 - val_xy_loss: 22557.6953 - val_floor_loss: 3.5358 - val_xy_mse: 22557.6953 - val_floor_mse: 3.5358\n",
            "fold 1: mean position error 26.89422410272757\n",
            "Epoch 1/1000\n",
            "1614/1614 [==============================] - 163s 100ms/step - loss: 1806.1883 - xy_loss: 1802.6526 - floor_loss: 3.5361 - xy_mse: 1802.6526 - floor_mse: 3.5361 - val_loss: 81.1564 - val_xy_loss: 77.6198 - val_floor_loss: 3.5366 - val_xy_mse: 77.6198 - val_floor_mse: 3.5366\n",
            "Epoch 2/1000\n",
            "1614/1614 [==============================] - 158s 98ms/step - loss: 173.5292 - xy_loss: 169.9897 - floor_loss: 3.5395 - xy_mse: 169.9897 - floor_mse: 3.5395 - val_loss: 65.2421 - val_xy_loss: 61.7055 - val_floor_loss: 3.5366 - val_xy_mse: 61.7055 - val_floor_mse: 3.5366\n",
            "Epoch 3/1000\n",
            "1614/1614 [==============================] - 160s 99ms/step - loss: 137.6409 - xy_loss: 134.1112 - floor_loss: 3.5298 - xy_mse: 134.1112 - floor_mse: 3.5298 - val_loss: 56.9607 - val_xy_loss: 53.4241 - val_floor_loss: 3.5366 - val_xy_mse: 53.4241 - val_floor_mse: 3.5366\n",
            "Epoch 4/1000\n",
            "1614/1614 [==============================] - 155s 96ms/step - loss: 114.6206 - xy_loss: 111.1066 - floor_loss: 3.5140 - xy_mse: 111.1066 - floor_mse: 3.5140 - val_loss: 55.1053 - val_xy_loss: 51.5687 - val_floor_loss: 3.5366 - val_xy_mse: 51.5687 - val_floor_mse: 3.5366\n",
            "Epoch 5/1000\n",
            "1614/1614 [==============================] - 161s 100ms/step - loss: 92.9240 - xy_loss: 89.3677 - floor_loss: 3.5563 - xy_mse: 89.3677 - floor_mse: 3.5563 - val_loss: 39.9572 - val_xy_loss: 36.4206 - val_floor_loss: 3.5366 - val_xy_mse: 36.4206 - val_floor_mse: 3.5366\n",
            "Epoch 6/1000\n",
            "1614/1614 [==============================] - 155s 96ms/step - loss: 75.1652 - xy_loss: 71.6358 - floor_loss: 3.5294 - xy_mse: 71.6358 - floor_mse: 3.5294 - val_loss: 38.4582 - val_xy_loss: 34.9216 - val_floor_loss: 3.5366 - val_xy_mse: 34.9216 - val_floor_mse: 3.5366\n",
            "Epoch 7/1000\n",
            "1614/1614 [==============================] - 163s 101ms/step - loss: 56.8752 - xy_loss: 53.3296 - floor_loss: 3.5456 - xy_mse: 53.3296 - floor_mse: 3.5456 - val_loss: 38.4897 - val_xy_loss: 34.9531 - val_floor_loss: 3.5366 - val_xy_mse: 34.9531 - val_floor_mse: 3.5366\n",
            "Epoch 8/1000\n",
            "1614/1614 [==============================] - 157s 98ms/step - loss: 46.6183 - xy_loss: 43.0918 - floor_loss: 3.5264 - xy_mse: 43.0918 - floor_mse: 3.5264 - val_loss: 32.8663 - val_xy_loss: 29.3296 - val_floor_loss: 3.5366 - val_xy_mse: 29.3296 - val_floor_mse: 3.5366\n",
            "Epoch 9/1000\n",
            "1614/1614 [==============================] - 158s 98ms/step - loss: 39.6469 - xy_loss: 36.1148 - floor_loss: 3.5321 - xy_mse: 36.1148 - floor_mse: 3.5321 - val_loss: 31.3212 - val_xy_loss: 27.7846 - val_floor_loss: 3.5366 - val_xy_mse: 27.7846 - val_floor_mse: 3.5366\n",
            "Epoch 10/1000\n",
            "1614/1614 [==============================] - 160s 99ms/step - loss: 34.0857 - xy_loss: 30.5595 - floor_loss: 3.5263 - xy_mse: 30.5595 - floor_mse: 3.5263 - val_loss: 30.4645 - val_xy_loss: 26.9279 - val_floor_loss: 3.5366 - val_xy_mse: 26.9279 - val_floor_mse: 3.5366\n",
            "Epoch 11/1000\n",
            "1614/1614 [==============================] - 156s 96ms/step - loss: 31.3671 - xy_loss: 27.8370 - floor_loss: 3.5301 - xy_mse: 27.8370 - floor_mse: 3.5301 - val_loss: 30.5481 - val_xy_loss: 27.0115 - val_floor_loss: 3.5366 - val_xy_mse: 27.0115 - val_floor_mse: 3.5366\n",
            "Epoch 12/1000\n",
            "1614/1614 [==============================] - 161s 100ms/step - loss: 28.8385 - xy_loss: 25.2940 - floor_loss: 3.5445 - xy_mse: 25.2940 - floor_mse: 3.5445 - val_loss: 26.3874 - val_xy_loss: 22.8508 - val_floor_loss: 3.5366 - val_xy_mse: 22.8508 - val_floor_mse: 3.5366\n",
            "Epoch 13/1000\n",
            "1614/1614 [==============================] - 155s 96ms/step - loss: 26.3072 - xy_loss: 22.7560 - floor_loss: 3.5511 - xy_mse: 22.7560 - floor_mse: 3.5511 - val_loss: 29.7017 - val_xy_loss: 26.1651 - val_floor_loss: 3.5366 - val_xy_mse: 26.1651 - val_floor_mse: 3.5366\n",
            "Epoch 14/1000\n",
            "1614/1614 [==============================] - 161s 100ms/step - loss: 25.1735 - xy_loss: 21.6723 - floor_loss: 3.5012 - xy_mse: 21.6723 - floor_mse: 3.5012 - val_loss: 26.5608 - val_xy_loss: 23.0242 - val_floor_loss: 3.5366 - val_xy_mse: 23.0242 - val_floor_mse: 3.5366\n",
            "Epoch 15/1000\n",
            "1614/1614 [==============================] - 155s 96ms/step - loss: 23.5718 - xy_loss: 20.0457 - floor_loss: 3.5261 - xy_mse: 20.0457 - floor_mse: 3.5261 - val_loss: 30.2327 - val_xy_loss: 26.6961 - val_floor_loss: 3.5366 - val_xy_mse: 26.6961 - val_floor_mse: 3.5366\n",
            "\n",
            "Epoch 00015: ReduceLROnPlateau reducing learning rate to 0.0014999999664723873.\n",
            "Epoch 16/1000\n",
            "1614/1614 [==============================] - 162s 100ms/step - loss: 19.8847 - xy_loss: 16.3480 - floor_loss: 3.5367 - xy_mse: 16.3480 - floor_mse: 3.5367 - val_loss: 27.1026 - val_xy_loss: 23.5660 - val_floor_loss: 3.5366 - val_xy_mse: 23.5660 - val_floor_mse: 3.5366\n",
            "Epoch 17/1000\n",
            "1614/1614 [==============================] - 160s 99ms/step - loss: 18.0204 - xy_loss: 14.4763 - floor_loss: 3.5440 - xy_mse: 14.4763 - floor_mse: 3.5440 - val_loss: 22.8958 - val_xy_loss: 19.3592 - val_floor_loss: 3.5366 - val_xy_mse: 19.3592 - val_floor_mse: 3.5366\n",
            "Epoch 18/1000\n",
            "1614/1614 [==============================] - 156s 97ms/step - loss: 17.3853 - xy_loss: 13.8367 - floor_loss: 3.5486 - xy_mse: 13.8367 - floor_mse: 3.5486 - val_loss: 21.0932 - val_xy_loss: 17.5565 - val_floor_loss: 3.5366 - val_xy_mse: 17.5565 - val_floor_mse: 3.5366\n",
            "Epoch 19/1000\n",
            "1614/1614 [==============================] - 162s 100ms/step - loss: 16.8636 - xy_loss: 13.3307 - floor_loss: 3.5329 - xy_mse: 13.3307 - floor_mse: 3.5329 - val_loss: 20.9085 - val_xy_loss: 17.3719 - val_floor_loss: 3.5366 - val_xy_mse: 17.3719 - val_floor_mse: 3.5366\n",
            "Epoch 20/1000\n",
            "1614/1614 [==============================] - 156s 97ms/step - loss: 16.5623 - xy_loss: 13.0250 - floor_loss: 3.5373 - xy_mse: 13.0250 - floor_mse: 3.5373 - val_loss: 20.7115 - val_xy_loss: 17.1749 - val_floor_loss: 3.5366 - val_xy_mse: 17.1749 - val_floor_mse: 3.5366\n",
            "Epoch 21/1000\n",
            "1614/1614 [==============================] - 162s 100ms/step - loss: 16.2059 - xy_loss: 12.6554 - floor_loss: 3.5505 - xy_mse: 12.6554 - floor_mse: 3.5505 - val_loss: 21.0119 - val_xy_loss: 17.4753 - val_floor_loss: 3.5366 - val_xy_mse: 17.4753 - val_floor_mse: 3.5366\n",
            "Epoch 22/1000\n",
            "1614/1614 [==============================] - 156s 97ms/step - loss: 15.9254 - xy_loss: 12.3567 - floor_loss: 3.5687 - xy_mse: 12.3567 - floor_mse: 3.5687 - val_loss: 20.8827 - val_xy_loss: 17.3461 - val_floor_loss: 3.5366 - val_xy_mse: 17.3461 - val_floor_mse: 3.5366\n",
            "Epoch 23/1000\n",
            "1614/1614 [==============================] - 163s 101ms/step - loss: 15.4861 - xy_loss: 11.9461 - floor_loss: 3.5400 - xy_mse: 11.9461 - floor_mse: 3.5400 - val_loss: 20.6355 - val_xy_loss: 17.0988 - val_floor_loss: 3.5366 - val_xy_mse: 17.0988 - val_floor_mse: 3.5366\n",
            "Epoch 24/1000\n",
            "1614/1614 [==============================] - 156s 96ms/step - loss: 15.3148 - xy_loss: 11.7721 - floor_loss: 3.5427 - xy_mse: 11.7721 - floor_mse: 3.5427 - val_loss: 27.1424 - val_xy_loss: 23.6057 - val_floor_loss: 3.5366 - val_xy_mse: 23.6057 - val_floor_mse: 3.5366\n",
            "Epoch 25/1000\n",
            "1614/1614 [==============================] - 162s 101ms/step - loss: 15.1738 - xy_loss: 11.6385 - floor_loss: 3.5353 - xy_mse: 11.6385 - floor_mse: 3.5353 - val_loss: 22.1783 - val_xy_loss: 18.6417 - val_floor_loss: 3.5366 - val_xy_mse: 18.6417 - val_floor_mse: 3.5366\n",
            "Epoch 26/1000\n",
            "1614/1614 [==============================] - 164s 102ms/step - loss: 14.9276 - xy_loss: 11.4096 - floor_loss: 3.5180 - xy_mse: 11.4096 - floor_mse: 3.5180 - val_loss: 23.8314 - val_xy_loss: 20.2947 - val_floor_loss: 3.5366 - val_xy_mse: 20.2947 - val_floor_mse: 3.5366\n",
            "\n",
            "Epoch 00026: ReduceLROnPlateau reducing learning rate to 0.00045000000391155477.\n",
            "Epoch 27/1000\n",
            "1614/1614 [==============================] - 157s 97ms/step - loss: 13.9658 - xy_loss: 10.4478 - floor_loss: 3.5180 - xy_mse: 10.4478 - floor_mse: 3.5180 - val_loss: 19.7598 - val_xy_loss: 16.2232 - val_floor_loss: 3.5366 - val_xy_mse: 16.2232 - val_floor_mse: 3.5366\n",
            "Epoch 28/1000\n",
            "1614/1614 [==============================] - 163s 101ms/step - loss: 13.7725 - xy_loss: 10.2379 - floor_loss: 3.5346 - xy_mse: 10.2379 - floor_mse: 3.5346 - val_loss: 28.0456 - val_xy_loss: 24.5090 - val_floor_loss: 3.5366 - val_xy_mse: 24.5090 - val_floor_mse: 3.5366\n",
            "Epoch 29/1000\n",
            "1614/1614 [==============================] - 155s 96ms/step - loss: 13.6457 - xy_loss: 10.1088 - floor_loss: 3.5369 - xy_mse: 10.1088 - floor_mse: 3.5369 - val_loss: 26.6040 - val_xy_loss: 23.0674 - val_floor_loss: 3.5366 - val_xy_mse: 23.0674 - val_floor_mse: 3.5366\n",
            "Epoch 30/1000\n",
            "1614/1614 [==============================] - 163s 101ms/step - loss: 13.4103 - xy_loss: 9.8531 - floor_loss: 3.5573 - xy_mse: 9.8531 - floor_mse: 3.5573 - val_loss: 31.5377 - val_xy_loss: 28.0011 - val_floor_loss: 3.5366 - val_xy_mse: 28.0011 - val_floor_mse: 3.5366\n",
            "\n",
            "Epoch 00030: ReduceLROnPlateau reducing learning rate to 0.00013499999768100678.\n",
            "Epoch 31/1000\n",
            "1614/1614 [==============================] - 155s 96ms/step - loss: 13.3013 - xy_loss: 9.7876 - floor_loss: 3.5137 - xy_mse: 9.7876 - floor_mse: 3.5137 - val_loss: 19.5103 - val_xy_loss: 15.9737 - val_floor_loss: 3.5366 - val_xy_mse: 15.9737 - val_floor_mse: 3.5366\n",
            "Epoch 32/1000\n",
            "1614/1614 [==============================] - 162s 101ms/step - loss: 13.0984 - xy_loss: 9.5590 - floor_loss: 3.5394 - xy_mse: 9.5590 - floor_mse: 3.5394 - val_loss: 19.6719 - val_xy_loss: 16.1352 - val_floor_loss: 3.5366 - val_xy_mse: 16.1352 - val_floor_mse: 3.5366\n",
            "Epoch 33/1000\n",
            "1614/1614 [==============================] - 155s 96ms/step - loss: 13.0767 - xy_loss: 9.5352 - floor_loss: 3.5414 - xy_mse: 9.5352 - floor_mse: 3.5414 - val_loss: 19.6923 - val_xy_loss: 16.1557 - val_floor_loss: 3.5366 - val_xy_mse: 16.1557 - val_floor_mse: 3.5366\n",
            "Epoch 34/1000\n",
            "1614/1614 [==============================] - 163s 101ms/step - loss: 13.0037 - xy_loss: 9.4845 - floor_loss: 3.5192 - xy_mse: 9.4845 - floor_mse: 3.5192 - val_loss: 19.9386 - val_xy_loss: 16.4019 - val_floor_loss: 3.5366 - val_xy_mse: 16.4019 - val_floor_mse: 3.5366\n",
            "\n",
            "Epoch 00034: ReduceLROnPlateau reducing learning rate to 4.049999843118712e-05.\n",
            "Epoch 35/1000\n",
            "1614/1614 [==============================] - 155s 96ms/step - loss: 12.9696 - xy_loss: 9.4272 - floor_loss: 3.5424 - xy_mse: 9.4272 - floor_mse: 3.5424 - val_loss: 31.0286 - val_xy_loss: 27.4919 - val_floor_loss: 3.5366 - val_xy_mse: 27.4919 - val_floor_mse: 3.5366\n",
            "Epoch 36/1000\n",
            "1614/1614 [==============================] - 163s 101ms/step - loss: 13.0595 - xy_loss: 9.5104 - floor_loss: 3.5491 - xy_mse: 9.5104 - floor_mse: 3.5491 - val_loss: 38.5428 - val_xy_loss: 35.0062 - val_floor_loss: 3.5366 - val_xy_mse: 35.0062 - val_floor_mse: 3.5366\n",
            "Epoch 37/1000\n",
            "1614/1614 [==============================] - 159s 98ms/step - loss: 13.0221 - xy_loss: 9.4738 - floor_loss: 3.5483 - xy_mse: 9.4738 - floor_mse: 3.5483 - val_loss: 19.6515 - val_xy_loss: 16.1149 - val_floor_loss: 3.5366 - val_xy_mse: 16.1149 - val_floor_mse: 3.5366\n",
            "\n",
            "Epoch 00037: ReduceLROnPlateau reducing learning rate to 1.2149999747634865e-05.\n",
            "Epoch 38/1000\n",
            "1614/1614 [==============================] - 159s 99ms/step - loss: 12.9592 - xy_loss: 9.4352 - floor_loss: 3.5241 - xy_mse: 9.4352 - floor_mse: 3.5241 - val_loss: 19.8590 - val_xy_loss: 16.3224 - val_floor_loss: 3.5366 - val_xy_mse: 16.3224 - val_floor_mse: 3.5366\n",
            "fold 2: mean position error 26.4196654933879\n",
            "Epoch 1/1000\n",
            "1614/1614 [==============================] - 171s 104ms/step - loss: 1893.1160 - xy_loss: 1889.5807 - floor_loss: 3.5361 - xy_mse: 1889.5807 - floor_mse: 3.5361 - val_loss: 85.2645 - val_xy_loss: 81.7278 - val_floor_loss: 3.5367 - val_xy_mse: 81.7278 - val_floor_mse: 3.5367\n",
            "Epoch 2/1000\n",
            "1614/1614 [==============================] - 156s 96ms/step - loss: 171.3791 - xy_loss: 167.8396 - floor_loss: 3.5394 - xy_mse: 167.8396 - floor_mse: 3.5394 - val_loss: 61.4240 - val_xy_loss: 57.8872 - val_floor_loss: 3.5367 - val_xy_mse: 57.8872 - val_floor_mse: 3.5367\n",
            "Epoch 3/1000\n",
            "1614/1614 [==============================] - 164s 102ms/step - loss: 132.3664 - xy_loss: 128.8366 - floor_loss: 3.5298 - xy_mse: 128.8366 - floor_mse: 3.5298 - val_loss: 74.5818 - val_xy_loss: 71.0451 - val_floor_loss: 3.5367 - val_xy_mse: 71.0451 - val_floor_mse: 3.5367\n",
            "Epoch 4/1000\n",
            "1614/1614 [==============================] - 157s 97ms/step - loss: 110.7224 - xy_loss: 107.2084 - floor_loss: 3.5140 - xy_mse: 107.2084 - floor_mse: 3.5140 - val_loss: 45.2436 - val_xy_loss: 41.7069 - val_floor_loss: 3.5367 - val_xy_mse: 41.7069 - val_floor_mse: 3.5367\n",
            "Epoch 5/1000\n",
            "1614/1614 [==============================] - 165s 102ms/step - loss: 89.5422 - xy_loss: 85.9858 - floor_loss: 3.5564 - xy_mse: 85.9858 - floor_mse: 3.5564 - val_loss: 37.6296 - val_xy_loss: 34.0929 - val_floor_loss: 3.5367 - val_xy_mse: 34.0929 - val_floor_mse: 3.5367\n",
            "Epoch 6/1000\n",
            "1614/1614 [==============================] - 158s 98ms/step - loss: 71.9514 - xy_loss: 68.4220 - floor_loss: 3.5294 - xy_mse: 68.4220 - floor_mse: 3.5294 - val_loss: 37.4144 - val_xy_loss: 33.8777 - val_floor_loss: 3.5367 - val_xy_mse: 33.8777 - val_floor_mse: 3.5367\n",
            "Epoch 7/1000\n",
            "1614/1614 [==============================] - 157s 97ms/step - loss: 54.1557 - xy_loss: 50.6099 - floor_loss: 3.5458 - xy_mse: 50.6099 - floor_mse: 3.5458 - val_loss: 31.0817 - val_xy_loss: 27.5450 - val_floor_loss: 3.5367 - val_xy_mse: 27.5450 - val_floor_mse: 3.5367\n",
            "Epoch 8/1000\n",
            "1614/1614 [==============================] - 169s 104ms/step - loss: 44.5296 - xy_loss: 41.0031 - floor_loss: 3.5265 - xy_mse: 41.0031 - floor_mse: 3.5265 - val_loss: 30.3189 - val_xy_loss: 26.7822 - val_floor_loss: 3.5367 - val_xy_mse: 26.7822 - val_floor_mse: 3.5367\n",
            "Epoch 9/1000\n",
            "1614/1614 [==============================] - 158s 98ms/step - loss: 37.3769 - xy_loss: 33.8448 - floor_loss: 3.5320 - xy_mse: 33.8448 - floor_mse: 3.5320 - val_loss: 30.1005 - val_xy_loss: 26.5638 - val_floor_loss: 3.5367 - val_xy_mse: 26.5638 - val_floor_mse: 3.5367\n",
            "Epoch 10/1000\n",
            "1614/1614 [==============================] - 157s 97ms/step - loss: 32.3799 - xy_loss: 28.8537 - floor_loss: 3.5263 - xy_mse: 28.8537 - floor_mse: 3.5263 - val_loss: 28.6235 - val_xy_loss: 25.0868 - val_floor_loss: 3.5367 - val_xy_mse: 25.0868 - val_floor_mse: 3.5367\n",
            "Epoch 11/1000\n",
            "1614/1614 [==============================] - 156s 97ms/step - loss: 29.8175 - xy_loss: 26.2874 - floor_loss: 3.5301 - xy_mse: 26.2874 - floor_mse: 3.5301 - val_loss: 27.3437 - val_xy_loss: 23.8070 - val_floor_loss: 3.5367 - val_xy_mse: 23.8070 - val_floor_mse: 3.5367\n",
            "Epoch 12/1000\n",
            "1614/1614 [==============================] - 166s 103ms/step - loss: 27.5136 - xy_loss: 23.9691 - floor_loss: 3.5445 - xy_mse: 23.9691 - floor_mse: 3.5445 - val_loss: 27.7227 - val_xy_loss: 24.1860 - val_floor_loss: 3.5367 - val_xy_mse: 24.1860 - val_floor_mse: 3.5367\n",
            "Epoch 13/1000\n",
            "1614/1614 [==============================] - 157s 97ms/step - loss: 24.9796 - xy_loss: 21.4284 - floor_loss: 3.5511 - xy_mse: 21.4284 - floor_mse: 3.5511 - val_loss: 27.5136 - val_xy_loss: 23.9769 - val_floor_loss: 3.5367 - val_xy_mse: 23.9769 - val_floor_mse: 3.5367\n",
            "Epoch 14/1000\n",
            "1614/1614 [==============================] - 157s 97ms/step - loss: 23.7044 - xy_loss: 20.2032 - floor_loss: 3.5012 - xy_mse: 20.2032 - floor_mse: 3.5012 - val_loss: 25.8562 - val_xy_loss: 22.3195 - val_floor_loss: 3.5367 - val_xy_mse: 22.3195 - val_floor_mse: 3.5367\n",
            "Epoch 15/1000\n",
            "1614/1614 [==============================] - 167s 103ms/step - loss: 22.2741 - xy_loss: 18.7482 - floor_loss: 3.5259 - xy_mse: 18.7482 - floor_mse: 3.5259 - val_loss: 24.9806 - val_xy_loss: 21.4439 - val_floor_loss: 3.5367 - val_xy_mse: 21.4439 - val_floor_mse: 3.5367\n",
            "Epoch 16/1000\n",
            "1614/1614 [==============================] - 157s 97ms/step - loss: 21.2057 - xy_loss: 17.6691 - floor_loss: 3.5366 - xy_mse: 17.6691 - floor_mse: 3.5366 - val_loss: 23.6263 - val_xy_loss: 20.0896 - val_floor_loss: 3.5367 - val_xy_mse: 20.0896 - val_floor_mse: 3.5367\n",
            "Epoch 17/1000\n",
            "1614/1614 [==============================] - 157s 97ms/step - loss: 20.4739 - xy_loss: 16.9297 - floor_loss: 3.5441 - xy_mse: 16.9297 - floor_mse: 3.5441 - val_loss: 23.0013 - val_xy_loss: 19.4645 - val_floor_loss: 3.5367 - val_xy_mse: 19.4645 - val_floor_mse: 3.5367\n",
            "Epoch 18/1000\n",
            "1614/1614 [==============================] - 161s 100ms/step - loss: 20.3626 - xy_loss: 16.8138 - floor_loss: 3.5488 - xy_mse: 16.8138 - floor_mse: 3.5488 - val_loss: 24.4476 - val_xy_loss: 20.9108 - val_floor_loss: 3.5367 - val_xy_mse: 20.9108 - val_floor_mse: 3.5367\n",
            "Epoch 19/1000\n",
            "1614/1614 [==============================] - 167s 103ms/step - loss: 18.8601 - xy_loss: 15.3273 - floor_loss: 3.5327 - xy_mse: 15.3273 - floor_mse: 3.5327 - val_loss: 23.3802 - val_xy_loss: 19.8435 - val_floor_loss: 3.5367 - val_xy_mse: 19.8435 - val_floor_mse: 3.5367\n",
            "Epoch 20/1000\n",
            "1614/1614 [==============================] - 164s 102ms/step - loss: 18.6360 - xy_loss: 15.0989 - floor_loss: 3.5371 - xy_mse: 15.0989 - floor_mse: 3.5371 - val_loss: 30.9939 - val_xy_loss: 27.4572 - val_floor_loss: 3.5367 - val_xy_mse: 27.4572 - val_floor_mse: 3.5367\n",
            "\n",
            "Epoch 00020: ReduceLROnPlateau reducing learning rate to 0.0014999999664723873.\n",
            "Epoch 21/1000\n",
            "1614/1614 [==============================] - 160s 99ms/step - loss: 15.9323 - xy_loss: 12.3818 - floor_loss: 3.5506 - xy_mse: 12.3818 - floor_mse: 3.5506 - val_loss: 26.9241 - val_xy_loss: 23.3874 - val_floor_loss: 3.5367 - val_xy_mse: 23.3874 - val_floor_mse: 3.5367\n",
            "Epoch 22/1000\n",
            "1614/1614 [==============================] - 171s 106ms/step - loss: 14.7774 - xy_loss: 11.2085 - floor_loss: 3.5689 - xy_mse: 11.2085 - floor_mse: 3.5689 - val_loss: 22.8126 - val_xy_loss: 19.2759 - val_floor_loss: 3.5367 - val_xy_mse: 19.2759 - val_floor_mse: 3.5367\n",
            "Epoch 23/1000\n",
            "1614/1614 [==============================] - 161s 100ms/step - loss: 14.2134 - xy_loss: 10.6734 - floor_loss: 3.5400 - xy_mse: 10.6734 - floor_mse: 3.5400 - val_loss: 27.5696 - val_xy_loss: 24.0329 - val_floor_loss: 3.5367 - val_xy_mse: 24.0329 - val_floor_mse: 3.5367\n",
            "Epoch 24/1000\n",
            "1614/1614 [==============================] - 160s 99ms/step - loss: 13.8880 - xy_loss: 10.3453 - floor_loss: 3.5428 - xy_mse: 10.3453 - floor_mse: 3.5428 - val_loss: 25.5586 - val_xy_loss: 22.0219 - val_floor_loss: 3.5367 - val_xy_mse: 22.0219 - val_floor_mse: 3.5367\n",
            "Epoch 25/1000\n",
            "1614/1614 [==============================] - 171s 106ms/step - loss: 13.5772 - xy_loss: 10.0418 - floor_loss: 3.5354 - xy_mse: 10.0418 - floor_mse: 3.5354 - val_loss: 23.2514 - val_xy_loss: 19.7146 - val_floor_loss: 3.5367 - val_xy_mse: 19.7146 - val_floor_mse: 3.5367\n",
            "\n",
            "Epoch 00025: ReduceLROnPlateau reducing learning rate to 0.00045000000391155477.\n",
            "Epoch 26/1000\n",
            "1614/1614 [==============================] - 160s 99ms/step - loss: 12.7758 - xy_loss: 9.2579 - floor_loss: 3.5179 - xy_mse: 9.2579 - floor_mse: 3.5179 - val_loss: 22.6053 - val_xy_loss: 19.0685 - val_floor_loss: 3.5367 - val_xy_mse: 19.0685 - val_floor_mse: 3.5367\n",
            "Epoch 27/1000\n",
            "1614/1614 [==============================] - 161s 100ms/step - loss: 12.5257 - xy_loss: 9.0076 - floor_loss: 3.5181 - xy_mse: 9.0076 - floor_mse: 3.5181 - val_loss: 21.2592 - val_xy_loss: 17.7225 - val_floor_loss: 3.5367 - val_xy_mse: 17.7225 - val_floor_mse: 3.5367\n",
            "Epoch 28/1000\n",
            "1614/1614 [==============================] - 161s 100ms/step - loss: 12.4536 - xy_loss: 8.9189 - floor_loss: 3.5347 - xy_mse: 8.9189 - floor_mse: 3.5347 - val_loss: 22.8450 - val_xy_loss: 19.3083 - val_floor_loss: 3.5367 - val_xy_mse: 19.3083 - val_floor_mse: 3.5367\n",
            "Epoch 29/1000\n",
            "1614/1614 [==============================] - 171s 106ms/step - loss: 12.3893 - xy_loss: 8.8524 - floor_loss: 3.5369 - xy_mse: 8.8524 - floor_mse: 3.5369 - val_loss: 22.1267 - val_xy_loss: 18.5899 - val_floor_loss: 3.5367 - val_xy_mse: 18.5899 - val_floor_mse: 3.5367\n",
            "Epoch 30/1000\n",
            "1614/1614 [==============================] - 160s 99ms/step - loss: 12.2556 - xy_loss: 8.6985 - floor_loss: 3.5571 - xy_mse: 8.6985 - floor_mse: 3.5571 - val_loss: 22.4225 - val_xy_loss: 18.8857 - val_floor_loss: 3.5367 - val_xy_mse: 18.8857 - val_floor_mse: 3.5367\n",
            "\n",
            "Epoch 00030: ReduceLROnPlateau reducing learning rate to 0.00013499999768100678.\n",
            "Epoch 31/1000\n",
            "1614/1614 [==============================] - 160s 99ms/step - loss: 12.0502 - xy_loss: 8.5365 - floor_loss: 3.5137 - xy_mse: 8.5365 - floor_mse: 3.5137 - val_loss: 20.9307 - val_xy_loss: 17.3940 - val_floor_loss: 3.5367 - val_xy_mse: 17.3940 - val_floor_mse: 3.5367\n",
            "Epoch 32/1000\n",
            "1614/1614 [==============================] - 174s 108ms/step - loss: 12.0315 - xy_loss: 8.4922 - floor_loss: 3.5393 - xy_mse: 8.4922 - floor_mse: 3.5393 - val_loss: 20.9087 - val_xy_loss: 17.3720 - val_floor_loss: 3.5367 - val_xy_mse: 17.3720 - val_floor_mse: 3.5367\n",
            "Epoch 33/1000\n",
            "1614/1614 [==============================] - 160s 99ms/step - loss: 11.9630 - xy_loss: 8.4216 - floor_loss: 3.5414 - xy_mse: 8.4216 - floor_mse: 3.5414 - val_loss: 20.5917 - val_xy_loss: 17.0550 - val_floor_loss: 3.5367 - val_xy_mse: 17.0550 - val_floor_mse: 3.5367\n",
            "Epoch 34/1000\n",
            "1614/1614 [==============================] - 161s 100ms/step - loss: 11.8649 - xy_loss: 8.3457 - floor_loss: 3.5191 - xy_mse: 8.3457 - floor_mse: 3.5191 - val_loss: 21.7886 - val_xy_loss: 18.2519 - val_floor_loss: 3.5367 - val_xy_mse: 18.2519 - val_floor_mse: 3.5367\n",
            "Epoch 35/1000\n",
            "1614/1614 [==============================] - 166s 103ms/step - loss: 11.8249 - xy_loss: 8.2826 - floor_loss: 3.5424 - xy_mse: 8.2826 - floor_mse: 3.5424 - val_loss: 22.9836 - val_xy_loss: 19.4469 - val_floor_loss: 3.5367 - val_xy_mse: 19.4469 - val_floor_mse: 3.5367\n",
            "Epoch 36/1000\n",
            "1614/1614 [==============================] - 165s 102ms/step - loss: 11.8958 - xy_loss: 8.3466 - floor_loss: 3.5492 - xy_mse: 8.3466 - floor_mse: 3.5492 - val_loss: 22.4152 - val_xy_loss: 18.8785 - val_floor_loss: 3.5367 - val_xy_mse: 18.8785 - val_floor_mse: 3.5367\n",
            "\n",
            "Epoch 00036: ReduceLROnPlateau reducing learning rate to 4.049999843118712e-05.\n",
            "Epoch 37/1000\n",
            "1614/1614 [==============================] - 160s 99ms/step - loss: 11.8328 - xy_loss: 8.2845 - floor_loss: 3.5483 - xy_mse: 8.2845 - floor_mse: 3.5483 - val_loss: 20.7880 - val_xy_loss: 17.2513 - val_floor_loss: 3.5367 - val_xy_mse: 17.2513 - val_floor_mse: 3.5367\n",
            "Epoch 38/1000\n",
            "1614/1614 [==============================] - 160s 99ms/step - loss: 11.7949 - xy_loss: 8.2708 - floor_loss: 3.5240 - xy_mse: 8.2708 - floor_mse: 3.5240 - val_loss: 21.5667 - val_xy_loss: 18.0299 - val_floor_loss: 3.5367 - val_xy_mse: 18.0299 - val_floor_mse: 3.5367\n",
            "Epoch 39/1000\n",
            "1614/1614 [==============================] - 171s 106ms/step - loss: 11.7719 - xy_loss: 8.2458 - floor_loss: 3.5260 - xy_mse: 8.2458 - floor_mse: 3.5260 - val_loss: 21.4472 - val_xy_loss: 17.9105 - val_floor_loss: 3.5367 - val_xy_mse: 17.9105 - val_floor_mse: 3.5367\n",
            "\n",
            "Epoch 00039: ReduceLROnPlateau reducing learning rate to 1.2149999747634865e-05.\n",
            "Epoch 40/1000\n",
            "1614/1614 [==============================] - 160s 99ms/step - loss: 11.7457 - xy_loss: 8.1935 - floor_loss: 3.5521 - xy_mse: 8.1935 - floor_mse: 3.5521 - val_loss: 20.6557 - val_xy_loss: 17.1190 - val_floor_loss: 3.5367 - val_xy_mse: 17.1190 - val_floor_mse: 3.5367\n",
            "fold 3: mean position error 26.351880194035818\n",
            "*+*+*+*+*+*+*+*+*+*+*+*+*+*+*+*+*+*+*+*+*+*+*+*+*+*+*+*+*+*+*+*+*+*+*+*+*+*+*+*+\n",
            "mean position error 59.649612853761845\n",
            "*+*+*+*+*+*+*+*+*+*+*+*+*+*+*+*+*+*+*+*+*+*+*+*+*+*+*+*+*+*+*+*+*+*+*+*+*+*+*+*+\n"
          ],
          "name": "stdout"
        }
      ]
    },
    {
      "cell_type": "code",
      "metadata": {
        "execution": {
          "iopub.execute_input": "2021-05-08T17:09:54.397406Z",
          "iopub.status.busy": "2021-05-08T17:09:54.394697Z",
          "iopub.status.idle": "2021-05-08T17:09:54.400570Z",
          "shell.execute_reply": "2021-05-08T17:09:54.400022Z"
        },
        "papermill": {
          "duration": 54.848621,
          "end_time": "2021-05-08T17:09:54.400704",
          "exception": false,
          "start_time": "2021-05-08T17:08:59.552083",
          "status": "completed"
        },
        "tags": [],
        "id": "studied-inspiration"
      },
      "source": [
        "all_preds = pd.concat(predictions)\n",
        "all_preds = all_preds.reindex(subm.index)"
      ],
      "id": "studied-inspiration",
      "execution_count": null,
      "outputs": []
    },
    {
      "cell_type": "markdown",
      "metadata": {
        "papermill": {
          "duration": 54.6295,
          "end_time": "2021-05-08T17:11:44.029836",
          "exception": false,
          "start_time": "2021-05-08T17:10:49.400336",
          "status": "completed"
        },
        "tags": [],
        "id": "circular-handle"
      },
      "source": [
        "In the report we have discussed that there is a better way to predict floor than to use any machine learning models, thus we will replace the predicted floors here"
      ],
      "id": "circular-handle"
    },
    {
      "cell_type": "code",
      "metadata": {
        "execution": {
          "iopub.execute_input": "2021-05-08T17:13:33.567258Z",
          "iopub.status.busy": "2021-05-08T17:13:33.566469Z",
          "iopub.status.idle": "2021-05-08T17:13:33.630626Z",
          "shell.execute_reply": "2021-05-08T17:13:33.629577Z"
        },
        "papermill": {
          "duration": 54.84854,
          "end_time": "2021-05-08T17:13:33.630833",
          "exception": false,
          "start_time": "2021-05-08T17:12:38.782293",
          "status": "completed"
        },
        "tags": [],
        "id": "subject-hepatitis"
      },
      "source": [
        "simple_accurate_99 = pd.read_csv('../input/simple-99-accurate-floor-model/submission.csv')\n",
        "\n",
        "all_preds['floor'] = simple_accurate_99['floor'].values"
      ],
      "id": "subject-hepatitis",
      "execution_count": null,
      "outputs": []
    },
    {
      "cell_type": "code",
      "metadata": {
        "execution": {
          "iopub.execute_input": "2021-05-08T17:15:27.702601Z",
          "iopub.status.busy": "2021-05-08T17:15:27.701737Z",
          "iopub.status.idle": "2021-05-08T17:15:27.755553Z",
          "shell.execute_reply": "2021-05-08T17:15:27.754863Z"
        },
        "papermill": {
          "duration": 55.009741,
          "end_time": "2021-05-08T17:15:27.755720",
          "exception": false,
          "start_time": "2021-05-08T17:14:32.745979",
          "status": "completed"
        },
        "tags": [],
        "id": "ranging-bulletin"
      },
      "source": [
        "all_preds.to_csv('submission.csv')"
      ],
      "id": "ranging-bulletin",
      "execution_count": null,
      "outputs": []
    }
  ]
}