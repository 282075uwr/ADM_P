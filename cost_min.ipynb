{
  "nbformat": 4,
  "nbformat_minor": 5,
  "metadata": {
    "kernelspec": {
      "display_name": "Python 3",
      "language": "python",
      "name": "python3"
    },
    "language_info": {
      "codemirror_mode": {
        "name": "ipython",
        "version": 3
      },
      "file_extension": ".py",
      "mimetype": "text/x-python",
      "name": "python",
      "nbconvert_exporter": "python",
      "pygments_lexer": "ipython3",
      "version": "3.7.9"
    },
    "papermill": {
      "default_parameters": {},
      "duration": 469.16974,
      "end_time": "2021-05-15T12:52:56.563405",
      "environment_variables": {},
      "exception": null,
      "input_path": "__notebook__.ipynb",
      "output_path": "__notebook__.ipynb",
      "parameters": {},
      "start_time": "2021-05-15T12:45:07.393665",
      "version": "2.3.2"
    },
    "colab": {
      "name": "indoor-post-processing-by-cost-minimizati-dd3c4c_O.ipynb",
      "provenance": []
    }
  },
  "cells": [
    {
      "cell_type": "markdown",
      "metadata": {
        "papermill": {
          "duration": 0.009386,
          "end_time": "2021-05-15T12:45:13.921161",
          "exception": false,
          "start_time": "2021-05-15T12:45:13.911775",
          "status": "completed"
        },
        "tags": [],
        "id": "accompanied-rings"
      },
      "source": [
        "To combine machine learning (wifi features) predictions with sensor data (acceleration, attitude heading),\n",
        "I defined cost function as follows,\n",
        "$$\n",
        "L(X_{1:N}) = \\sum_{i=1}^{N} \\alpha_i \\| X_i - \\hat{X}_i \\|^2 + \\sum_{i=1}^{N-1} \\beta_i \\| (X_{i+1} - X_{i}) - \\Delta \\hat{X}_i \\|^2\n",
        "$$\n",
        "where $\\hat{X}_i$ is absolute position predicted by machine learning and $\\Delta \\hat{X}_i$ is relative position predicted by sensor data.\n",
        "\n",
        "Since the cost function is quadratic, the optimal $X$ is solved by linear equation $Q X = c$\n",
        ", where $Q$ and $c$ are derived from above cost function.\n",
        "Because the matrix $Q$ is tridiagonal,\n",
        "each machine learning prediction is corrected by *all* machine learning predictions and sensor data.\n",
        "\n",
        "The optimal hyperparameters ($\\alpha$ and $\\beta$) can be estimated by expected error of machine learning and sensor data,\n",
        "or just tuned by public score."
      ],
      "id": "accompanied-rings"
    },
    {
      "cell_type": "code",
      "metadata": {
        "_cell_guid": "b1076dfc-b9ad-4769-8c92-a6c4dae69d19",
        "_uuid": "8f2839f25d086af736a60e9eeb907d3b93b6e0e5",
        "execution": {
          "iopub.execute_input": "2021-05-15T12:45:13.955511Z",
          "iopub.status.busy": "2021-05-15T12:45:13.954797Z",
          "iopub.status.idle": "2021-05-15T12:46:06.542348Z",
          "shell.execute_reply": "2021-05-15T12:46:06.541214Z"
        },
        "papermill": {
          "duration": 52.600617,
          "end_time": "2021-05-15T12:46:06.542599",
          "exception": false,
          "start_time": "2021-05-15T12:45:13.941982",
          "status": "completed"
        },
        "tags": [],
        "id": "wooden-simulation",
        "outputId": "209459ce-27ef-4033-f319-8295aa6f1789"
      },
      "source": [
        "!git clone --depth 1 https://github.com/location-competition/indoor-location-competition-20 indoor_location_competition_20\n",
        "!rm -rf indoor_location_competition_20/data"
      ],
      "id": "wooden-simulation",
      "execution_count": null,
      "outputs": [
        {
          "output_type": "stream",
          "text": [
            "Cloning into 'indoor_location_competition_20'...\r\n",
            "remote: Enumerating objects: 1169, done.\u001b[K\r\n",
            "remote: Counting objects: 100% (1169/1169), done.\u001b[K\r\n",
            "remote: Compressing objects: 100% (1131/1131), done.\u001b[K\r\n",
            "remote: Total 1169 (delta 38), reused 1167 (delta 38), pack-reused 0\u001b[K\r\n",
            "Receiving objects: 100% (1169/1169), 411.37 MiB | 18.85 MiB/s, done.\r\n",
            "Resolving deltas: 100% (38/38), done.\r\n",
            "Checking out files: 100% (1145/1145), done.\r\n"
          ],
          "name": "stdout"
        }
      ]
    },
    {
      "cell_type": "code",
      "metadata": {
        "execution": {
          "iopub.execute_input": "2021-05-15T12:46:06.871431Z",
          "iopub.status.busy": "2021-05-15T12:46:06.870706Z",
          "iopub.status.idle": "2021-05-15T12:46:07.985739Z",
          "shell.execute_reply": "2021-05-15T12:46:07.984775Z"
        },
        "papermill": {
          "duration": 1.366745,
          "end_time": "2021-05-15T12:46:07.985921",
          "exception": false,
          "start_time": "2021-05-15T12:46:06.619176",
          "status": "completed"
        },
        "tags": [],
        "id": "related-trash"
      },
      "source": [
        "import multiprocessing\n",
        "import numpy as np\n",
        "import pandas as pd\n",
        "import scipy.interpolate\n",
        "import scipy.sparse\n",
        "from tqdm import tqdm\n",
        "\n",
        "from indoor_location_competition_20.io_f import read_data_file\n",
        "import indoor_location_competition_20.compute_f as compute_f"
      ],
      "id": "related-trash",
      "execution_count": null,
      "outputs": []
    },
    {
      "cell_type": "code",
      "metadata": {
        "execution": {
          "iopub.execute_input": "2021-05-15T12:46:08.135626Z",
          "iopub.status.busy": "2021-05-15T12:46:08.134884Z",
          "iopub.status.idle": "2021-05-15T12:46:08.138399Z",
          "shell.execute_reply": "2021-05-15T12:46:08.137714Z"
        },
        "papermill": {
          "duration": 0.079862,
          "end_time": "2021-05-15T12:46:08.138547",
          "exception": false,
          "start_time": "2021-05-15T12:46:08.058685",
          "status": "completed"
        },
        "tags": [],
        "id": "medieval-maryland"
      },
      "source": [
        "INPUT_PATH = '../input/indoor-location-navigation'"
      ],
      "id": "medieval-maryland",
      "execution_count": null,
      "outputs": []
    },
    {
      "cell_type": "code",
      "metadata": {
        "execution": {
          "iopub.execute_input": "2021-05-15T12:46:08.289079Z",
          "iopub.status.busy": "2021-05-15T12:46:08.288405Z",
          "iopub.status.idle": "2021-05-15T12:46:08.291804Z",
          "shell.execute_reply": "2021-05-15T12:46:08.291217Z"
        },
        "papermill": {
          "duration": 0.081905,
          "end_time": "2021-05-15T12:46:08.291957",
          "exception": false,
          "start_time": "2021-05-15T12:46:08.210052",
          "status": "completed"
        },
        "tags": [],
        "id": "suspended-toner"
      },
      "source": [
        "def compute_rel_positions(acce_datas, ahrs_datas):\n",
        "    step_timestamps, step_indexs, step_acce_max_mins = compute_f.compute_steps(acce_datas)\n",
        "    headings = compute_f.compute_headings(ahrs_datas)\n",
        "    stride_lengths = compute_f.compute_stride_length(step_acce_max_mins)\n",
        "    step_headings = compute_f.compute_step_heading(step_timestamps, headings)\n",
        "    rel_positions = compute_f.compute_rel_positions(stride_lengths, step_headings)\n",
        "    return rel_positions"
      ],
      "id": "suspended-toner",
      "execution_count": null,
      "outputs": []
    },
    {
      "cell_type": "code",
      "metadata": {
        "execution": {
          "iopub.execute_input": "2021-05-15T12:46:08.440603Z",
          "iopub.status.busy": "2021-05-15T12:46:08.439579Z",
          "iopub.status.idle": "2021-05-15T12:46:08.453419Z",
          "shell.execute_reply": "2021-05-15T12:46:08.453976Z"
        },
        "papermill": {
          "duration": 0.088799,
          "end_time": "2021-05-15T12:46:08.454151",
          "exception": false,
          "start_time": "2021-05-15T12:46:08.365352",
          "status": "completed"
        },
        "tags": [],
        "id": "close-schema"
      },
      "source": [
        "def correct_path(args):\n",
        "    path, path_df = args\n",
        "    \n",
        "    T_ref  = path_df['timestamp'].values\n",
        "    xy_hat = path_df[['x', 'y']].values\n",
        "    \n",
        "    example = read_data_file(f'{INPUT_PATH}/test/{path}.txt')\n",
        "    rel_positions = compute_rel_positions(example.acce, example.ahrs)\n",
        "    if T_ref[-1] > rel_positions[-1, 0]:\n",
        "        rel_positions = [np.array([[0, 0, 0]]), rel_positions, np.array([[T_ref[-1], 0, 0]])]\n",
        "    else:\n",
        "        rel_positions = [np.array([[0, 0, 0]]), rel_positions]\n",
        "    rel_positions = np.concatenate(rel_positions)\n",
        "    \n",
        "    T_rel = rel_positions[:, 0]\n",
        "    delta_xy_hat = np.diff(scipy.interpolate.interp1d(T_rel, np.cumsum(rel_positions[:, 1:3], axis=0), axis=0)(T_ref), axis=0)\n",
        "\n",
        "    N = xy_hat.shape[0]\n",
        "    delta_t = np.diff(T_ref)\n",
        "    alpha = (8.1)**(-2) * np.ones(N)\n",
        "    beta  = (0.3 + 0.3 * 1e-3 * delta_t)**(-2)\n",
        "    A = scipy.sparse.spdiags(alpha, [0], N, N)\n",
        "    B = scipy.sparse.spdiags( beta, [0], N-1, N-1)\n",
        "    D = scipy.sparse.spdiags(np.stack([-np.ones(N), np.ones(N)]), [0, 1], N-1, N)\n",
        "\n",
        "    Q = A + (D.T @ B @ D)\n",
        "    c = (A @ xy_hat) + (D.T @ (B @ delta_xy_hat))\n",
        "    xy_star = scipy.sparse.linalg.spsolve(Q, c)\n",
        "\n",
        "    return pd.DataFrame({\n",
        "        'site_path_timestamp' : path_df['site_path_timestamp'],\n",
        "        'floor' : path_df['floor'],\n",
        "        'x' : xy_star[:, 0],\n",
        "        'y' : xy_star[:, 1],\n",
        "    })"
      ],
      "id": "close-schema",
      "execution_count": null,
      "outputs": []
    },
    {
      "cell_type": "code",
      "metadata": {
        "execution": {
          "iopub.execute_input": "2021-05-15T12:46:08.600169Z",
          "iopub.status.busy": "2021-05-15T12:46:08.599215Z",
          "iopub.status.idle": "2021-05-15T12:52:55.143616Z",
          "shell.execute_reply": "2021-05-15T12:52:55.142961Z"
        },
        "papermill": {
          "duration": 406.618187,
          "end_time": "2021-05-15T12:52:55.143810",
          "exception": false,
          "start_time": "2021-05-15T12:46:08.525623",
          "status": "completed"
        },
        "tags": [],
        "id": "selected-legislature",
        "outputId": "5fe4973c-7bfd-4424-d4cf-3738d9cf6dda"
      },
      "source": [
        "sub = pd.read_csv('../input/2-3-indoor-navigation-comparative-metho-fdf621/submission.csv')\n",
        "tmp = sub['site_path_timestamp'].apply(lambda s : pd.Series(s.split('_')))\n",
        "sub['site'] = tmp[0]\n",
        "sub['path'] = tmp[1]\n",
        "sub['timestamp'] = tmp[2].astype(float)\n",
        "\n",
        "processes = multiprocessing.cpu_count()\n",
        "with multiprocessing.Pool(processes=processes) as pool:\n",
        "    dfs = pool.imap_unordered(correct_path, sub.groupby('path'))\n",
        "    dfs = tqdm(dfs)\n",
        "    dfs = list(dfs)\n",
        "sub = pd.concat(dfs).sort_values('site_path_timestamp')\n",
        "sub.to_csv('submission.csv', index=False)"
      ],
      "id": "selected-legislature",
      "execution_count": null,
      "outputs": [
        {
          "output_type": "stream",
          "text": [
            "626it [06:43,  1.55it/s]\n"
          ],
          "name": "stderr"
        }
      ]
    },
    {
      "cell_type": "code",
      "metadata": {
        "papermill": {
          "duration": 0.234559,
          "end_time": "2021-05-15T12:52:55.616422",
          "exception": false,
          "start_time": "2021-05-15T12:52:55.381863",
          "status": "completed"
        },
        "tags": [],
        "id": "transparent-peripheral"
      },
      "source": [
        ""
      ],
      "id": "transparent-peripheral",
      "execution_count": null,
      "outputs": []
    }
  ]
}